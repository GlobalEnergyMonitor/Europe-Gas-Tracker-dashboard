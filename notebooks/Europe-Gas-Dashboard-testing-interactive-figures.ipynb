{
 "cells": [
  {
   "cell_type": "code",
   "execution_count": 27,
   "id": "1e35b721-11c4-4b53-a5a6-6ffa8a848f14",
   "metadata": {},
   "outputs": [],
   "source": [
    "import pandas\n",
    "import numpy\n",
    "import pygsheets\n",
    "\n",
    "import geopandas\n",
    "import cartopy\n",
    "import shapely\n",
    "\n",
    "import dash\n",
    "import plotly.express as px\n",
    "#import jupyter_dash\n",
    "import dash_bootstrap_components as dbc"
   ]
  },
  {
   "cell_type": "code",
   "execution_count": 59,
   "id": "691548e9-79fc-4136-bd7d-5180365e7880",
   "metadata": {},
   "outputs": [
    {
     "name": "stderr",
     "output_type": "stream",
     "text": [
      "/Users/baird/miniconda3/envs/gem/lib/python3.9/site-packages/pandas/core/dtypes/cast.py:1990: ShapelyDeprecationWarning:\n",
      "\n",
      "__len__ for multi-part geometries is deprecated and will be removed in Shapely 2.0. Check the length of the `geoms` property instead to get the  number of parts of a multi-part geometry.\n",
      "\n"
     ]
    }
   ],
   "source": [
    "# ****************************************\n",
    "# import pipelines data\n",
    "# ****************************************\n",
    "\n",
    "#credentials_directory = '/Users/baird/Dropbox/_google-api/'\n",
    "gc = pygsheets.authorize(service_account_env_var='GDRIVE_API_CREDENTIALS')\n",
    "spreadsheet = gc.open_by_key('1MX_6I2QW07lFFWMO-k3mjthBlQGFlv5aTMBmvbliYUY')\n",
    "\n",
    "gas_pipes = spreadsheet.worksheet('title', 'Gas pipelines').get_as_df()\n",
    "oil_pipes = spreadsheet.worksheet('title', 'Oil/NGL pipelines').get_as_df()\n",
    "#owners = spreadsheet[2].get_as_df()\n",
    "\n",
    "gas_pipes = gas_pipes.drop('WKTFormat', axis=1) # delete WKTFormat column\n",
    "oil_pipes = oil_pipes.drop('WKTFormat', axis=1)\n",
    "pipes_df_orig = pandas.concat([oil_pipes, gas_pipes], ignore_index=True)\n",
    "# remove empty cells for pipes, owners\n",
    "pipes_df_orig = pipes_df_orig[pipes_df_orig['PipelineName']!='']\n",
    "\n",
    "#get other relevant sheets\n",
    "country_ratios_df = spreadsheet.worksheet('title', 'Country ratios by pipeline').get_as_df()\n",
    "\n",
    "# ****************************************\n",
    "# special cases\n",
    "# ****************************************\n",
    "# as of Feb 22, Nord Stream 2 is \"Idle\" in our data but should probably be \"Construction\"...\n",
    "\n",
    "# force Nigeria-Morocco Pipeline to be Proposed (instead of Construction)\n",
    "country_ratios_df.loc[country_ratios_df.PipelineName=='Nord Stream 2', 'Status'] = 'Construction'\n",
    "pipes_df_orig.loc[pipes_df_orig.PipelineName=='Nord Stream 2', 'Status'] = 'Construction'\n",
    "\n",
    "country_ratios_df.replace('--', numpy.nan, inplace=True)\n",
    "pipes_df_orig.replace('--', numpy.nan, inplace=True)\n",
    "\n",
    "# https://www.gem.wiki/Poland-Ukraine_Interconnector_Gas_Pipeline\n",
    "# our country_ratios code calculates this is half in each country, but it's not\n",
    "country_ratios_df.loc[(country_ratios_df.PipelineName=='Poland-Ukraine Interconnector Gas Pipeline')& \\\n",
    "    (country_ratios_df.Country=='Poland'),'LengthKnownKmByCountry'] = 1.5\n",
    "\n",
    "country_ratios_df.loc[(country_ratios_df.PipelineName=='Poland-Ukraine Interconnector Gas Pipeline')& \\\n",
    "    (country_ratios_df.Country=='Ukraine'),'LengthKnownKmByCountry'] = 99.0\n",
    "\n",
    "# ****************************************\n",
    "# convert routes to geometry objects\n",
    "# ****************************************\n",
    "\n",
    "def convert_gfit_to_linestring(coord_str, pipeline_name):\n",
    "    '''\n",
    "    Takes string from GFIT column of coordinates for a single pipeline,\n",
    "    converts that string into Shapely LineString or MultiLinestring.\n",
    "    '''\n",
    "    #print(coord_str, pipeline_name)\n",
    "    if ':' in coord_str and ';' not in coord_str:\n",
    "        # simple geometry; no branching\n",
    "        # create nested list of lists, separating on colons        \n",
    "        coord_list = coord_str.split(':')\n",
    "        coord_list_tuples = []\n",
    "        # non-branched pipeline (nested list with one level)\n",
    "        # convert nested list of lists to list of tuples\n",
    "        try:\n",
    "            for element in coord_list:\n",
    "                element_tuple = (float(element.split(',')[1]), \n",
    "                                 float(element.split(',')[0]))\n",
    "                coord_list_tuples.append(element_tuple)\n",
    "        except:\n",
    "            print(f\"Exception for {pipeline_name}; element: {element}\") # for db\n",
    "        route_conv = shapely.geometry.LineString(coord_list_tuples)\n",
    "\n",
    "    elif ':' in coord_str and ';' in coord_str:\n",
    "        # create a nested list of lists, separating on semicolons\n",
    "        coord_list = coord_str.split(';')   \n",
    "        # create a second level of nesting, separating on colons\n",
    "        coord_list = [x.split(':') for x in coord_list]\n",
    "        # branched pipeline (nested list with two levels)\n",
    "        route_conv_list_all = []\n",
    "        \n",
    "        for nested_list in coord_list:\n",
    "            coord_list_tuples = []\n",
    "            # process element\n",
    "            try:\n",
    "                for element in nested_list:\n",
    "                    element_tuple = (float(element.split(',')[1]), \n",
    "                                     float(element.split(',')[0]))\n",
    "                    coord_list_tuples.append(element_tuple)\n",
    "            except:\n",
    "                print(f\"Exception for {pipeline_name}; element: {element}\") # for db\n",
    "            # process coord_list_tuples\n",
    "            try:\n",
    "                route_conv_list = shapely.geometry.LineString(coord_list_tuples)\n",
    "                route_conv_list_all.append(route_conv_list)\n",
    "            except:\n",
    "                print(f\"Exception for {pipeline_name}; coord_list_tuples: {coord_list_tuples}\") # for db\n",
    "                pass\n",
    "            \n",
    "        route_conv = shapely.geometry.MultiLineString(route_conv_list_all)\n",
    "        \n",
    "    return route_conv\n",
    "\n",
    "def convert_all_pipelines(df):\n",
    "    \"\"\"\n",
    "    Apply the conversion function to all pipelines in the dataframe.\n",
    "    \"\"\"\n",
    "    # create geometry column with empty strings\n",
    "    #df.assign(ColName='geometry', dtype='str')\n",
    "    df['geometry'] = ''\n",
    "    #print(df['geometry'])\n",
    "    \n",
    "    # filter to keep only pipelines with routes\n",
    "    mask_route = df['Route'].str.contains(',' or ':')\n",
    "    pipes_with_route = df.loc[mask_route]\n",
    "    \n",
    "    for row in pipes_with_route.index:\n",
    "        route_str = df.at[row, 'Route']\n",
    "        pipeline_name = df.at[row, 'PipelineName']\n",
    "        \n",
    "        route_str_converted = convert_gfit_to_linestring(route_str, pipeline_name)\n",
    "    \n",
    "        #print(df.at[row,'ProjectID'])\n",
    "        #print(pipeline_name)\n",
    "        #print(route_str_converted)\n",
    "        \n",
    "        df.at[row, 'geometry'] = route_str_converted   \n",
    "        \n",
    "    return df\n",
    "\n",
    "\n",
    "# code to create a dataframe with WKT formatted geometry\n",
    "no_route_options = [\n",
    "    'Unavailable', \n",
    "    'Capacity expansion only', \n",
    "    'Bidirectionality upgrade only',\n",
    "    'Short route (< 100 km)', \n",
    "    'N/A',\n",
    "    ''\n",
    "]\n",
    "\n",
    "# (1) copy, clean up\n",
    "to_convert_df = pipes_df_orig.copy()\n",
    "to_convert_df = to_convert_df[~to_convert_df['Route'].isin(no_route_options)]\n",
    "\n",
    "# also keep the non-converted ones separate\n",
    "not_converted_df = pipes_df_orig.copy()\n",
    "not_converted_df = not_converted_df[not_converted_df['Route'].isin(no_route_options)]\n",
    "# add a dummy column so that the dimensions match with converted wkt pipelines\n",
    "not_converted_df.assign(ColName='geometry')\n",
    "not_converted_df['geometry'] = [shapely.geometry.MultiLineString()]*not_converted_df.shape[0]\n",
    "not_converted_df.reset_index(drop=True)\n",
    "not_converted_gdf = geopandas.GeoDataFrame(not_converted_df, geometry=not_converted_df['geometry'])\n",
    "\n",
    "# (2) convert all pipelines\n",
    "pipes_df_wkt = convert_all_pipelines(to_convert_df)\n",
    "pipes_df_wkt = pipes_df_wkt.reset_index(drop=True)\n",
    "\n",
    "# (3) store in a GeoDataFrame, attach a projection, transform to a different one\n",
    "pipes_df_wkt_gdf = geopandas.GeoDataFrame(pipes_df_wkt, geometry=pipes_df_wkt['geometry'])\n",
    "pipes_df_wkt_gdf = pipes_df_wkt_gdf.set_crs('epsg:4326')\n",
    "pipes_df_wkt_gdf_4087 = pipes_df_wkt_gdf.to_crs('epsg:4087')\n",
    "\n",
    "pipes_df_converted_routes = pandas.concat([pipes_df_wkt_gdf, not_converted_gdf])\n",
    "pipes_df_converted_routes = pipes_df_converted_routes.reset_index(drop=True)\n",
    "pipes_df_converted_routes.sort_values('ProjectID', inplace=True)\n",
    "\n",
    "pipes_gdf = geopandas.GeoDataFrame(pipes_df_converted_routes, geometry=pipes_df_converted_routes['geometry'])"
   ]
  },
  {
   "cell_type": "code",
   "execution_count": 60,
   "id": "3e7bea68-7197-4e68-950c-1b3434216263",
   "metadata": {},
   "outputs": [
    {
     "name": "stderr",
     "output_type": "stream",
     "text": [
      "/Users/baird/miniconda3/envs/gem/lib/python3.9/site-packages/pandas/core/dtypes/cast.py:118: ShapelyDeprecationWarning:\n",
      "\n",
      "The array interface is deprecated and will no longer work in Shapely 2.0. Convert the '.coords' to a numpy array instead.\n",
      "\n",
      "/Users/baird/miniconda3/envs/gem/lib/python3.9/site-packages/pandas/core/dtypes/cast.py:118: ShapelyDeprecationWarning:\n",
      "\n",
      "The array interface is deprecated and will no longer work in Shapely 2.0. Convert the '.coords' to a numpy array instead.\n",
      "\n"
     ]
    }
   ],
   "source": [
    "# ****************************************\n",
    "# import terminals\n",
    "# ****************************************\n",
    "\n",
    "spreadsheet = gc.open_by_key('1nQChDxZXBaHX53alSXfD0IHpHdxpUSjMALEaR_JNFXE')\n",
    "\n",
    "terms_df_orig = spreadsheet.worksheet('title', 'Terminals').get_as_df()\n",
    "\n",
    "# replace all -- with nans\n",
    "terms_df_orig.replace('--', numpy.nan, inplace=True)\n",
    "# remove oil export terminals\n",
    "terms_df_orig = terms_df_orig.loc[terms_df_orig['Type1']!='Oil']\n",
    "# remove anything without a wiki page\n",
    "terms_df_orig = terms_df_orig.loc[terms_df_orig['Wiki']!='']\n",
    "\n",
    "region_df_orig = spreadsheet.worksheet('title', 'Region dictionary').get_as_df()\n",
    "\n",
    "region_df_eu = region_df_orig.copy()[region_df_orig['EuropeanUnion']=='Yes']\n",
    "region_df_egt = region_df_orig.copy()[region_df_orig['EuroGasTracker']=='Yes']\n",
    "region_df_europe = region_df_orig.copy()[region_df_orig['Region']=='Europe']\n",
    "region_df_touse = region_df_eu.copy()\n",
    "\n",
    "country_list = region_df_touse.Country\n",
    "\n",
    "# ****************************************\n",
    "# convert lat/lon geometry objects\n",
    "# ****************************************\n",
    "\n",
    "# code to create a dataframe with WKT formatted geometry\n",
    "no_lonlat_options = [\n",
    "    'Unknown',\n",
    "    'TBD'\n",
    "]\n",
    "\n",
    "# (1) copy, clean up\n",
    "to_convert_df = terms_df_orig.copy()\n",
    "to_convert_df = to_convert_df[~(to_convert_df['Latitude'].isin(no_lonlat_options)) |\n",
    "                             ~(to_convert_df['Longitude'].isin(no_lonlat_options))]\n",
    "\n",
    "# also keep the non-converted ones separate\n",
    "not_converted_df = terms_df_orig.copy()\n",
    "not_converted_df = not_converted_df[(not_converted_df['Longitude'].isin(no_lonlat_options)) | \n",
    "                                    (not_converted_df['Latitude'].isin(no_lonlat_options))]\n",
    "# add a dummy column so that the dimensions match with converted wkt pipelines\n",
    "not_converted_df.assign(ColName='geometry')\n",
    "not_converted_df['geometry'] = [shapely.geometry.Point()]*not_converted_df.shape[0]\n",
    "not_converted_df.reset_index(drop=True)\n",
    "not_converted_gdf = geopandas.GeoDataFrame(not_converted_df, geometry=not_converted_df['geometry'])\n",
    "\n",
    "# (2) convert all terminals\n",
    "terms_df_converted = to_convert_df.copy()\n",
    "terms_df_converted.assign(ColName='geometry')\n",
    "terms_df_converted['geometry'] = to_convert_df[['Longitude','Latitude']].apply(shapely.geometry.Point, axis=1)\n",
    "terms_df_converted = terms_df_converted.reset_index(drop=True)\n",
    "\n",
    "# # (3) store in a GeoDataFrame, attach a projection, transform to a different one\n",
    "terms_df_gdf = geopandas.GeoDataFrame(terms_df_converted, geometry=terms_df_converted['geometry'])\n",
    "terms_df_gdf = terms_df_gdf.set_crs('epsg:4326')\n",
    "terms_df_gdf_4087 = terms_df_gdf.to_crs('epsg:4087')\n",
    "\n",
    "terms_df_converted_locations = pandas.concat([terms_df_gdf, not_converted_gdf])\n",
    "terms_df_converted_locations = terms_df_converted_locations.reset_index(drop=True)\n",
    "terms_df_converted_locations.sort_values('ComboID', inplace=True)\n",
    "\n",
    "terms_gdf = geopandas.GeoDataFrame(terms_df_converted_locations, geometry=terms_df_converted_locations['geometry'])\n",
    "terms_gdf_region = terms_gdf.loc[terms_gdf['Country'].isin(region_df_touse.Country)]"
   ]
  },
  {
   "cell_type": "code",
   "execution_count": 87,
   "id": "7233a077-babd-4956-826d-449cd03c6575",
   "metadata": {},
   "outputs": [],
   "source": [
    "# ****************************************\n",
    "# figure functions\n",
    "# ****************************************\n",
    "\n",
    "def fig_capacity():\n",
    "\n",
    "    terms_df_capacity_sum = pandas.DataFrame(0, index=country_list, columns=['Pre-construction','Construction'])\n",
    "    terms_df_region = terms_df_orig[(terms_df_orig.Country.isin(region_df_touse.Country))&\n",
    "                                    (terms_df_orig.Status.isin(['Construction','Proposed']))&\n",
    "                                    (terms_df_orig.Facility.isin(['Import']))]\n",
    "\n",
    "    # proposed\n",
    "    terms_df_capacity_sum['Pre-construction'] += terms_df_region.loc[terms_df_region.Status=='Proposed'].groupby(\n",
    "        'Country')['CapacityInBcm/y'].sum()\n",
    "    # construction\n",
    "    terms_df_capacity_sum['Construction'] += terms_df_region.loc[terms_df_region.Status=='Construction'].groupby(\n",
    "        'Country')['CapacityInBcm/y'].sum()\n",
    "\n",
    "    terms_df_capacity_sum.replace(numpy.nan,0,inplace=True)\n",
    "\n",
    "    # reorder for descending values\n",
    "    country_order = terms_df_capacity_sum.sum(axis=1).sort_values(ascending=True).index\n",
    "    terms_df_capacity_sum = terms_df_capacity_sum.reindex(country_order)\n",
    "\n",
    "    # ****************************************\n",
    "\n",
    "    colorscale_touse = 'ylorbr'\n",
    "\n",
    "    bar_dark = px.colors.sample_colorscale(colorscale_touse, 0.9)\n",
    "    bar_light = px.colors.sample_colorscale(colorscale_touse, 0.6)\n",
    "\n",
    "    nbars = terms_df_capacity_sum.index.size\n",
    "\n",
    "    fig = px.bar(terms_df_capacity_sum[['Construction','Pre-construction']], \n",
    "                 color_discrete_sequence=bar_dark+bar_light, \n",
    "                 orientation='h', height=800,\n",
    "                 title='Capacity of planned LNG terminals')\n",
    "\n",
    "    fig.update_layout(\n",
    "        font_family='Helvetica',\n",
    "        font_color=px.colors.sample_colorscale('greys', 0.5)[0],\n",
    "        bargap=0.25,\n",
    "        plot_bgcolor='white',\n",
    "        paper_bgcolor='white',\n",
    "\n",
    "        yaxis_title='country',\n",
    "        xaxis_title='bcm/y',\n",
    "        xaxis={'side':'top'},\n",
    "        title_y=.97,\n",
    "        title_yanchor='top',\n",
    "\n",
    "        legend_title=None,\n",
    "        #legend=dict(yanchor=\"bottom\",y=0.01,xanchor=\"right\",x=0.99,bgcolor='rgba(0,0,0,0)'),\n",
    "        legend=dict(yanchor=\"top\",y=1,xanchor=\"left\",x=1.01,bgcolor='rgba(0,0,0,0)'),\n",
    "    )\n",
    "\n",
    "    fig.update_yaxes(\n",
    "        dtick=1\n",
    "    )\n",
    "\n",
    "    fig.update_xaxes(\n",
    "        gridcolor=px.colors.sample_colorscale('greys', 0.25)[0]\n",
    "    )\n",
    "    \n",
    "    return(fig)\n",
    "\n",
    "def fig_length():\n",
    "\n",
    "    pipes_df_length_sum = pandas.DataFrame(0, index=country_list, columns=['Pre-construction','Construction'])\n",
    "    country_ratios_df_region = country_ratios_df[(country_ratios_df.Country.isin(region_df_touse.Country))&\n",
    "                                                 (country_ratios_df.Status.isin(['Construction','Proposed']))]\n",
    "    \n",
    "    country_ratios_df_region = country_ratios_df[(country_ratios_df.Country.isin(region_df_touse.Country))&\n",
    "                                (country_ratios_df.Status.isin(['Construction','Proposed']))]\n",
    "    \n",
    "    # proposed\n",
    "    pipes_df_length_sum['Pre-construction'] += country_ratios_df_region.loc[country_ratios_df_region.Status=='Proposed'].groupby(\n",
    "        'Country')['MergedKmByCountry'].sum()\n",
    "    # construction\n",
    "    pipes_df_length_sum['Construction'] += country_ratios_df_region.loc[country_ratios_df_region.Status=='Construction'].groupby(\n",
    "        'Country')['MergedKmByCountry'].sum()\n",
    "\n",
    "    pipes_df_length_sum.replace(numpy.nan,0,inplace=True)\n",
    "\n",
    "    # reorder for descending values\n",
    "    country_order = pipes_df_length_sum.sum(axis=1).sort_values(ascending=True).index\n",
    "    pipes_df_length_sum = pipes_df_length_sum.reindex(country_order)\n",
    "\n",
    "    \n",
    "    # ****************************************\n",
    "\n",
    "    colorscale_touse = 'greens'\n",
    "\n",
    "    bar_dark = px.colors.sample_colorscale(colorscale_touse, 0.9)\n",
    "    bar_light = px.colors.sample_colorscale(colorscale_touse, 0.6)\n",
    "\n",
    "    nbars = pipes_df_length_sum.index.size\n",
    "\n",
    "    fig = px.bar(pipes_df_length_sum[['Construction','Pre-construction']], \n",
    "                 color_discrete_sequence=bar_dark+bar_light, \n",
    "                 orientation='h', height=800,\n",
    "                 title='Kilometers of planned gas pipelines')\n",
    "\n",
    "    fig.update_layout(\n",
    "        font_family='Helvetica',\n",
    "        font_color=px.colors.sample_colorscale('greys', 0.5)[0],\n",
    "        bargap=0.25, \n",
    "        plot_bgcolor='white',\n",
    "        paper_bgcolor='white',\n",
    "\n",
    "        yaxis_title='country',\n",
    "        xaxis_title='km',\n",
    "        xaxis={'side':'top'},\n",
    "        title_y=.97,\n",
    "        title_yanchor='top',\n",
    "\n",
    "        legend_title=None,\n",
    "        #legend=dict(yanchor=\"bottom\",y=0.01,xanchor=\"right\",x=0.99,bgcolor='rgba(0,0,0,0)'),\n",
    "        legend=dict(yanchor=\"top\",y=1,xanchor=\"left\",x=1.01,bgcolor='rgba(0,0,0,0)'),\n",
    "    )\n",
    "\n",
    "    fig.update_yaxes(\n",
    "        dtick=1\n",
    "    )\n",
    "\n",
    "    fig.update_xaxes(\n",
    "        gridcolor=px.colors.sample_colorscale('greys', 0.25)[0]\n",
    "    )\n",
    "    \n",
    "    return(fig)\n",
    "\n",
    "def fig_fid():\n",
    "    \n",
    "    terms_df_region = terms_df_orig[(terms_df_orig.Country.isin(region_df_touse.Country))&\n",
    "                                    (terms_df_orig.Status.isin(['Construction','Proposed']))&\n",
    "                                    (terms_df_orig.Facility.isin(['Import']))]\n",
    "    country_ratios_df_region = country_ratios_df[(country_ratios_df.Country.isin(region_df_touse.Country))&\n",
    "                                (country_ratios_df.Status.isin(['Construction','Proposed']))]\n",
    "\n",
    "    projects_df_fid_sum = pandas.DataFrame(0, index=country_list, columns=['Pipelines FID','Terminals FID','Pipelines pre-FID','Terminals pre-FID'])\n",
    "\n",
    "    # Pipelines\n",
    "    projects_df_fid_sum['Pipelines FID'] += country_ratios_df_region[country_ratios_df_region.FID.isin(['FID'])].groupby('Country')['LengthPerCountryFraction'].sum()\n",
    "    projects_df_fid_sum['Pipelines pre-FID'] += country_ratios_df_region[country_ratios_df_region.FID.isin(['Pre-FID'])].groupby('Country')['LengthPerCountryFraction'].sum()\n",
    "    # Terminals\n",
    "    projects_df_fid_sum['Terminals FID'] += terms_df_region.loc[terms_df_region.FID.isin(['FID'])].groupby('Country')['TerminalID'].count()\n",
    "    projects_df_fid_sum['Terminals pre-FID'] += terms_df_region.loc[terms_df_region.FID.isin(['Pre-FID'])].groupby('Country')['TerminalID'].count()\n",
    "\n",
    "    projects_df_fid_sum.replace(numpy.nan,0,inplace=True)\n",
    "\n",
    "    # reorder for descending values\n",
    "    country_order = projects_df_fid_sum.sum(axis=1).sort_values(ascending=True).index\n",
    "    projects_df_fid_sum = projects_df_fid_sum.reindex(country_order)\n",
    "\n",
    "    # ****************************************\n",
    "\n",
    "    colorscale_touse = 'blues'\n",
    "\n",
    "    bar_pipes_dark = px.colors.sample_colorscale(colorscale_touse, 0.9)\n",
    "    bar_pipes_light = px.colors.sample_colorscale(colorscale_touse, 0.7)\n",
    "    bar_terms_dark = px.colors.sample_colorscale(colorscale_touse, 0.5)\n",
    "    bar_terms_light = px.colors.sample_colorscale(colorscale_touse, 0.3)\n",
    "\n",
    "    nbars = projects_df_fid_sum.index.size\n",
    "\n",
    "    fig = px.bar(projects_df_fid_sum[['Pipelines FID','Pipelines pre-FID',\n",
    "                                      'Terminals FID', 'Terminals pre-FID']], \n",
    "                 color_discrete_sequence=bar_pipes_dark+bar_pipes_light+bar_terms_dark+bar_terms_light, \n",
    "                 orientation='h', height=800,\n",
    "                 title='Number of projects at FID or pre-FID')\n",
    "\n",
    "    note = '<i>Note when a pipeline passes through multiple countries, it is divided into fractions that sum to 1.</i>'\n",
    "    fig.add_annotation(x=0, y=-0.1,\n",
    "                       xref='x domain',\n",
    "                       yref='y domain',\n",
    "                       text=note,\n",
    "                       showarrow=False,\n",
    "                       font=dict(size=12))\n",
    "    \n",
    "    fig.update_layout(\n",
    "        font_family='Helvetica',\n",
    "        font_color=px.colors.sample_colorscale('greys', 0.5)[0],\n",
    "        bargap=0.25,\n",
    "        plot_bgcolor='white',\n",
    "        paper_bgcolor='white',\n",
    "\n",
    "        yaxis_title='country',\n",
    "        xaxis_title='number of projects',\n",
    "        xaxis={'side':'top'},\n",
    "        title_y=.97,\n",
    "        title_yanchor='top',\n",
    "\n",
    "        legend_title=None,\n",
    "        #legend=dict(yanchor=\"bottom\",y=0.01,xanchor=\"right\",x=0.99,bgcolor='rgba(0,0,0,0)'),\n",
    "        legend=dict(yanchor=\"top\",y=1,xanchor=\"left\",x=1.01,bgcolor='rgba(0,0,0,0)'),\n",
    "    )\n",
    "\n",
    "    fig.update_yaxes(\n",
    "        dtick=1\n",
    "    )\n",
    "\n",
    "    fig.update_xaxes(\n",
    "        gridcolor=px.colors.sample_colorscale('greys', 0.25)[0]\n",
    "    )\n",
    "\n",
    "    return(fig)\n",
    "\n",
    "def fig_year_counts():\n",
    "    \n",
    "    terms_df_region = terms_df_orig[(terms_df_orig.Country.isin(region_df_touse.Country))&\n",
    "                                    (terms_df_orig.Status.isin(['Cancelled', 'Operating']))&\n",
    "                                    (terms_df_orig.Facility.isin(['Import']))]\n",
    "    country_ratios_df_region = country_ratios_df[(country_ratios_df.Country.isin(region_df_touse.Country))&\n",
    "                                (country_ratios_df.Status.isin(['Cancelled', 'Operating']))]\n",
    "\n",
    "    projects_df_years_sum = pandas.DataFrame(0, index=numpy.arange(1850,2023), columns=['Cancelled pipelines',\n",
    "                                                                                 'Cancelled pipeline km',\n",
    "                                                                                 'Cancelled terminals',\n",
    "                                                                                 'Cancelled terminal capacity',\n",
    "                                                                                 'Operating pipelines',\n",
    "                                                                                 'Operating pipeline km',\n",
    "                                                                                 'Operating terminals',\n",
    "                                                                                 'Operating terminal capacity'])\n",
    "\n",
    "    # Pipelines\n",
    "    projects_df_years_sum['Cancelled pipelines'] += -country_ratios_df_region.loc[country_ratios_df_region.Status=='Cancelled'].groupby('CancelledYear')['LengthPerCountryFraction'].sum()\n",
    "    projects_df_years_sum['Cancelled pipeline km'] += -country_ratios_df_region.loc[country_ratios_df_region.Status=='Cancelled'].groupby('CancelledYear')['MergedKmByCountry'].sum()\n",
    "    # Terminals\n",
    "    projects_df_years_sum['Cancelled terminals'] += -terms_df_region.loc[terms_df_region.Status=='Cancelled'].groupby('CancelledYear')['TerminalID'].count()\n",
    "    projects_df_years_sum['Cancelled terminal capacity'] += -terms_df_region.loc[terms_df_region.Status=='Cancelled'].groupby('CancelledYear')['CapacityInBcm/y'].count()\n",
    "    \n",
    "    # Pipelines\n",
    "    projects_df_years_sum['Operating pipelines'] += country_ratios_df_region.loc[country_ratios_df_region.Status=='Operating'].groupby('StartYearEarliest')['LengthPerCountryFraction'].sum()\n",
    "    projects_df_years_sum['Operating pipeline km'] += country_ratios_df_region.loc[country_ratios_df_region.Status=='Operating'].groupby('StartYearEarliest')['MergedKmByCountry'].sum()\n",
    "    # Terminals\n",
    "    projects_df_years_sum['Operating terminals'] += terms_df_region.loc[terms_df_region.Status=='Operating'].groupby('StartYearEarliest')['TerminalID'].count()\n",
    "    projects_df_years_sum['Operating terminal capacity'] += terms_df_region.loc[terms_df_region.Status=='Operating'].groupby('StartYearEarliest')['CapacityInBcm/y'].count()\n",
    "\n",
    "    #projects_df_cancelled_sum.replace(numpy.nan,0,inplace=True)\n",
    "\n",
    "    # reorder for descending values\n",
    "    #country_order = projects_df_fid_sum.sum(axis=1).sort_values(ascending=True).index\n",
    "    #projects_df_fid_sum = projects_df_fid_sum.reindex(country_order)\n",
    "\n",
    "    # ****************************************\n",
    "\n",
    "    colorscale_touse = 'reds'\n",
    "    bar_pipes_cancelled = px.colors.sample_colorscale(colorscale_touse, 0.7)\n",
    "    bar_terms_cancelled = px.colors.sample_colorscale(colorscale_touse, 0.4)\n",
    "    colorscale_touse = 'greys'\n",
    "    bar_pipes_operating = px.colors.sample_colorscale(colorscale_touse, 0.7)\n",
    "    bar_terms_operating = px.colors.sample_colorscale(colorscale_touse, 0.4)\n",
    "\n",
    "    nbars = projects_df_fid_sum.index.size\n",
    "\n",
    "    fig = px.bar(projects_df_years_sum[['Cancelled pipelines',\n",
    "                                        'Cancelled terminals',\n",
    "                                        'Operating pipelines',\n",
    "                                        'Operating terminals']], \n",
    "                 color_discrete_sequence=bar_pipes_cancelled+bar_terms_cancelled+bar_pipes_operating+bar_terms_operating, \n",
    "                 height=800,\n",
    "                 title='Number of projects cancelled or operating')\n",
    "\n",
    "    note = '<i>Note when a pipeline passes through multiple countries, it is divided into fractions that sum to 1.</i>'\n",
    "    fig.add_annotation(x=0, y=-0.1,\n",
    "                       xref='x domain',\n",
    "                       yref='y domain',\n",
    "                       text=note,\n",
    "                       showarrow=False,\n",
    "                       font=dict(size=12))\n",
    "    \n",
    "    fig.update_layout(\n",
    "        font_family='Helvetica',\n",
    "        font_color=px.colors.sample_colorscale('greys', 0.5)[0],\n",
    "        bargap=0.25,\n",
    "        plot_bgcolor='white',\n",
    "        paper_bgcolor='white',\n",
    "\n",
    "        yaxis_title='number of projects',\n",
    "        xaxis_title='year',\n",
    "        xaxis={'side':'top'},\n",
    "        title_y=.97,\n",
    "        title_yanchor='top',\n",
    "        xaxis_range=[2011.5,2021.5],\n",
    "\n",
    "        legend_title=None,\n",
    "        #legend=dict(yanchor=\"bottom\",y=0.01,xanchor=\"right\",x=0.99,bgcolor='rgba(0,0,0,0)'),\n",
    "        legend=dict(yanchor=\"top\",y=1,xanchor=\"left\",x=1.01,bgcolor='rgba(0,0,0,0)'),\n",
    "    )\n",
    "\n",
    "    fig.update_yaxes(\n",
    "        dtick=1\n",
    "    )\n",
    "\n",
    "    fig.update_xaxes(\n",
    "        gridcolor=px.colors.sample_colorscale('greys', 0.25)[0]\n",
    "    )\n",
    "\n",
    "    return(fig)"
   ]
  },
  {
   "cell_type": "markdown",
   "id": "757c428e-886d-4208-885b-48b040db8197",
   "metadata": {},
   "source": [
    "## create cancellation figure"
   ]
  },
  {
   "cell_type": "code",
   "execution_count": 85,
   "id": "c6c51908-44b3-4f95-b3a0-ceac6ffe0f16",
   "metadata": {},
   "outputs": [],
   "source": [
    "def fig_year_counts():\n",
    "    \n",
    "    terms_df_region = terms_df_orig[(terms_df_orig.Country.isin(region_df_touse.Country))&\n",
    "                                    (terms_df_orig.Status.isin(['Cancelled', 'Operating']))&\n",
    "                                    (terms_df_orig.Facility.isin(['Import']))]\n",
    "    country_ratios_df_region = country_ratios_df[(country_ratios_df.Country.isin(region_df_touse.Country))&\n",
    "                                (country_ratios_df.Status.isin(['Cancelled', 'Operating']))]\n",
    "\n",
    "    projects_df_years_sum = pandas.DataFrame(0, index=numpy.arange(1850,2023), columns=['Cancelled pipelines',\n",
    "                                                                                 'Cancelled pipeline km',\n",
    "                                                                                 'Cancelled terminals',\n",
    "                                                                                 'Cancelled terminal capacity',\n",
    "                                                                                 'Operating pipelines',\n",
    "                                                                                 'Operating pipeline km',\n",
    "                                                                                 'Operating terminals',\n",
    "                                                                                 'Operating terminal capacity'])\n",
    "\n",
    "    # Pipelines\n",
    "    projects_df_years_sum['Cancelled pipelines'] += -country_ratios_df_region.loc[country_ratios_df_region.Status=='Cancelled'].groupby('CancelledYear')['LengthPerCountryFraction'].sum()\n",
    "    projects_df_years_sum['Cancelled pipeline km'] += -country_ratios_df_region.loc[country_ratios_df_region.Status=='Cancelled'].groupby('CancelledYear')['MergedKmByCountry'].sum()\n",
    "    # Terminals\n",
    "    projects_df_years_sum['Cancelled terminals'] += -terms_df_region.loc[terms_df_region.Status=='Cancelled'].groupby('CancelledYear')['TerminalID'].count()\n",
    "    projects_df_years_sum['Cancelled terminal capacity'] += -terms_df_region.loc[terms_df_region.Status=='Cancelled'].groupby('CancelledYear')['CapacityInBcm/y'].count()\n",
    "    \n",
    "    # Pipelines\n",
    "    projects_df_years_sum['Operating pipelines'] += country_ratios_df_region.loc[country_ratios_df_region.Status=='Operating'].groupby('StartYearEarliest')['LengthPerCountryFraction'].sum()\n",
    "    projects_df_years_sum['Operating pipeline km'] += country_ratios_df_region.loc[country_ratios_df_region.Status=='Operating'].groupby('StartYearEarliest')['MergedKmByCountry'].sum()\n",
    "    # Terminals\n",
    "    projects_df_years_sum['Operating terminals'] += terms_df_region.loc[terms_df_region.Status=='Operating'].groupby('StartYearEarliest')['TerminalID'].count()\n",
    "    projects_df_years_sum['Operating terminal capacity'] += terms_df_region.loc[terms_df_region.Status=='Operating'].groupby('StartYearEarliest')['CapacityInBcm/y'].count()\n",
    "\n",
    "    #projects_df_cancelled_sum.replace(numpy.nan,0,inplace=True)\n",
    "\n",
    "    # reorder for descending values\n",
    "    #country_order = projects_df_fid_sum.sum(axis=1).sort_values(ascending=True).index\n",
    "    #projects_df_fid_sum = projects_df_fid_sum.reindex(country_order)\n",
    "\n",
    "    # ****************************************\n",
    "\n",
    "    colorscale_touse = 'reds'\n",
    "    bar_pipes_cancelled = px.colors.sample_colorscale(colorscale_touse, 0.7)\n",
    "    bar_terms_cancelled = px.colors.sample_colorscale(colorscale_touse, 0.4)\n",
    "    colorscale_touse = 'greys'\n",
    "    bar_pipes_operating = px.colors.sample_colorscale(colorscale_touse, 0.7)\n",
    "    bar_terms_operating = px.colors.sample_colorscale(colorscale_touse, 0.4)\n",
    "\n",
    "    nbars = projects_df_fid_sum.index.size\n",
    "\n",
    "    fig = px.bar(projects_df_years_sum[['Cancelled pipelines',\n",
    "                                        'Cancelled terminals',\n",
    "                                        'Operating pipelines',\n",
    "                                        'Operating terminals']], \n",
    "                 color_discrete_sequence=bar_pipes_cancelled+bar_terms_cancelled+bar_pipes_operating+bar_terms_operating, \n",
    "                 height=800,\n",
    "                 title='Number of projects cancelled or operating')\n",
    "\n",
    "    note = '<i>Note when a pipeline passes through multiple countries, it is divided into fractions that sum to 1.</i>'\n",
    "    fig.add_annotation(x=0, y=-0.1,\n",
    "                       xref='x domain',\n",
    "                       yref='y domain',\n",
    "                       text=note,\n",
    "                       showarrow=False,\n",
    "                       font=dict(size=12))\n",
    "    \n",
    "    fig.update_layout(\n",
    "        font_family='Helvetica',\n",
    "        font_color=px.colors.sample_colorscale('greys', 0.5)[0],\n",
    "        bargap=0.25,\n",
    "        plot_bgcolor='white',\n",
    "        paper_bgcolor='white',\n",
    "\n",
    "        yaxis_title='number of projects',\n",
    "        xaxis_title='year',\n",
    "        xaxis={'side':'top'},\n",
    "        title_y=.97,\n",
    "        title_yanchor='top',\n",
    "        xaxis_range=[2011.5,2021.5],\n",
    "\n",
    "        legend_title=None,\n",
    "        #legend=dict(yanchor=\"bottom\",y=0.01,xanchor=\"right\",x=0.99,bgcolor='rgba(0,0,0,0)'),\n",
    "        legend=dict(yanchor=\"top\",y=1,xanchor=\"left\",x=1.01,bgcolor='rgba(0,0,0,0)'),\n",
    "    )\n",
    "\n",
    "    fig.update_yaxes(\n",
    "        dtick=1\n",
    "    )\n",
    "\n",
    "    fig.update_xaxes(\n",
    "        gridcolor=px.colors.sample_colorscale('greys', 0.25)[0]\n",
    "    )\n",
    "\n",
    "    return(fig)"
   ]
  },
  {
   "cell_type": "code",
   "execution_count": 86,
   "id": "806b5337-38f4-402b-a6c6-5ef2bf82ec84",
   "metadata": {},
   "outputs": [
    {
     "data": {
      "application/vnd.plotly.v1+json": {
       "config": {
        "plotlyServerURL": "https://plot.ly"
       },
       "data": [
        {
         "alignmentgroup": "True",
         "hovertemplate": "variable=Cancelled pipelines<br>index=%{x}<br>value=%{y}<extra></extra>",
         "legendgroup": "Cancelled pipelines",
         "marker": {
          "color": "rgb(217, 38, 35)",
          "pattern": {
           "shape": ""
          }
         },
         "name": "Cancelled pipelines",
         "offsetgroup": "Cancelled pipelines",
         "orientation": "v",
         "showlegend": true,
         "textposition": "auto",
         "type": "bar",
         "x": [
          1850,
          1851,
          1852,
          1853,
          1854,
          1855,
          1856,
          1857,
          1858,
          1859,
          1860,
          1861,
          1862,
          1863,
          1864,
          1865,
          1866,
          1867,
          1868,
          1869,
          1870,
          1871,
          1872,
          1873,
          1874,
          1875,
          1876,
          1877,
          1878,
          1879,
          1880,
          1881,
          1882,
          1883,
          1884,
          1885,
          1886,
          1887,
          1888,
          1889,
          1890,
          1891,
          1892,
          1893,
          1894,
          1895,
          1896,
          1897,
          1898,
          1899,
          1900,
          1901,
          1902,
          1903,
          1904,
          1905,
          1906,
          1907,
          1908,
          1909,
          1910,
          1911,
          1912,
          1913,
          1914,
          1915,
          1916,
          1917,
          1918,
          1919,
          1920,
          1921,
          1922,
          1923,
          1924,
          1925,
          1926,
          1927,
          1928,
          1929,
          1930,
          1931,
          1932,
          1933,
          1934,
          1935,
          1936,
          1937,
          1938,
          1939,
          1940,
          1941,
          1942,
          1943,
          1944,
          1945,
          1946,
          1947,
          1948,
          1949,
          1950,
          1951,
          1952,
          1953,
          1954,
          1955,
          1956,
          1957,
          1958,
          1959,
          1960,
          1961,
          1962,
          1963,
          1964,
          1965,
          1966,
          1967,
          1968,
          1969,
          1970,
          1971,
          1972,
          1973,
          1974,
          1975,
          1976,
          1977,
          1978,
          1979,
          1980,
          1981,
          1982,
          1983,
          1984,
          1985,
          1986,
          1987,
          1988,
          1989,
          1990,
          1991,
          1992,
          1993,
          1994,
          1995,
          1996,
          1997,
          1998,
          1999,
          2000,
          2001,
          2002,
          2003,
          2004,
          2005,
          2006,
          2007,
          2008,
          2009,
          2010,
          2011,
          2012,
          2013,
          2014,
          2015,
          2016,
          2017,
          2018,
          2019,
          2020,
          2021,
          2022
         ],
         "xaxis": "x",
         "y": [
          null,
          null,
          null,
          null,
          null,
          null,
          null,
          null,
          null,
          null,
          null,
          null,
          null,
          null,
          null,
          null,
          null,
          null,
          null,
          null,
          null,
          null,
          null,
          null,
          null,
          null,
          null,
          null,
          null,
          null,
          null,
          null,
          null,
          null,
          null,
          null,
          null,
          null,
          null,
          null,
          null,
          null,
          null,
          null,
          null,
          null,
          null,
          null,
          null,
          null,
          null,
          null,
          null,
          null,
          null,
          null,
          null,
          null,
          null,
          null,
          null,
          null,
          null,
          null,
          null,
          null,
          null,
          null,
          null,
          null,
          null,
          null,
          null,
          null,
          null,
          null,
          null,
          null,
          null,
          null,
          null,
          null,
          null,
          null,
          null,
          null,
          null,
          null,
          null,
          null,
          null,
          null,
          null,
          null,
          null,
          null,
          null,
          null,
          null,
          null,
          null,
          null,
          null,
          null,
          null,
          null,
          null,
          null,
          null,
          null,
          null,
          null,
          null,
          null,
          null,
          null,
          null,
          null,
          null,
          null,
          null,
          null,
          null,
          null,
          null,
          null,
          null,
          null,
          null,
          null,
          null,
          null,
          null,
          null,
          null,
          null,
          null,
          null,
          null,
          null,
          null,
          null,
          null,
          null,
          null,
          null,
          null,
          null,
          null,
          null,
          null,
          null,
          null,
          null,
          null,
          -1,
          null,
          -1,
          -1,
          -1.27,
          -1,
          -1,
          null,
          -1.4100000000000001,
          -0.65,
          -1.41,
          -0.65,
          -1,
          null,
          -4.180000002,
          -5.54,
          null,
          null
         ],
         "yaxis": "y"
        },
        {
         "alignmentgroup": "True",
         "hovertemplate": "variable=Cancelled terminals<br>index=%{x}<br>value=%{y}<extra></extra>",
         "legendgroup": "Cancelled terminals",
         "marker": {
          "color": "rgb(252, 138, 106)",
          "pattern": {
           "shape": ""
          }
         },
         "name": "Cancelled terminals",
         "offsetgroup": "Cancelled terminals",
         "orientation": "v",
         "showlegend": true,
         "textposition": "auto",
         "type": "bar",
         "x": [
          1850,
          1851,
          1852,
          1853,
          1854,
          1855,
          1856,
          1857,
          1858,
          1859,
          1860,
          1861,
          1862,
          1863,
          1864,
          1865,
          1866,
          1867,
          1868,
          1869,
          1870,
          1871,
          1872,
          1873,
          1874,
          1875,
          1876,
          1877,
          1878,
          1879,
          1880,
          1881,
          1882,
          1883,
          1884,
          1885,
          1886,
          1887,
          1888,
          1889,
          1890,
          1891,
          1892,
          1893,
          1894,
          1895,
          1896,
          1897,
          1898,
          1899,
          1900,
          1901,
          1902,
          1903,
          1904,
          1905,
          1906,
          1907,
          1908,
          1909,
          1910,
          1911,
          1912,
          1913,
          1914,
          1915,
          1916,
          1917,
          1918,
          1919,
          1920,
          1921,
          1922,
          1923,
          1924,
          1925,
          1926,
          1927,
          1928,
          1929,
          1930,
          1931,
          1932,
          1933,
          1934,
          1935,
          1936,
          1937,
          1938,
          1939,
          1940,
          1941,
          1942,
          1943,
          1944,
          1945,
          1946,
          1947,
          1948,
          1949,
          1950,
          1951,
          1952,
          1953,
          1954,
          1955,
          1956,
          1957,
          1958,
          1959,
          1960,
          1961,
          1962,
          1963,
          1964,
          1965,
          1966,
          1967,
          1968,
          1969,
          1970,
          1971,
          1972,
          1973,
          1974,
          1975,
          1976,
          1977,
          1978,
          1979,
          1980,
          1981,
          1982,
          1983,
          1984,
          1985,
          1986,
          1987,
          1988,
          1989,
          1990,
          1991,
          1992,
          1993,
          1994,
          1995,
          1996,
          1997,
          1998,
          1999,
          2000,
          2001,
          2002,
          2003,
          2004,
          2005,
          2006,
          2007,
          2008,
          2009,
          2010,
          2011,
          2012,
          2013,
          2014,
          2015,
          2016,
          2017,
          2018,
          2019,
          2020,
          2021,
          2022
         ],
         "xaxis": "x",
         "y": [
          null,
          null,
          null,
          null,
          null,
          null,
          null,
          null,
          null,
          null,
          null,
          null,
          null,
          null,
          null,
          null,
          null,
          null,
          null,
          null,
          null,
          null,
          null,
          null,
          null,
          null,
          null,
          null,
          null,
          null,
          null,
          null,
          null,
          null,
          null,
          null,
          null,
          null,
          null,
          null,
          null,
          null,
          null,
          null,
          null,
          null,
          null,
          null,
          null,
          null,
          null,
          null,
          null,
          null,
          null,
          null,
          null,
          null,
          null,
          null,
          null,
          null,
          null,
          null,
          null,
          null,
          null,
          null,
          null,
          null,
          null,
          null,
          null,
          null,
          null,
          null,
          null,
          null,
          null,
          null,
          null,
          null,
          null,
          null,
          null,
          null,
          null,
          null,
          null,
          null,
          null,
          null,
          null,
          null,
          null,
          null,
          null,
          null,
          null,
          null,
          null,
          null,
          null,
          null,
          null,
          null,
          null,
          null,
          null,
          null,
          null,
          null,
          null,
          null,
          null,
          null,
          null,
          null,
          null,
          null,
          null,
          null,
          null,
          null,
          null,
          null,
          null,
          null,
          null,
          null,
          null,
          null,
          null,
          null,
          null,
          null,
          null,
          null,
          null,
          null,
          null,
          null,
          null,
          null,
          null,
          null,
          null,
          null,
          null,
          null,
          null,
          null,
          null,
          null,
          null,
          null,
          null,
          null,
          null,
          null,
          null,
          null,
          null,
          null,
          null,
          null,
          null,
          null,
          null,
          null,
          null,
          null,
          null
         ],
         "yaxis": "y"
        },
        {
         "alignmentgroup": "True",
         "hovertemplate": "variable=Operating pipelines<br>index=%{x}<br>value=%{y}<extra></extra>",
         "legendgroup": "Operating pipelines",
         "marker": {
          "color": "rgb(95, 95, 95)",
          "pattern": {
           "shape": ""
          }
         },
         "name": "Operating pipelines",
         "offsetgroup": "Operating pipelines",
         "orientation": "v",
         "showlegend": true,
         "textposition": "auto",
         "type": "bar",
         "x": [
          1850,
          1851,
          1852,
          1853,
          1854,
          1855,
          1856,
          1857,
          1858,
          1859,
          1860,
          1861,
          1862,
          1863,
          1864,
          1865,
          1866,
          1867,
          1868,
          1869,
          1870,
          1871,
          1872,
          1873,
          1874,
          1875,
          1876,
          1877,
          1878,
          1879,
          1880,
          1881,
          1882,
          1883,
          1884,
          1885,
          1886,
          1887,
          1888,
          1889,
          1890,
          1891,
          1892,
          1893,
          1894,
          1895,
          1896,
          1897,
          1898,
          1899,
          1900,
          1901,
          1902,
          1903,
          1904,
          1905,
          1906,
          1907,
          1908,
          1909,
          1910,
          1911,
          1912,
          1913,
          1914,
          1915,
          1916,
          1917,
          1918,
          1919,
          1920,
          1921,
          1922,
          1923,
          1924,
          1925,
          1926,
          1927,
          1928,
          1929,
          1930,
          1931,
          1932,
          1933,
          1934,
          1935,
          1936,
          1937,
          1938,
          1939,
          1940,
          1941,
          1942,
          1943,
          1944,
          1945,
          1946,
          1947,
          1948,
          1949,
          1950,
          1951,
          1952,
          1953,
          1954,
          1955,
          1956,
          1957,
          1958,
          1959,
          1960,
          1961,
          1962,
          1963,
          1964,
          1965,
          1966,
          1967,
          1968,
          1969,
          1970,
          1971,
          1972,
          1973,
          1974,
          1975,
          1976,
          1977,
          1978,
          1979,
          1980,
          1981,
          1982,
          1983,
          1984,
          1985,
          1986,
          1987,
          1988,
          1989,
          1990,
          1991,
          1992,
          1993,
          1994,
          1995,
          1996,
          1997,
          1998,
          1999,
          2000,
          2001,
          2002,
          2003,
          2004,
          2005,
          2006,
          2007,
          2008,
          2009,
          2010,
          2011,
          2012,
          2013,
          2014,
          2015,
          2016,
          2017,
          2018,
          2019,
          2020,
          2021,
          2022
         ],
         "xaxis": "x",
         "y": [
          null,
          null,
          null,
          null,
          null,
          null,
          null,
          null,
          null,
          null,
          null,
          null,
          null,
          null,
          null,
          null,
          null,
          null,
          null,
          null,
          null,
          null,
          null,
          null,
          null,
          null,
          null,
          null,
          null,
          null,
          null,
          null,
          null,
          null,
          null,
          null,
          null,
          null,
          null,
          null,
          null,
          null,
          null,
          null,
          null,
          null,
          null,
          null,
          null,
          null,
          null,
          null,
          null,
          null,
          null,
          null,
          null,
          null,
          null,
          null,
          null,
          null,
          null,
          null,
          null,
          null,
          null,
          null,
          null,
          null,
          null,
          null,
          null,
          null,
          null,
          null,
          null,
          null,
          null,
          null,
          null,
          null,
          null,
          null,
          null,
          null,
          null,
          null,
          null,
          null,
          null,
          null,
          null,
          null,
          null,
          null,
          null,
          null,
          0.2,
          null,
          null,
          null,
          null,
          null,
          null,
          null,
          1,
          null,
          1,
          1,
          1,
          null,
          2.34,
          1,
          null,
          1,
          null,
          2.71,
          2,
          null,
          2,
          1,
          0.37,
          0,
          1.01,
          3,
          0,
          0.89,
          null,
          1,
          2,
          null,
          1,
          0.61,
          null,
          1.157211172,
          1,
          null,
          0.404631148,
          null,
          0.7000000000000001,
          null,
          4,
          8.36,
          1,
          1.62,
          2.65,
          null,
          3.02,
          1.58,
          1,
          1,
          0.72,
          null,
          2.4299999999999997,
          1,
          1.8900000000000001,
          1.25,
          2,
          1,
          1.93,
          6.36,
          4,
          1.02,
          1.7,
          5,
          4,
          null,
          2,
          2,
          10.99,
          7.5,
          null
         ],
         "yaxis": "y"
        },
        {
         "alignmentgroup": "True",
         "hovertemplate": "variable=Operating terminals<br>index=%{x}<br>value=%{y}<extra></extra>",
         "legendgroup": "Operating terminals",
         "marker": {
          "color": "rgb(181, 181, 181)",
          "pattern": {
           "shape": ""
          }
         },
         "name": "Operating terminals",
         "offsetgroup": "Operating terminals",
         "orientation": "v",
         "showlegend": true,
         "textposition": "auto",
         "type": "bar",
         "x": [
          1850,
          1851,
          1852,
          1853,
          1854,
          1855,
          1856,
          1857,
          1858,
          1859,
          1860,
          1861,
          1862,
          1863,
          1864,
          1865,
          1866,
          1867,
          1868,
          1869,
          1870,
          1871,
          1872,
          1873,
          1874,
          1875,
          1876,
          1877,
          1878,
          1879,
          1880,
          1881,
          1882,
          1883,
          1884,
          1885,
          1886,
          1887,
          1888,
          1889,
          1890,
          1891,
          1892,
          1893,
          1894,
          1895,
          1896,
          1897,
          1898,
          1899,
          1900,
          1901,
          1902,
          1903,
          1904,
          1905,
          1906,
          1907,
          1908,
          1909,
          1910,
          1911,
          1912,
          1913,
          1914,
          1915,
          1916,
          1917,
          1918,
          1919,
          1920,
          1921,
          1922,
          1923,
          1924,
          1925,
          1926,
          1927,
          1928,
          1929,
          1930,
          1931,
          1932,
          1933,
          1934,
          1935,
          1936,
          1937,
          1938,
          1939,
          1940,
          1941,
          1942,
          1943,
          1944,
          1945,
          1946,
          1947,
          1948,
          1949,
          1950,
          1951,
          1952,
          1953,
          1954,
          1955,
          1956,
          1957,
          1958,
          1959,
          1960,
          1961,
          1962,
          1963,
          1964,
          1965,
          1966,
          1967,
          1968,
          1969,
          1970,
          1971,
          1972,
          1973,
          1974,
          1975,
          1976,
          1977,
          1978,
          1979,
          1980,
          1981,
          1982,
          1983,
          1984,
          1985,
          1986,
          1987,
          1988,
          1989,
          1990,
          1991,
          1992,
          1993,
          1994,
          1995,
          1996,
          1997,
          1998,
          1999,
          2000,
          2001,
          2002,
          2003,
          2004,
          2005,
          2006,
          2007,
          2008,
          2009,
          2010,
          2011,
          2012,
          2013,
          2014,
          2015,
          2016,
          2017,
          2018,
          2019,
          2020,
          2021,
          2022
         ],
         "xaxis": "x",
         "y": [
          null,
          null,
          null,
          null,
          null,
          null,
          null,
          null,
          null,
          null,
          null,
          null,
          null,
          null,
          null,
          null,
          null,
          null,
          null,
          null,
          null,
          null,
          null,
          null,
          null,
          null,
          null,
          null,
          null,
          null,
          null,
          null,
          null,
          null,
          null,
          null,
          null,
          null,
          null,
          null,
          null,
          null,
          null,
          null,
          null,
          null,
          null,
          null,
          null,
          null,
          null,
          null,
          null,
          null,
          null,
          null,
          null,
          null,
          null,
          null,
          null,
          null,
          null,
          null,
          null,
          null,
          null,
          null,
          null,
          null,
          null,
          null,
          null,
          null,
          null,
          null,
          null,
          null,
          null,
          null,
          null,
          null,
          null,
          null,
          null,
          null,
          null,
          null,
          null,
          null,
          null,
          null,
          null,
          null,
          null,
          null,
          null,
          null,
          null,
          null,
          null,
          null,
          null,
          null,
          null,
          null,
          null,
          null,
          null,
          null,
          null,
          null,
          null,
          null,
          null,
          null,
          null,
          null,
          null,
          1,
          null,
          1,
          1,
          null,
          null,
          null,
          null,
          null,
          null,
          null,
          1,
          null,
          null,
          null,
          null,
          null,
          null,
          1,
          1,
          1,
          null,
          null,
          null,
          null,
          null,
          null,
          null,
          null,
          null,
          null,
          1,
          null,
          null,
          1,
          1,
          null,
          1,
          1,
          null,
          1,
          1,
          2,
          null,
          1,
          2,
          null,
          3,
          1,
          1,
          null,
          null,
          3,
          null
         ],
         "yaxis": "y"
        }
       ],
       "layout": {
        "annotations": [
         {
          "font": {
           "size": 12
          },
          "showarrow": false,
          "text": "<i>Note when a pipeline passes through multiple countries, it is divided into fractions that sum to 1.</i>",
          "x": 0,
          "xref": "x domain",
          "y": -0.1,
          "yref": "y domain"
         }
        ],
        "autosize": true,
        "bargap": 0.25,
        "barmode": "relative",
        "font": {
         "color": "rgb(150, 150, 150)",
         "family": "Helvetica"
        },
        "legend": {
         "bgcolor": "rgba(0, 0, 0, 0)",
         "title": {},
         "tracegroupgap": 0,
         "x": 1.01,
         "xanchor": "left",
         "y": 1,
         "yanchor": "top"
        },
        "paper_bgcolor": "white",
        "plot_bgcolor": "white",
        "template": {
         "data": {
          "bar": [
           {
            "error_x": {
             "color": "#2a3f5f"
            },
            "error_y": {
             "color": "#2a3f5f"
            },
            "marker": {
             "line": {
              "color": "#E5ECF6",
              "width": 0.5
             },
             "pattern": {
              "fillmode": "overlay",
              "size": 10,
              "solidity": 0.2
             }
            },
            "type": "bar"
           }
          ],
          "barpolar": [
           {
            "marker": {
             "line": {
              "color": "#E5ECF6",
              "width": 0.5
             },
             "pattern": {
              "fillmode": "overlay",
              "size": 10,
              "solidity": 0.2
             }
            },
            "type": "barpolar"
           }
          ],
          "carpet": [
           {
            "aaxis": {
             "endlinecolor": "#2a3f5f",
             "gridcolor": "white",
             "linecolor": "white",
             "minorgridcolor": "white",
             "startlinecolor": "#2a3f5f"
            },
            "baxis": {
             "endlinecolor": "#2a3f5f",
             "gridcolor": "white",
             "linecolor": "white",
             "minorgridcolor": "white",
             "startlinecolor": "#2a3f5f"
            },
            "type": "carpet"
           }
          ],
          "choropleth": [
           {
            "colorbar": {
             "outlinewidth": 0,
             "ticks": ""
            },
            "type": "choropleth"
           }
          ],
          "contour": [
           {
            "colorbar": {
             "outlinewidth": 0,
             "ticks": ""
            },
            "colorscale": [
             [
              0,
              "#0d0887"
             ],
             [
              0.1111111111111111,
              "#46039f"
             ],
             [
              0.2222222222222222,
              "#7201a8"
             ],
             [
              0.3333333333333333,
              "#9c179e"
             ],
             [
              0.4444444444444444,
              "#bd3786"
             ],
             [
              0.5555555555555556,
              "#d8576b"
             ],
             [
              0.6666666666666666,
              "#ed7953"
             ],
             [
              0.7777777777777778,
              "#fb9f3a"
             ],
             [
              0.8888888888888888,
              "#fdca26"
             ],
             [
              1,
              "#f0f921"
             ]
            ],
            "type": "contour"
           }
          ],
          "contourcarpet": [
           {
            "colorbar": {
             "outlinewidth": 0,
             "ticks": ""
            },
            "type": "contourcarpet"
           }
          ],
          "heatmap": [
           {
            "colorbar": {
             "outlinewidth": 0,
             "ticks": ""
            },
            "colorscale": [
             [
              0,
              "#0d0887"
             ],
             [
              0.1111111111111111,
              "#46039f"
             ],
             [
              0.2222222222222222,
              "#7201a8"
             ],
             [
              0.3333333333333333,
              "#9c179e"
             ],
             [
              0.4444444444444444,
              "#bd3786"
             ],
             [
              0.5555555555555556,
              "#d8576b"
             ],
             [
              0.6666666666666666,
              "#ed7953"
             ],
             [
              0.7777777777777778,
              "#fb9f3a"
             ],
             [
              0.8888888888888888,
              "#fdca26"
             ],
             [
              1,
              "#f0f921"
             ]
            ],
            "type": "heatmap"
           }
          ],
          "heatmapgl": [
           {
            "colorbar": {
             "outlinewidth": 0,
             "ticks": ""
            },
            "colorscale": [
             [
              0,
              "#0d0887"
             ],
             [
              0.1111111111111111,
              "#46039f"
             ],
             [
              0.2222222222222222,
              "#7201a8"
             ],
             [
              0.3333333333333333,
              "#9c179e"
             ],
             [
              0.4444444444444444,
              "#bd3786"
             ],
             [
              0.5555555555555556,
              "#d8576b"
             ],
             [
              0.6666666666666666,
              "#ed7953"
             ],
             [
              0.7777777777777778,
              "#fb9f3a"
             ],
             [
              0.8888888888888888,
              "#fdca26"
             ],
             [
              1,
              "#f0f921"
             ]
            ],
            "type": "heatmapgl"
           }
          ],
          "histogram": [
           {
            "marker": {
             "pattern": {
              "fillmode": "overlay",
              "size": 10,
              "solidity": 0.2
             }
            },
            "type": "histogram"
           }
          ],
          "histogram2d": [
           {
            "colorbar": {
             "outlinewidth": 0,
             "ticks": ""
            },
            "colorscale": [
             [
              0,
              "#0d0887"
             ],
             [
              0.1111111111111111,
              "#46039f"
             ],
             [
              0.2222222222222222,
              "#7201a8"
             ],
             [
              0.3333333333333333,
              "#9c179e"
             ],
             [
              0.4444444444444444,
              "#bd3786"
             ],
             [
              0.5555555555555556,
              "#d8576b"
             ],
             [
              0.6666666666666666,
              "#ed7953"
             ],
             [
              0.7777777777777778,
              "#fb9f3a"
             ],
             [
              0.8888888888888888,
              "#fdca26"
             ],
             [
              1,
              "#f0f921"
             ]
            ],
            "type": "histogram2d"
           }
          ],
          "histogram2dcontour": [
           {
            "colorbar": {
             "outlinewidth": 0,
             "ticks": ""
            },
            "colorscale": [
             [
              0,
              "#0d0887"
             ],
             [
              0.1111111111111111,
              "#46039f"
             ],
             [
              0.2222222222222222,
              "#7201a8"
             ],
             [
              0.3333333333333333,
              "#9c179e"
             ],
             [
              0.4444444444444444,
              "#bd3786"
             ],
             [
              0.5555555555555556,
              "#d8576b"
             ],
             [
              0.6666666666666666,
              "#ed7953"
             ],
             [
              0.7777777777777778,
              "#fb9f3a"
             ],
             [
              0.8888888888888888,
              "#fdca26"
             ],
             [
              1,
              "#f0f921"
             ]
            ],
            "type": "histogram2dcontour"
           }
          ],
          "mesh3d": [
           {
            "colorbar": {
             "outlinewidth": 0,
             "ticks": ""
            },
            "type": "mesh3d"
           }
          ],
          "parcoords": [
           {
            "line": {
             "colorbar": {
              "outlinewidth": 0,
              "ticks": ""
             }
            },
            "type": "parcoords"
           }
          ],
          "pie": [
           {
            "automargin": true,
            "type": "pie"
           }
          ],
          "scatter": [
           {
            "marker": {
             "colorbar": {
              "outlinewidth": 0,
              "ticks": ""
             }
            },
            "type": "scatter"
           }
          ],
          "scatter3d": [
           {
            "line": {
             "colorbar": {
              "outlinewidth": 0,
              "ticks": ""
             }
            },
            "marker": {
             "colorbar": {
              "outlinewidth": 0,
              "ticks": ""
             }
            },
            "type": "scatter3d"
           }
          ],
          "scattercarpet": [
           {
            "marker": {
             "colorbar": {
              "outlinewidth": 0,
              "ticks": ""
             }
            },
            "type": "scattercarpet"
           }
          ],
          "scattergeo": [
           {
            "marker": {
             "colorbar": {
              "outlinewidth": 0,
              "ticks": ""
             }
            },
            "type": "scattergeo"
           }
          ],
          "scattergl": [
           {
            "marker": {
             "colorbar": {
              "outlinewidth": 0,
              "ticks": ""
             }
            },
            "type": "scattergl"
           }
          ],
          "scattermapbox": [
           {
            "marker": {
             "colorbar": {
              "outlinewidth": 0,
              "ticks": ""
             }
            },
            "type": "scattermapbox"
           }
          ],
          "scatterpolar": [
           {
            "marker": {
             "colorbar": {
              "outlinewidth": 0,
              "ticks": ""
             }
            },
            "type": "scatterpolar"
           }
          ],
          "scatterpolargl": [
           {
            "marker": {
             "colorbar": {
              "outlinewidth": 0,
              "ticks": ""
             }
            },
            "type": "scatterpolargl"
           }
          ],
          "scatterternary": [
           {
            "marker": {
             "colorbar": {
              "outlinewidth": 0,
              "ticks": ""
             }
            },
            "type": "scatterternary"
           }
          ],
          "surface": [
           {
            "colorbar": {
             "outlinewidth": 0,
             "ticks": ""
            },
            "colorscale": [
             [
              0,
              "#0d0887"
             ],
             [
              0.1111111111111111,
              "#46039f"
             ],
             [
              0.2222222222222222,
              "#7201a8"
             ],
             [
              0.3333333333333333,
              "#9c179e"
             ],
             [
              0.4444444444444444,
              "#bd3786"
             ],
             [
              0.5555555555555556,
              "#d8576b"
             ],
             [
              0.6666666666666666,
              "#ed7953"
             ],
             [
              0.7777777777777778,
              "#fb9f3a"
             ],
             [
              0.8888888888888888,
              "#fdca26"
             ],
             [
              1,
              "#f0f921"
             ]
            ],
            "type": "surface"
           }
          ],
          "table": [
           {
            "cells": {
             "fill": {
              "color": "#EBF0F8"
             },
             "line": {
              "color": "white"
             }
            },
            "header": {
             "fill": {
              "color": "#C8D4E3"
             },
             "line": {
              "color": "white"
             }
            },
            "type": "table"
           }
          ]
         },
         "layout": {
          "annotationdefaults": {
           "arrowcolor": "#2a3f5f",
           "arrowhead": 0,
           "arrowwidth": 1
          },
          "autotypenumbers": "strict",
          "coloraxis": {
           "colorbar": {
            "outlinewidth": 0,
            "ticks": ""
           }
          },
          "colorscale": {
           "diverging": [
            [
             0,
             "#8e0152"
            ],
            [
             0.1,
             "#c51b7d"
            ],
            [
             0.2,
             "#de77ae"
            ],
            [
             0.3,
             "#f1b6da"
            ],
            [
             0.4,
             "#fde0ef"
            ],
            [
             0.5,
             "#f7f7f7"
            ],
            [
             0.6,
             "#e6f5d0"
            ],
            [
             0.7,
             "#b8e186"
            ],
            [
             0.8,
             "#7fbc41"
            ],
            [
             0.9,
             "#4d9221"
            ],
            [
             1,
             "#276419"
            ]
           ],
           "sequential": [
            [
             0,
             "#0d0887"
            ],
            [
             0.1111111111111111,
             "#46039f"
            ],
            [
             0.2222222222222222,
             "#7201a8"
            ],
            [
             0.3333333333333333,
             "#9c179e"
            ],
            [
             0.4444444444444444,
             "#bd3786"
            ],
            [
             0.5555555555555556,
             "#d8576b"
            ],
            [
             0.6666666666666666,
             "#ed7953"
            ],
            [
             0.7777777777777778,
             "#fb9f3a"
            ],
            [
             0.8888888888888888,
             "#fdca26"
            ],
            [
             1,
             "#f0f921"
            ]
           ],
           "sequentialminus": [
            [
             0,
             "#0d0887"
            ],
            [
             0.1111111111111111,
             "#46039f"
            ],
            [
             0.2222222222222222,
             "#7201a8"
            ],
            [
             0.3333333333333333,
             "#9c179e"
            ],
            [
             0.4444444444444444,
             "#bd3786"
            ],
            [
             0.5555555555555556,
             "#d8576b"
            ],
            [
             0.6666666666666666,
             "#ed7953"
            ],
            [
             0.7777777777777778,
             "#fb9f3a"
            ],
            [
             0.8888888888888888,
             "#fdca26"
            ],
            [
             1,
             "#f0f921"
            ]
           ]
          },
          "colorway": [
           "#636efa",
           "#EF553B",
           "#00cc96",
           "#ab63fa",
           "#FFA15A",
           "#19d3f3",
           "#FF6692",
           "#B6E880",
           "#FF97FF",
           "#FECB52"
          ],
          "font": {
           "color": "#2a3f5f"
          },
          "geo": {
           "bgcolor": "white",
           "lakecolor": "white",
           "landcolor": "#E5ECF6",
           "showlakes": true,
           "showland": true,
           "subunitcolor": "white"
          },
          "hoverlabel": {
           "align": "left"
          },
          "hovermode": "closest",
          "mapbox": {
           "style": "light"
          },
          "paper_bgcolor": "white",
          "plot_bgcolor": "#E5ECF6",
          "polar": {
           "angularaxis": {
            "gridcolor": "white",
            "linecolor": "white",
            "ticks": ""
           },
           "bgcolor": "#E5ECF6",
           "radialaxis": {
            "gridcolor": "white",
            "linecolor": "white",
            "ticks": ""
           }
          },
          "scene": {
           "xaxis": {
            "backgroundcolor": "#E5ECF6",
            "gridcolor": "white",
            "gridwidth": 2,
            "linecolor": "white",
            "showbackground": true,
            "ticks": "",
            "zerolinecolor": "white"
           },
           "yaxis": {
            "backgroundcolor": "#E5ECF6",
            "gridcolor": "white",
            "gridwidth": 2,
            "linecolor": "white",
            "showbackground": true,
            "ticks": "",
            "zerolinecolor": "white"
           },
           "zaxis": {
            "backgroundcolor": "#E5ECF6",
            "gridcolor": "white",
            "gridwidth": 2,
            "linecolor": "white",
            "showbackground": true,
            "ticks": "",
            "zerolinecolor": "white"
           }
          },
          "shapedefaults": {
           "line": {
            "color": "#2a3f5f"
           }
          },
          "ternary": {
           "aaxis": {
            "gridcolor": "white",
            "linecolor": "white",
            "ticks": ""
           },
           "baxis": {
            "gridcolor": "white",
            "linecolor": "white",
            "ticks": ""
           },
           "bgcolor": "#E5ECF6",
           "caxis": {
            "gridcolor": "white",
            "linecolor": "white",
            "ticks": ""
           }
          },
          "title": {
           "x": 0.05
          },
          "xaxis": {
           "automargin": true,
           "gridcolor": "white",
           "linecolor": "white",
           "ticks": "",
           "title": {
            "standoff": 15
           },
           "zerolinecolor": "white",
           "zerolinewidth": 2
          },
          "yaxis": {
           "automargin": true,
           "gridcolor": "white",
           "linecolor": "white",
           "ticks": "",
           "title": {
            "standoff": 15
           },
           "zerolinecolor": "white",
           "zerolinewidth": 2
          }
         }
        },
        "title": {
         "text": "Number of projects cancelled or operating",
         "y": 0.97,
         "yanchor": "top"
        },
        "xaxis": {
         "anchor": "y",
         "domain": [
          0,
          1
         ],
         "gridcolor": "rgb(217, 217, 217)",
         "range": [
          2011.5,
          2021.5
         ],
         "side": "top",
         "title": {
          "text": "year"
         },
         "type": "linear"
        },
        "yaxis": {
         "anchor": "x",
         "autorange": true,
         "domain": [
          0,
          1
         ],
         "dtick": 1,
         "range": [
          -6.458333333333333,
          11.908333333333333
         ],
         "title": {
          "text": "number of projects"
         },
         "type": "linear"
        }
       }
      },
      "image/png": "[encoded data removed]",
      "text/html": [
       "<div>                            <div id=\"490e72c1-fd60-427c-97d9-132ebfe1941a\" class=\"plotly-graph-div\" style=\"height:800px; width:100%;\"></div>            <script type=\"text/javascript\">                require([\"plotly\"], function(Plotly) {                    window.PLOTLYENV=window.PLOTLYENV || {};                                    if (document.getElementById(\"490e72c1-fd60-427c-97d9-132ebfe1941a\")) {                    Plotly.newPlot(                        \"490e72c1-fd60-427c-97d9-132ebfe1941a\",                        [{\"alignmentgroup\":\"True\",\"hovertemplate\":\"variable=Cancelled pipelines<br>index=%{x}<br>value=%{y}<extra></extra>\",\"legendgroup\":\"Cancelled pipelines\",\"marker\":{\"color\":\"rgb(217, 38, 35)\",\"pattern\":{\"shape\":\"\"}},\"name\":\"Cancelled pipelines\",\"offsetgroup\":\"Cancelled pipelines\",\"orientation\":\"v\",\"showlegend\":true,\"textposition\":\"auto\",\"x\":[1850,1851,1852,1853,1854,1855,1856,1857,1858,1859,1860,1861,1862,1863,1864,1865,1866,1867,1868,1869,1870,1871,1872,1873,1874,1875,1876,1877,1878,1879,1880,1881,1882,1883,1884,1885,1886,1887,1888,1889,1890,1891,1892,1893,1894,1895,1896,1897,1898,1899,1900,1901,1902,1903,1904,1905,1906,1907,1908,1909,1910,1911,1912,1913,1914,1915,1916,1917,1918,1919,1920,1921,1922,1923,1924,1925,1926,1927,1928,1929,1930,1931,1932,1933,1934,1935,1936,1937,1938,1939,1940,1941,1942,1943,1944,1945,1946,1947,1948,1949,1950,1951,1952,1953,1954,1955,1956,1957,1958,1959,1960,1961,1962,1963,1964,1965,1966,1967,1968,1969,1970,1971,1972,1973,1974,1975,1976,1977,1978,1979,1980,1981,1982,1983,1984,1985,1986,1987,1988,1989,1990,1991,1992,1993,1994,1995,1996,1997,1998,1999,2000,2001,2002,2003,2004,2005,2006,2007,2008,2009,2010,2011,2012,2013,2014,2015,2016,2017,2018,2019,2020,2021,2022],\"xaxis\":\"x\",\"y\":[null,null,null,null,null,null,null,null,null,null,null,null,null,null,null,null,null,null,null,null,null,null,null,null,null,null,null,null,null,null,null,null,null,null,null,null,null,null,null,null,null,null,null,null,null,null,null,null,null,null,null,null,null,null,null,null,null,null,null,null,null,null,null,null,null,null,null,null,null,null,null,null,null,null,null,null,null,null,null,null,null,null,null,null,null,null,null,null,null,null,null,null,null,null,null,null,null,null,null,null,null,null,null,null,null,null,null,null,null,null,null,null,null,null,null,null,null,null,null,null,null,null,null,null,null,null,null,null,null,null,null,null,null,null,null,null,null,null,null,null,null,null,null,null,null,null,null,null,null,null,null,null,null,null,null,-1.0,null,-1.0,-1.0,-1.27,-1.0,-1.0,null,-1.4100000000000001,-0.65,-1.41,-0.65,-1.0,null,-4.180000002,-5.54,null,null],\"yaxis\":\"y\",\"type\":\"bar\"},{\"alignmentgroup\":\"True\",\"hovertemplate\":\"variable=Cancelled terminals<br>index=%{x}<br>value=%{y}<extra></extra>\",\"legendgroup\":\"Cancelled terminals\",\"marker\":{\"color\":\"rgb(252, 138, 106)\",\"pattern\":{\"shape\":\"\"}},\"name\":\"Cancelled terminals\",\"offsetgroup\":\"Cancelled terminals\",\"orientation\":\"v\",\"showlegend\":true,\"textposition\":\"auto\",\"x\":[1850,1851,1852,1853,1854,1855,1856,1857,1858,1859,1860,1861,1862,1863,1864,1865,1866,1867,1868,1869,1870,1871,1872,1873,1874,1875,1876,1877,1878,1879,1880,1881,1882,1883,1884,1885,1886,1887,1888,1889,1890,1891,1892,1893,1894,1895,1896,1897,1898,1899,1900,1901,1902,1903,1904,1905,1906,1907,1908,1909,1910,1911,1912,1913,1914,1915,1916,1917,1918,1919,1920,1921,1922,1923,1924,1925,1926,1927,1928,1929,1930,1931,1932,1933,1934,1935,1936,1937,1938,1939,1940,1941,1942,1943,1944,1945,1946,1947,1948,1949,1950,1951,1952,1953,1954,1955,1956,1957,1958,1959,1960,1961,1962,1963,1964,1965,1966,1967,1968,1969,1970,1971,1972,1973,1974,1975,1976,1977,1978,1979,1980,1981,1982,1983,1984,1985,1986,1987,1988,1989,1990,1991,1992,1993,1994,1995,1996,1997,1998,1999,2000,2001,2002,2003,2004,2005,2006,2007,2008,2009,2010,2011,2012,2013,2014,2015,2016,2017,2018,2019,2020,2021,2022],\"xaxis\":\"x\",\"y\":[null,null,null,null,null,null,null,null,null,null,null,null,null,null,null,null,null,null,null,null,null,null,null,null,null,null,null,null,null,null,null,null,null,null,null,null,null,null,null,null,null,null,null,null,null,null,null,null,null,null,null,null,null,null,null,null,null,null,null,null,null,null,null,null,null,null,null,null,null,null,null,null,null,null,null,null,null,null,null,null,null,null,null,null,null,null,null,null,null,null,null,null,null,null,null,null,null,null,null,null,null,null,null,null,null,null,null,null,null,null,null,null,null,null,null,null,null,null,null,null,null,null,null,null,null,null,null,null,null,null,null,null,null,null,null,null,null,null,null,null,null,null,null,null,null,null,null,null,null,null,null,null,null,null,null,null,null,null,null,null,null,null,null,null,null,null,null,null,null,null,null,null,null],\"yaxis\":\"y\",\"type\":\"bar\"},{\"alignmentgroup\":\"True\",\"hovertemplate\":\"variable=Operating pipelines<br>index=%{x}<br>value=%{y}<extra></extra>\",\"legendgroup\":\"Operating pipelines\",\"marker\":{\"color\":\"rgb(95, 95, 95)\",\"pattern\":{\"shape\":\"\"}},\"name\":\"Operating pipelines\",\"offsetgroup\":\"Operating pipelines\",\"orientation\":\"v\",\"showlegend\":true,\"textposition\":\"auto\",\"x\":[1850,1851,1852,1853,1854,1855,1856,1857,1858,1859,1860,1861,1862,1863,1864,1865,1866,1867,1868,1869,1870,1871,1872,1873,1874,1875,1876,1877,1878,1879,1880,1881,1882,1883,1884,1885,1886,1887,1888,1889,1890,1891,1892,1893,1894,1895,1896,1897,1898,1899,1900,1901,1902,1903,1904,1905,1906,1907,1908,1909,1910,1911,1912,1913,1914,1915,1916,1917,1918,1919,1920,1921,1922,1923,1924,1925,1926,1927,1928,1929,1930,1931,1932,1933,1934,1935,1936,1937,1938,1939,1940,1941,1942,1943,1944,1945,1946,1947,1948,1949,1950,1951,1952,1953,1954,1955,1956,1957,1958,1959,1960,1961,1962,1963,1964,1965,1966,1967,1968,1969,1970,1971,1972,1973,1974,1975,1976,1977,1978,1979,1980,1981,1982,1983,1984,1985,1986,1987,1988,1989,1990,1991,1992,1993,1994,1995,1996,1997,1998,1999,2000,2001,2002,2003,2004,2005,2006,2007,2008,2009,2010,2011,2012,2013,2014,2015,2016,2017,2018,2019,2020,2021,2022],\"xaxis\":\"x\",\"y\":[null,null,null,null,null,null,null,null,null,null,null,null,null,null,null,null,null,null,null,null,null,null,null,null,null,null,null,null,null,null,null,null,null,null,null,null,null,null,null,null,null,null,null,null,null,null,null,null,null,null,null,null,null,null,null,null,null,null,null,null,null,null,null,null,null,null,null,null,null,null,null,null,null,null,null,null,null,null,null,null,null,null,null,null,null,null,null,null,null,null,null,null,null,null,null,null,null,null,0.2,null,null,null,null,null,null,null,1.0,null,1.0,1.0,1.0,null,2.34,1.0,null,1.0,null,2.71,2.0,null,2.0,1.0,0.37,0.0,1.01,3.0,0.0,0.89,null,1.0,2.0,null,1.0,0.61,null,1.157211172,1.0,null,0.404631148,null,0.7000000000000001,null,4.0,8.36,1.0,1.62,2.65,null,3.02,1.58,1.0,1.0,0.72,null,2.4299999999999997,1.0,1.8900000000000001,1.25,2.0,1.0,1.93,6.36,4.0,1.02,1.7,5.0,4.0,null,2.0,2.0,10.99,7.5,null],\"yaxis\":\"y\",\"type\":\"bar\"},{\"alignmentgroup\":\"True\",\"hovertemplate\":\"variable=Operating terminals<br>index=%{x}<br>value=%{y}<extra></extra>\",\"legendgroup\":\"Operating terminals\",\"marker\":{\"color\":\"rgb(181, 181, 181)\",\"pattern\":{\"shape\":\"\"}},\"name\":\"Operating terminals\",\"offsetgroup\":\"Operating terminals\",\"orientation\":\"v\",\"showlegend\":true,\"textposition\":\"auto\",\"x\":[1850,1851,1852,1853,1854,1855,1856,1857,1858,1859,1860,1861,1862,1863,1864,1865,1866,1867,1868,1869,1870,1871,1872,1873,1874,1875,1876,1877,1878,1879,1880,1881,1882,1883,1884,1885,1886,1887,1888,1889,1890,1891,1892,1893,1894,1895,1896,1897,1898,1899,1900,1901,1902,1903,1904,1905,1906,1907,1908,1909,1910,1911,1912,1913,1914,1915,1916,1917,1918,1919,1920,1921,1922,1923,1924,1925,1926,1927,1928,1929,1930,1931,1932,1933,1934,1935,1936,1937,1938,1939,1940,1941,1942,1943,1944,1945,1946,1947,1948,1949,1950,1951,1952,1953,1954,1955,1956,1957,1958,1959,1960,1961,1962,1963,1964,1965,1966,1967,1968,1969,1970,1971,1972,1973,1974,1975,1976,1977,1978,1979,1980,1981,1982,1983,1984,1985,1986,1987,1988,1989,1990,1991,1992,1993,1994,1995,1996,1997,1998,1999,2000,2001,2002,2003,2004,2005,2006,2007,2008,2009,2010,2011,2012,2013,2014,2015,2016,2017,2018,2019,2020,2021,2022],\"xaxis\":\"x\",\"y\":[null,null,null,null,null,null,null,null,null,null,null,null,null,null,null,null,null,null,null,null,null,null,null,null,null,null,null,null,null,null,null,null,null,null,null,null,null,null,null,null,null,null,null,null,null,null,null,null,null,null,null,null,null,null,null,null,null,null,null,null,null,null,null,null,null,null,null,null,null,null,null,null,null,null,null,null,null,null,null,null,null,null,null,null,null,null,null,null,null,null,null,null,null,null,null,null,null,null,null,null,null,null,null,null,null,null,null,null,null,null,null,null,null,null,null,null,null,null,null,1.0,null,1.0,1.0,null,null,null,null,null,null,null,1.0,null,null,null,null,null,null,1.0,1.0,1.0,null,null,null,null,null,null,null,null,null,null,1.0,null,null,1.0,1.0,null,1.0,1.0,null,1.0,1.0,2.0,null,1.0,2.0,null,3.0,1.0,1.0,null,null,3.0,null],\"yaxis\":\"y\",\"type\":\"bar\"}],                        {\"template\":{\"data\":{\"bar\":[{\"error_x\":{\"color\":\"#2a3f5f\"},\"error_y\":{\"color\":\"#2a3f5f\"},\"marker\":{\"line\":{\"color\":\"#E5ECF6\",\"width\":0.5},\"pattern\":{\"fillmode\":\"overlay\",\"size\":10,\"solidity\":0.2}},\"type\":\"bar\"}],\"barpolar\":[{\"marker\":{\"line\":{\"color\":\"#E5ECF6\",\"width\":0.5},\"pattern\":{\"fillmode\":\"overlay\",\"size\":10,\"solidity\":0.2}},\"type\":\"barpolar\"}],\"carpet\":[{\"aaxis\":{\"endlinecolor\":\"#2a3f5f\",\"gridcolor\":\"white\",\"linecolor\":\"white\",\"minorgridcolor\":\"white\",\"startlinecolor\":\"#2a3f5f\"},\"baxis\":{\"endlinecolor\":\"#2a3f5f\",\"gridcolor\":\"white\",\"linecolor\":\"white\",\"minorgridcolor\":\"white\",\"startlinecolor\":\"#2a3f5f\"},\"type\":\"carpet\"}],\"choropleth\":[{\"colorbar\":{\"outlinewidth\":0,\"ticks\":\"\"},\"type\":\"choropleth\"}],\"contour\":[{\"colorbar\":{\"outlinewidth\":0,\"ticks\":\"\"},\"colorscale\":[[0.0,\"#0d0887\"],[0.1111111111111111,\"#46039f\"],[0.2222222222222222,\"#7201a8\"],[0.3333333333333333,\"#9c179e\"],[0.4444444444444444,\"#bd3786\"],[0.5555555555555556,\"#d8576b\"],[0.6666666666666666,\"#ed7953\"],[0.7777777777777778,\"#fb9f3a\"],[0.8888888888888888,\"#fdca26\"],[1.0,\"#f0f921\"]],\"type\":\"contour\"}],\"contourcarpet\":[{\"colorbar\":{\"outlinewidth\":0,\"ticks\":\"\"},\"type\":\"contourcarpet\"}],\"heatmap\":[{\"colorbar\":{\"outlinewidth\":0,\"ticks\":\"\"},\"colorscale\":[[0.0,\"#0d0887\"],[0.1111111111111111,\"#46039f\"],[0.2222222222222222,\"#7201a8\"],[0.3333333333333333,\"#9c179e\"],[0.4444444444444444,\"#bd3786\"],[0.5555555555555556,\"#d8576b\"],[0.6666666666666666,\"#ed7953\"],[0.7777777777777778,\"#fb9f3a\"],[0.8888888888888888,\"#fdca26\"],[1.0,\"#f0f921\"]],\"type\":\"heatmap\"}],\"heatmapgl\":[{\"colorbar\":{\"outlinewidth\":0,\"ticks\":\"\"},\"colorscale\":[[0.0,\"#0d0887\"],[0.1111111111111111,\"#46039f\"],[0.2222222222222222,\"#7201a8\"],[0.3333333333333333,\"#9c179e\"],[0.4444444444444444,\"#bd3786\"],[0.5555555555555556,\"#d8576b\"],[0.6666666666666666,\"#ed7953\"],[0.7777777777777778,\"#fb9f3a\"],[0.8888888888888888,\"#fdca26\"],[1.0,\"#f0f921\"]],\"type\":\"heatmapgl\"}],\"histogram\":[{\"marker\":{\"pattern\":{\"fillmode\":\"overlay\",\"size\":10,\"solidity\":0.2}},\"type\":\"histogram\"}],\"histogram2d\":[{\"colorbar\":{\"outlinewidth\":0,\"ticks\":\"\"},\"colorscale\":[[0.0,\"#0d0887\"],[0.1111111111111111,\"#46039f\"],[0.2222222222222222,\"#7201a8\"],[0.3333333333333333,\"#9c179e\"],[0.4444444444444444,\"#bd3786\"],[0.5555555555555556,\"#d8576b\"],[0.6666666666666666,\"#ed7953\"],[0.7777777777777778,\"#fb9f3a\"],[0.8888888888888888,\"#fdca26\"],[1.0,\"#f0f921\"]],\"type\":\"histogram2d\"}],\"histogram2dcontour\":[{\"colorbar\":{\"outlinewidth\":0,\"ticks\":\"\"},\"colorscale\":[[0.0,\"#0d0887\"],[0.1111111111111111,\"#46039f\"],[0.2222222222222222,\"#7201a8\"],[0.3333333333333333,\"#9c179e\"],[0.4444444444444444,\"#bd3786\"],[0.5555555555555556,\"#d8576b\"],[0.6666666666666666,\"#ed7953\"],[0.7777777777777778,\"#fb9f3a\"],[0.8888888888888888,\"#fdca26\"],[1.0,\"#f0f921\"]],\"type\":\"histogram2dcontour\"}],\"mesh3d\":[{\"colorbar\":{\"outlinewidth\":0,\"ticks\":\"\"},\"type\":\"mesh3d\"}],\"parcoords\":[{\"line\":{\"colorbar\":{\"outlinewidth\":0,\"ticks\":\"\"}},\"type\":\"parcoords\"}],\"pie\":[{\"automargin\":true,\"type\":\"pie\"}],\"scatter\":[{\"marker\":{\"colorbar\":{\"outlinewidth\":0,\"ticks\":\"\"}},\"type\":\"scatter\"}],\"scatter3d\":[{\"line\":{\"colorbar\":{\"outlinewidth\":0,\"ticks\":\"\"}},\"marker\":{\"colorbar\":{\"outlinewidth\":0,\"ticks\":\"\"}},\"type\":\"scatter3d\"}],\"scattercarpet\":[{\"marker\":{\"colorbar\":{\"outlinewidth\":0,\"ticks\":\"\"}},\"type\":\"scattercarpet\"}],\"scattergeo\":[{\"marker\":{\"colorbar\":{\"outlinewidth\":0,\"ticks\":\"\"}},\"type\":\"scattergeo\"}],\"scattergl\":[{\"marker\":{\"colorbar\":{\"outlinewidth\":0,\"ticks\":\"\"}},\"type\":\"scattergl\"}],\"scattermapbox\":[{\"marker\":{\"colorbar\":{\"outlinewidth\":0,\"ticks\":\"\"}},\"type\":\"scattermapbox\"}],\"scatterpolar\":[{\"marker\":{\"colorbar\":{\"outlinewidth\":0,\"ticks\":\"\"}},\"type\":\"scatterpolar\"}],\"scatterpolargl\":[{\"marker\":{\"colorbar\":{\"outlinewidth\":0,\"ticks\":\"\"}},\"type\":\"scatterpolargl\"}],\"scatterternary\":[{\"marker\":{\"colorbar\":{\"outlinewidth\":0,\"ticks\":\"\"}},\"type\":\"scatterternary\"}],\"surface\":[{\"colorbar\":{\"outlinewidth\":0,\"ticks\":\"\"},\"colorscale\":[[0.0,\"#0d0887\"],[0.1111111111111111,\"#46039f\"],[0.2222222222222222,\"#7201a8\"],[0.3333333333333333,\"#9c179e\"],[0.4444444444444444,\"#bd3786\"],[0.5555555555555556,\"#d8576b\"],[0.6666666666666666,\"#ed7953\"],[0.7777777777777778,\"#fb9f3a\"],[0.8888888888888888,\"#fdca26\"],[1.0,\"#f0f921\"]],\"type\":\"surface\"}],\"table\":[{\"cells\":{\"fill\":{\"color\":\"#EBF0F8\"},\"line\":{\"color\":\"white\"}},\"header\":{\"fill\":{\"color\":\"#C8D4E3\"},\"line\":{\"color\":\"white\"}},\"type\":\"table\"}]},\"layout\":{\"annotationdefaults\":{\"arrowcolor\":\"#2a3f5f\",\"arrowhead\":0,\"arrowwidth\":1},\"autotypenumbers\":\"strict\",\"coloraxis\":{\"colorbar\":{\"outlinewidth\":0,\"ticks\":\"\"}},\"colorscale\":{\"diverging\":[[0,\"#8e0152\"],[0.1,\"#c51b7d\"],[0.2,\"#de77ae\"],[0.3,\"#f1b6da\"],[0.4,\"#fde0ef\"],[0.5,\"#f7f7f7\"],[0.6,\"#e6f5d0\"],[0.7,\"#b8e186\"],[0.8,\"#7fbc41\"],[0.9,\"#4d9221\"],[1,\"#276419\"]],\"sequential\":[[0.0,\"#0d0887\"],[0.1111111111111111,\"#46039f\"],[0.2222222222222222,\"#7201a8\"],[0.3333333333333333,\"#9c179e\"],[0.4444444444444444,\"#bd3786\"],[0.5555555555555556,\"#d8576b\"],[0.6666666666666666,\"#ed7953\"],[0.7777777777777778,\"#fb9f3a\"],[0.8888888888888888,\"#fdca26\"],[1.0,\"#f0f921\"]],\"sequentialminus\":[[0.0,\"#0d0887\"],[0.1111111111111111,\"#46039f\"],[0.2222222222222222,\"#7201a8\"],[0.3333333333333333,\"#9c179e\"],[0.4444444444444444,\"#bd3786\"],[0.5555555555555556,\"#d8576b\"],[0.6666666666666666,\"#ed7953\"],[0.7777777777777778,\"#fb9f3a\"],[0.8888888888888888,\"#fdca26\"],[1.0,\"#f0f921\"]]},\"colorway\":[\"#636efa\",\"#EF553B\",\"#00cc96\",\"#ab63fa\",\"#FFA15A\",\"#19d3f3\",\"#FF6692\",\"#B6E880\",\"#FF97FF\",\"#FECB52\"],\"font\":{\"color\":\"#2a3f5f\"},\"geo\":{\"bgcolor\":\"white\",\"lakecolor\":\"white\",\"landcolor\":\"#E5ECF6\",\"showlakes\":true,\"showland\":true,\"subunitcolor\":\"white\"},\"hoverlabel\":{\"align\":\"left\"},\"hovermode\":\"closest\",\"mapbox\":{\"style\":\"light\"},\"paper_bgcolor\":\"white\",\"plot_bgcolor\":\"#E5ECF6\",\"polar\":{\"angularaxis\":{\"gridcolor\":\"white\",\"linecolor\":\"white\",\"ticks\":\"\"},\"bgcolor\":\"#E5ECF6\",\"radialaxis\":{\"gridcolor\":\"white\",\"linecolor\":\"white\",\"ticks\":\"\"}},\"scene\":{\"xaxis\":{\"backgroundcolor\":\"#E5ECF6\",\"gridcolor\":\"white\",\"gridwidth\":2,\"linecolor\":\"white\",\"showbackground\":true,\"ticks\":\"\",\"zerolinecolor\":\"white\"},\"yaxis\":{\"backgroundcolor\":\"#E5ECF6\",\"gridcolor\":\"white\",\"gridwidth\":2,\"linecolor\":\"white\",\"showbackground\":true,\"ticks\":\"\",\"zerolinecolor\":\"white\"},\"zaxis\":{\"backgroundcolor\":\"#E5ECF6\",\"gridcolor\":\"white\",\"gridwidth\":2,\"linecolor\":\"white\",\"showbackground\":true,\"ticks\":\"\",\"zerolinecolor\":\"white\"}},\"shapedefaults\":{\"line\":{\"color\":\"#2a3f5f\"}},\"ternary\":{\"aaxis\":{\"gridcolor\":\"white\",\"linecolor\":\"white\",\"ticks\":\"\"},\"baxis\":{\"gridcolor\":\"white\",\"linecolor\":\"white\",\"ticks\":\"\"},\"bgcolor\":\"#E5ECF6\",\"caxis\":{\"gridcolor\":\"white\",\"linecolor\":\"white\",\"ticks\":\"\"}},\"title\":{\"x\":0.05},\"xaxis\":{\"automargin\":true,\"gridcolor\":\"white\",\"linecolor\":\"white\",\"ticks\":\"\",\"title\":{\"standoff\":15},\"zerolinecolor\":\"white\",\"zerolinewidth\":2},\"yaxis\":{\"automargin\":true,\"gridcolor\":\"white\",\"linecolor\":\"white\",\"ticks\":\"\",\"title\":{\"standoff\":15},\"zerolinecolor\":\"white\",\"zerolinewidth\":2}}},\"xaxis\":{\"anchor\":\"y\",\"domain\":[0.0,1.0],\"title\":{\"text\":\"year\"},\"side\":\"top\",\"range\":[2011.5,2021.5],\"gridcolor\":\"rgb(217, 217, 217)\"},\"yaxis\":{\"anchor\":\"x\",\"domain\":[0.0,1.0],\"title\":{\"text\":\"number of projects\"},\"dtick\":1},\"legend\":{\"title\":{},\"tracegroupgap\":0,\"yanchor\":\"top\",\"y\":1,\"xanchor\":\"left\",\"x\":1.01,\"bgcolor\":\"rgba(0,0,0,0)\"},\"title\":{\"text\":\"Number of projects cancelled or operating\",\"y\":0.97,\"yanchor\":\"top\"},\"barmode\":\"relative\",\"height\":800,\"annotations\":[{\"font\":{\"size\":12},\"showarrow\":false,\"text\":\"<i>Note when a pipeline passes through multiple countries, it is divided into fractions that sum to 1.</i>\",\"x\":0,\"xref\":\"x domain\",\"y\":-0.1,\"yref\":\"y domain\"}],\"font\":{\"family\":\"Helvetica\",\"color\":\"rgb(150, 150, 150)\"},\"bargap\":0.25,\"plot_bgcolor\":\"white\",\"paper_bgcolor\":\"white\"},                        {\"responsive\": true}                    ).then(function(){\n",
       "                            \n",
       "var gd = document.getElementById('490e72c1-fd60-427c-97d9-132ebfe1941a');\n",
       "var x = new MutationObserver(function (mutations, observer) {{\n",
       "        var display = window.getComputedStyle(gd).display;\n",
       "        if (!display || display === 'none') {{\n",
       "            console.log([gd, 'removed!']);\n",
       "            Plotly.purge(gd);\n",
       "            observer.disconnect();\n",
       "        }}\n",
       "}});\n",
       "\n",
       "// Listen for the removal of the full notebook cells\n",
       "var notebookContainer = gd.closest('#notebook-container');\n",
       "if (notebookContainer) {{\n",
       "    x.observe(notebookContainer, {childList: true});\n",
       "}}\n",
       "\n",
       "// Listen for the clearing of the current output cell\n",
       "var outputEl = gd.closest('.output');\n",
       "if (outputEl) {{\n",
       "    x.observe(outputEl, {childList: true});\n",
       "}}\n",
       "\n",
       "                        })                };                });            </script>        </div>"
      ]
     },
     "metadata": {},
     "output_type": "display_data"
    }
   ],
   "source": [
    "fig = fig_year_counts()\n",
    "fig.show()"
   ]
  },
  {
   "cell_type": "markdown",
   "id": "0758d2e9-283b-485c-a885-fb7313175911",
   "metadata": {},
   "source": [
    "## update FID map with separate panels"
   ]
  },
  {
   "cell_type": "code",
   "execution_count": 11,
   "id": "5e58a1fd-4858-4a6e-b6c0-7114e9dc1461",
   "metadata": {},
   "outputs": [
    {
     "data": {
      "application/vnd.plotly.v1+json": {
       "config": {
        "plotlyServerURL": "https://plot.ly"
       },
       "data": [
        {
         "alignmentgroup": "True",
         "hovertemplate": "variable=Pipelines FID<br>value=%{x}<br>Country=%{y}<extra></extra>",
         "legendgroup": "Pipelines FID",
         "marker": {
          "color": "rgb(8, 74, 146)",
          "pattern": {
           "shape": ""
          }
         },
         "name": "Pipelines FID",
         "offsetgroup": "Pipelines FID",
         "orientation": "h",
         "showlegend": true,
         "textposition": "auto",
         "type": "bar",
         "visible": true,
         "x": [
          0,
          0,
          0.14,
          0.66,
          0.85,
          0,
          0,
          0,
          0,
          0,
          0,
          0.69,
          0,
          0,
          0,
          0.5,
          0,
          0,
          0,
          0,
          0,
          0.15,
          2,
          3,
          0,
          5.85,
          6.16
         ],
         "xaxis": "x",
         "y": [
          "Luxembourg",
          "Czech Republic",
          "Sweden",
          "Slovakia",
          "Lithuania",
          "Portugal",
          "Netherlands",
          "Austria",
          "Estonia",
          "Malta",
          "Hungary",
          "Denmark",
          "Finland",
          "Belgium",
          "Germany",
          "Latvia",
          "Cyprus",
          "France",
          "Spain",
          "Slovenia",
          "Ireland",
          "Greece",
          "Romania",
          "Italy",
          "Croatia",
          "Bulgaria",
          "Poland"
         ],
         "yaxis": "y"
        },
        {
         "alignmentgroup": "True",
         "hovertemplate": "variable=Pipelines pre-FID<br>value=%{x}<br>Country=%{y}<extra></extra>",
         "legendgroup": "Pipelines pre-FID",
         "marker": {
          "color": "rgb(46, 126, 188)",
          "pattern": {
           "shape": ""
          }
         },
         "name": "Pipelines pre-FID",
         "offsetgroup": "Pipelines pre-FID",
         "orientation": "h",
         "showlegend": true,
         "textposition": "auto",
         "type": "bar",
         "visible": "legendonly",
         "x": [
          0,
          0,
          0,
          0.02,
          0,
          1,
          0,
          1,
          0,
          0.44,
          1.65,
          0,
          0,
          0,
          0,
          1,
          1.99,
          0,
          1,
          4.17,
          1.5,
          3.75,
          5.33,
          5.95,
          8.03,
          5.04,
          8.41
         ],
         "xaxis": "x",
         "y": [
          "Luxembourg",
          "Czech Republic",
          "Sweden",
          "Slovakia",
          "Lithuania",
          "Portugal",
          "Netherlands",
          "Austria",
          "Estonia",
          "Malta",
          "Hungary",
          "Denmark",
          "Finland",
          "Belgium",
          "Germany",
          "Latvia",
          "Cyprus",
          "France",
          "Spain",
          "Slovenia",
          "Ireland",
          "Greece",
          "Romania",
          "Italy",
          "Croatia",
          "Bulgaria",
          "Poland"
         ],
         "yaxis": "y"
        },
        {
         "alignmentgroup": "True",
         "hovertemplate": "variable=Terminals FID<br>value=%{x}<br>Country=%{y}<extra></extra>",
         "legendgroup": "Terminals FID",
         "marker": {
          "color": "rgb(107, 174, 214)",
          "pattern": {
           "shape": ""
          }
         },
         "name": "Terminals FID",
         "offsetgroup": "Terminals FID",
         "orientation": "h",
         "showlegend": true,
         "textposition": "auto",
         "type": "bar",
         "visible": "legendonly",
         "x": [
          0,
          0,
          0,
          0,
          0,
          0,
          1,
          0,
          0,
          0,
          0,
          0,
          1,
          2,
          0,
          0,
          0,
          0,
          1,
          0,
          0,
          1,
          0,
          0,
          0,
          0,
          2
         ],
         "xaxis": "x",
         "y": [
          "Luxembourg",
          "Czech Republic",
          "Sweden",
          "Slovakia",
          "Lithuania",
          "Portugal",
          "Netherlands",
          "Austria",
          "Estonia",
          "Malta",
          "Hungary",
          "Denmark",
          "Finland",
          "Belgium",
          "Germany",
          "Latvia",
          "Cyprus",
          "France",
          "Spain",
          "Slovenia",
          "Ireland",
          "Greece",
          "Romania",
          "Italy",
          "Croatia",
          "Bulgaria",
          "Poland"
         ],
         "yaxis": "y"
        },
        {
         "alignmentgroup": "True",
         "hovertemplate": "variable=Terminals pre-FID<br>value=%{x}<br>Country=%{y}<extra></extra>",
         "legendgroup": "Terminals pre-FID",
         "marker": {
          "color": "rgb(182, 212, 233)",
          "pattern": {
           "shape": ""
          }
         },
         "name": "Terminals pre-FID",
         "offsetgroup": "Terminals pre-FID",
         "orientation": "h",
         "showlegend": true,
         "textposition": "auto",
         "type": "bar",
         "visible": "legendonly",
         "x": [
          0,
          0,
          0,
          0,
          0,
          0,
          0,
          0,
          1,
          1,
          0,
          1,
          1,
          0,
          2,
          1,
          1,
          3,
          2,
          0,
          4,
          1,
          1,
          0,
          1,
          0,
          1
         ],
         "xaxis": "x",
         "y": [
          "Luxembourg",
          "Czech Republic",
          "Sweden",
          "Slovakia",
          "Lithuania",
          "Portugal",
          "Netherlands",
          "Austria",
          "Estonia",
          "Malta",
          "Hungary",
          "Denmark",
          "Finland",
          "Belgium",
          "Germany",
          "Latvia",
          "Cyprus",
          "France",
          "Spain",
          "Slovenia",
          "Ireland",
          "Greece",
          "Romania",
          "Italy",
          "Croatia",
          "Bulgaria",
          "Poland"
         ],
         "yaxis": "y"
        }
       ],
       "layout": {
        "annotations": [
         {
          "font": {
           "size": 12
          },
          "showarrow": false,
          "text": "<i>Note when a pipeline passes through multiple countries, it is divided into fractions that sum to 1.</i>",
          "x": 0,
          "xref": "x domain",
          "y": -0.1,
          "yref": "y domain"
         }
        ],
        "autosize": true,
        "bargap": 0.25,
        "barmode": "relative",
        "font": {
         "color": "rgb(150, 150, 150)",
         "family": "Helvetica"
        },
        "legend": {
         "bgcolor": "rgba(0, 0, 0, 0)",
         "title": {},
         "tracegroupgap": 0,
         "x": 1.01,
         "xanchor": "left",
         "y": 1,
         "yanchor": "top"
        },
        "paper_bgcolor": "white",
        "plot_bgcolor": "white",
        "template": {
         "data": {
          "bar": [
           {
            "error_x": {
             "color": "#2a3f5f"
            },
            "error_y": {
             "color": "#2a3f5f"
            },
            "marker": {
             "line": {
              "color": "#E5ECF6",
              "width": 0.5
             },
             "pattern": {
              "fillmode": "overlay",
              "size": 10,
              "solidity": 0.2
             }
            },
            "type": "bar"
           }
          ],
          "barpolar": [
           {
            "marker": {
             "line": {
              "color": "#E5ECF6",
              "width": 0.5
             },
             "pattern": {
              "fillmode": "overlay",
              "size": 10,
              "solidity": 0.2
             }
            },
            "type": "barpolar"
           }
          ],
          "carpet": [
           {
            "aaxis": {
             "endlinecolor": "#2a3f5f",
             "gridcolor": "white",
             "linecolor": "white",
             "minorgridcolor": "white",
             "startlinecolor": "#2a3f5f"
            },
            "baxis": {
             "endlinecolor": "#2a3f5f",
             "gridcolor": "white",
             "linecolor": "white",
             "minorgridcolor": "white",
             "startlinecolor": "#2a3f5f"
            },
            "type": "carpet"
           }
          ],
          "choropleth": [
           {
            "colorbar": {
             "outlinewidth": 0,
             "ticks": ""
            },
            "type": "choropleth"
           }
          ],
          "contour": [
           {
            "colorbar": {
             "outlinewidth": 0,
             "ticks": ""
            },
            "colorscale": [
             [
              0,
              "#0d0887"
             ],
             [
              0.1111111111111111,
              "#46039f"
             ],
             [
              0.2222222222222222,
              "#7201a8"
             ],
             [
              0.3333333333333333,
              "#9c179e"
             ],
             [
              0.4444444444444444,
              "#bd3786"
             ],
             [
              0.5555555555555556,
              "#d8576b"
             ],
             [
              0.6666666666666666,
              "#ed7953"
             ],
             [
              0.7777777777777778,
              "#fb9f3a"
             ],
             [
              0.8888888888888888,
              "#fdca26"
             ],
             [
              1,
              "#f0f921"
             ]
            ],
            "type": "contour"
           }
          ],
          "contourcarpet": [
           {
            "colorbar": {
             "outlinewidth": 0,
             "ticks": ""
            },
            "type": "contourcarpet"
           }
          ],
          "heatmap": [
           {
            "colorbar": {
             "outlinewidth": 0,
             "ticks": ""
            },
            "colorscale": [
             [
              0,
              "#0d0887"
             ],
             [
              0.1111111111111111,
              "#46039f"
             ],
             [
              0.2222222222222222,
              "#7201a8"
             ],
             [
              0.3333333333333333,
              "#9c179e"
             ],
             [
              0.4444444444444444,
              "#bd3786"
             ],
             [
              0.5555555555555556,
              "#d8576b"
             ],
             [
              0.6666666666666666,
              "#ed7953"
             ],
             [
              0.7777777777777778,
              "#fb9f3a"
             ],
             [
              0.8888888888888888,
              "#fdca26"
             ],
             [
              1,
              "#f0f921"
             ]
            ],
            "type": "heatmap"
           }
          ],
          "heatmapgl": [
           {
            "colorbar": {
             "outlinewidth": 0,
             "ticks": ""
            },
            "colorscale": [
             [
              0,
              "#0d0887"
             ],
             [
              0.1111111111111111,
              "#46039f"
             ],
             [
              0.2222222222222222,
              "#7201a8"
             ],
             [
              0.3333333333333333,
              "#9c179e"
             ],
             [
              0.4444444444444444,
              "#bd3786"
             ],
             [
              0.5555555555555556,
              "#d8576b"
             ],
             [
              0.6666666666666666,
              "#ed7953"
             ],
             [
              0.7777777777777778,
              "#fb9f3a"
             ],
             [
              0.8888888888888888,
              "#fdca26"
             ],
             [
              1,
              "#f0f921"
             ]
            ],
            "type": "heatmapgl"
           }
          ],
          "histogram": [
           {
            "marker": {
             "pattern": {
              "fillmode": "overlay",
              "size": 10,
              "solidity": 0.2
             }
            },
            "type": "histogram"
           }
          ],
          "histogram2d": [
           {
            "colorbar": {
             "outlinewidth": 0,
             "ticks": ""
            },
            "colorscale": [
             [
              0,
              "#0d0887"
             ],
             [
              0.1111111111111111,
              "#46039f"
             ],
             [
              0.2222222222222222,
              "#7201a8"
             ],
             [
              0.3333333333333333,
              "#9c179e"
             ],
             [
              0.4444444444444444,
              "#bd3786"
             ],
             [
              0.5555555555555556,
              "#d8576b"
             ],
             [
              0.6666666666666666,
              "#ed7953"
             ],
             [
              0.7777777777777778,
              "#fb9f3a"
             ],
             [
              0.8888888888888888,
              "#fdca26"
             ],
             [
              1,
              "#f0f921"
             ]
            ],
            "type": "histogram2d"
           }
          ],
          "histogram2dcontour": [
           {
            "colorbar": {
             "outlinewidth": 0,
             "ticks": ""
            },
            "colorscale": [
             [
              0,
              "#0d0887"
             ],
             [
              0.1111111111111111,
              "#46039f"
             ],
             [
              0.2222222222222222,
              "#7201a8"
             ],
             [
              0.3333333333333333,
              "#9c179e"
             ],
             [
              0.4444444444444444,
              "#bd3786"
             ],
             [
              0.5555555555555556,
              "#d8576b"
             ],
             [
              0.6666666666666666,
              "#ed7953"
             ],
             [
              0.7777777777777778,
              "#fb9f3a"
             ],
             [
              0.8888888888888888,
              "#fdca26"
             ],
             [
              1,
              "#f0f921"
             ]
            ],
            "type": "histogram2dcontour"
           }
          ],
          "mesh3d": [
           {
            "colorbar": {
             "outlinewidth": 0,
             "ticks": ""
            },
            "type": "mesh3d"
           }
          ],
          "parcoords": [
           {
            "line": {
             "colorbar": {
              "outlinewidth": 0,
              "ticks": ""
             }
            },
            "type": "parcoords"
           }
          ],
          "pie": [
           {
            "automargin": true,
            "type": "pie"
           }
          ],
          "scatter": [
           {
            "marker": {
             "colorbar": {
              "outlinewidth": 0,
              "ticks": ""
             }
            },
            "type": "scatter"
           }
          ],
          "scatter3d": [
           {
            "line": {
             "colorbar": {
              "outlinewidth": 0,
              "ticks": ""
             }
            },
            "marker": {
             "colorbar": {
              "outlinewidth": 0,
              "ticks": ""
             }
            },
            "type": "scatter3d"
           }
          ],
          "scattercarpet": [
           {
            "marker": {
             "colorbar": {
              "outlinewidth": 0,
              "ticks": ""
             }
            },
            "type": "scattercarpet"
           }
          ],
          "scattergeo": [
           {
            "marker": {
             "colorbar": {
              "outlinewidth": 0,
              "ticks": ""
             }
            },
            "type": "scattergeo"
           }
          ],
          "scattergl": [
           {
            "marker": {
             "colorbar": {
              "outlinewidth": 0,
              "ticks": ""
             }
            },
            "type": "scattergl"
           }
          ],
          "scattermapbox": [
           {
            "marker": {
             "colorbar": {
              "outlinewidth": 0,
              "ticks": ""
             }
            },
            "type": "scattermapbox"
           }
          ],
          "scatterpolar": [
           {
            "marker": {
             "colorbar": {
              "outlinewidth": 0,
              "ticks": ""
             }
            },
            "type": "scatterpolar"
           }
          ],
          "scatterpolargl": [
           {
            "marker": {
             "colorbar": {
              "outlinewidth": 0,
              "ticks": ""
             }
            },
            "type": "scatterpolargl"
           }
          ],
          "scatterternary": [
           {
            "marker": {
             "colorbar": {
              "outlinewidth": 0,
              "ticks": ""
             }
            },
            "type": "scatterternary"
           }
          ],
          "surface": [
           {
            "colorbar": {
             "outlinewidth": 0,
             "ticks": ""
            },
            "colorscale": [
             [
              0,
              "#0d0887"
             ],
             [
              0.1111111111111111,
              "#46039f"
             ],
             [
              0.2222222222222222,
              "#7201a8"
             ],
             [
              0.3333333333333333,
              "#9c179e"
             ],
             [
              0.4444444444444444,
              "#bd3786"
             ],
             [
              0.5555555555555556,
              "#d8576b"
             ],
             [
              0.6666666666666666,
              "#ed7953"
             ],
             [
              0.7777777777777778,
              "#fb9f3a"
             ],
             [
              0.8888888888888888,
              "#fdca26"
             ],
             [
              1,
              "#f0f921"
             ]
            ],
            "type": "surface"
           }
          ],
          "table": [
           {
            "cells": {
             "fill": {
              "color": "#EBF0F8"
             },
             "line": {
              "color": "white"
             }
            },
            "header": {
             "fill": {
              "color": "#C8D4E3"
             },
             "line": {
              "color": "white"
             }
            },
            "type": "table"
           }
          ]
         },
         "layout": {
          "annotationdefaults": {
           "arrowcolor": "#2a3f5f",
           "arrowhead": 0,
           "arrowwidth": 1
          },
          "autotypenumbers": "strict",
          "coloraxis": {
           "colorbar": {
            "outlinewidth": 0,
            "ticks": ""
           }
          },
          "colorscale": {
           "diverging": [
            [
             0,
             "#8e0152"
            ],
            [
             0.1,
             "#c51b7d"
            ],
            [
             0.2,
             "#de77ae"
            ],
            [
             0.3,
             "#f1b6da"
            ],
            [
             0.4,
             "#fde0ef"
            ],
            [
             0.5,
             "#f7f7f7"
            ],
            [
             0.6,
             "#e6f5d0"
            ],
            [
             0.7,
             "#b8e186"
            ],
            [
             0.8,
             "#7fbc41"
            ],
            [
             0.9,
             "#4d9221"
            ],
            [
             1,
             "#276419"
            ]
           ],
           "sequential": [
            [
             0,
             "#0d0887"
            ],
            [
             0.1111111111111111,
             "#46039f"
            ],
            [
             0.2222222222222222,
             "#7201a8"
            ],
            [
             0.3333333333333333,
             "#9c179e"
            ],
            [
             0.4444444444444444,
             "#bd3786"
            ],
            [
             0.5555555555555556,
             "#d8576b"
            ],
            [
             0.6666666666666666,
             "#ed7953"
            ],
            [
             0.7777777777777778,
             "#fb9f3a"
            ],
            [
             0.8888888888888888,
             "#fdca26"
            ],
            [
             1,
             "#f0f921"
            ]
           ],
           "sequentialminus": [
            [
             0,
             "#0d0887"
            ],
            [
             0.1111111111111111,
             "#46039f"
            ],
            [
             0.2222222222222222,
             "#7201a8"
            ],
            [
             0.3333333333333333,
             "#9c179e"
            ],
            [
             0.4444444444444444,
             "#bd3786"
            ],
            [
             0.5555555555555556,
             "#d8576b"
            ],
            [
             0.6666666666666666,
             "#ed7953"
            ],
            [
             0.7777777777777778,
             "#fb9f3a"
            ],
            [
             0.8888888888888888,
             "#fdca26"
            ],
            [
             1,
             "#f0f921"
            ]
           ]
          },
          "colorway": [
           "#636efa",
           "#EF553B",
           "#00cc96",
           "#ab63fa",
           "#FFA15A",
           "#19d3f3",
           "#FF6692",
           "#B6E880",
           "#FF97FF",
           "#FECB52"
          ],
          "font": {
           "color": "#2a3f5f"
          },
          "geo": {
           "bgcolor": "white",
           "lakecolor": "white",
           "landcolor": "#E5ECF6",
           "showlakes": true,
           "showland": true,
           "subunitcolor": "white"
          },
          "hoverlabel": {
           "align": "left"
          },
          "hovermode": "closest",
          "mapbox": {
           "style": "light"
          },
          "paper_bgcolor": "white",
          "plot_bgcolor": "#E5ECF6",
          "polar": {
           "angularaxis": {
            "gridcolor": "white",
            "linecolor": "white",
            "ticks": ""
           },
           "bgcolor": "#E5ECF6",
           "radialaxis": {
            "gridcolor": "white",
            "linecolor": "white",
            "ticks": ""
           }
          },
          "scene": {
           "xaxis": {
            "backgroundcolor": "#E5ECF6",
            "gridcolor": "white",
            "gridwidth": 2,
            "linecolor": "white",
            "showbackground": true,
            "ticks": "",
            "zerolinecolor": "white"
           },
           "yaxis": {
            "backgroundcolor": "#E5ECF6",
            "gridcolor": "white",
            "gridwidth": 2,
            "linecolor": "white",
            "showbackground": true,
            "ticks": "",
            "zerolinecolor": "white"
           },
           "zaxis": {
            "backgroundcolor": "#E5ECF6",
            "gridcolor": "white",
            "gridwidth": 2,
            "linecolor": "white",
            "showbackground": true,
            "ticks": "",
            "zerolinecolor": "white"
           }
          },
          "shapedefaults": {
           "line": {
            "color": "#2a3f5f"
           }
          },
          "ternary": {
           "aaxis": {
            "gridcolor": "white",
            "linecolor": "white",
            "ticks": ""
           },
           "baxis": {
            "gridcolor": "white",
            "linecolor": "white",
            "ticks": ""
           },
           "bgcolor": "#E5ECF6",
           "caxis": {
            "gridcolor": "white",
            "linecolor": "white",
            "ticks": ""
           }
          },
          "title": {
           "x": 0.05
          },
          "xaxis": {
           "automargin": true,
           "gridcolor": "white",
           "linecolor": "white",
           "ticks": "",
           "title": {
            "standoff": 15
           },
           "zerolinecolor": "white",
           "zerolinewidth": 2
          },
          "yaxis": {
           "automargin": true,
           "gridcolor": "white",
           "linecolor": "white",
           "ticks": "",
           "title": {
            "standoff": 15
           },
           "zerolinecolor": "white",
           "zerolinewidth": 2
          }
         }
        },
        "title": {
         "text": "Number of projects at FID or pre-FID",
         "y": 0.97,
         "yanchor": "top"
        },
        "xaxis": {
         "anchor": "y",
         "autorange": true,
         "domain": [
          0,
          1
         ],
         "gridcolor": "rgb(217, 217, 217)",
         "range": [
          0,
          6.48421052631579
         ],
         "side": "top",
         "title": {
          "text": "number of projects"
         },
         "type": "linear"
        },
        "yaxis": {
         "anchor": "x",
         "autorange": true,
         "domain": [
          0,
          1
         ],
         "dtick": 1,
         "range": [
          -0.5,
          26.5
         ],
         "title": {
          "text": "country"
         },
         "type": "category"
        }
       }
      },
      "image/png": "[encoded data removed]",
      "text/html": [
       "<div>                            <div id=\"d3aa45cb-7114-40d3-90f1-057c1606a947\" class=\"plotly-graph-div\" style=\"height:800px; width:100%;\"></div>            <script type=\"text/javascript\">                require([\"plotly\"], function(Plotly) {                    window.PLOTLYENV=window.PLOTLYENV || {};                                    if (document.getElementById(\"d3aa45cb-7114-40d3-90f1-057c1606a947\")) {                    Plotly.newPlot(                        \"d3aa45cb-7114-40d3-90f1-057c1606a947\",                        [{\"alignmentgroup\":\"True\",\"hovertemplate\":\"variable=Pipelines FID<br>value=%{x}<br>Country=%{y}<extra></extra>\",\"legendgroup\":\"Pipelines FID\",\"marker\":{\"color\":\"rgb(8, 74, 146)\",\"pattern\":{\"shape\":\"\"}},\"name\":\"Pipelines FID\",\"offsetgroup\":\"Pipelines FID\",\"orientation\":\"h\",\"showlegend\":true,\"textposition\":\"auto\",\"x\":[0.0,0.0,0.14,0.66,0.85,0.0,0.0,0.0,0.0,0.0,0.0,0.69,0.0,0.0,0.0,0.5,0.0,0.0,0.0,0.0,0.0,0.15,2.0,3.0,0.0,5.85,6.16],\"xaxis\":\"x\",\"y\":[\"Luxembourg\",\"Czech Republic\",\"Sweden\",\"Slovakia\",\"Lithuania\",\"Portugal\",\"Netherlands\",\"Austria\",\"Estonia\",\"Malta\",\"Hungary\",\"Denmark\",\"Finland\",\"Belgium\",\"Germany\",\"Latvia\",\"Cyprus\",\"France\",\"Spain\",\"Slovenia\",\"Ireland\",\"Greece\",\"Romania\",\"Italy\",\"Croatia\",\"Bulgaria\",\"Poland\"],\"yaxis\":\"y\",\"type\":\"bar\"},{\"alignmentgroup\":\"True\",\"hovertemplate\":\"variable=Pipelines pre-FID<br>value=%{x}<br>Country=%{y}<extra></extra>\",\"legendgroup\":\"Pipelines pre-FID\",\"marker\":{\"color\":\"rgb(46, 126, 188)\",\"pattern\":{\"shape\":\"\"}},\"name\":\"Pipelines pre-FID\",\"offsetgroup\":\"Pipelines pre-FID\",\"orientation\":\"h\",\"showlegend\":true,\"textposition\":\"auto\",\"x\":[0.0,0.0,0.0,0.02,0.0,1.0,0.0,1.0,0.0,0.44,1.65,0.0,0.0,0.0,0.0,1.0,1.99,0.0,1.0,4.17,1.5,3.75,5.33,5.95,8.03,5.04,8.41],\"xaxis\":\"x\",\"y\":[\"Luxembourg\",\"Czech Republic\",\"Sweden\",\"Slovakia\",\"Lithuania\",\"Portugal\",\"Netherlands\",\"Austria\",\"Estonia\",\"Malta\",\"Hungary\",\"Denmark\",\"Finland\",\"Belgium\",\"Germany\",\"Latvia\",\"Cyprus\",\"France\",\"Spain\",\"Slovenia\",\"Ireland\",\"Greece\",\"Romania\",\"Italy\",\"Croatia\",\"Bulgaria\",\"Poland\"],\"yaxis\":\"y\",\"type\":\"bar\"},{\"alignmentgroup\":\"True\",\"hovertemplate\":\"variable=Terminals FID<br>value=%{x}<br>Country=%{y}<extra></extra>\",\"legendgroup\":\"Terminals FID\",\"marker\":{\"color\":\"rgb(107, 174, 214)\",\"pattern\":{\"shape\":\"\"}},\"name\":\"Terminals FID\",\"offsetgroup\":\"Terminals FID\",\"orientation\":\"h\",\"showlegend\":true,\"textposition\":\"auto\",\"x\":[0.0,0.0,0.0,0.0,0.0,0.0,1.0,0.0,0.0,0.0,0.0,0.0,1.0,2.0,0.0,0.0,0.0,0.0,1.0,0.0,0.0,1.0,0.0,0.0,0.0,0.0,2.0],\"xaxis\":\"x\",\"y\":[\"Luxembourg\",\"Czech Republic\",\"Sweden\",\"Slovakia\",\"Lithuania\",\"Portugal\",\"Netherlands\",\"Austria\",\"Estonia\",\"Malta\",\"Hungary\",\"Denmark\",\"Finland\",\"Belgium\",\"Germany\",\"Latvia\",\"Cyprus\",\"France\",\"Spain\",\"Slovenia\",\"Ireland\",\"Greece\",\"Romania\",\"Italy\",\"Croatia\",\"Bulgaria\",\"Poland\"],\"yaxis\":\"y\",\"type\":\"bar\"},{\"alignmentgroup\":\"True\",\"hovertemplate\":\"variable=Terminals pre-FID<br>value=%{x}<br>Country=%{y}<extra></extra>\",\"legendgroup\":\"Terminals pre-FID\",\"marker\":{\"color\":\"rgb(182, 212, 233)\",\"pattern\":{\"shape\":\"\"}},\"name\":\"Terminals pre-FID\",\"offsetgroup\":\"Terminals pre-FID\",\"orientation\":\"h\",\"showlegend\":true,\"textposition\":\"auto\",\"x\":[0.0,0.0,0.0,0.0,0.0,0.0,0.0,0.0,1.0,1.0,0.0,1.0,1.0,0.0,2.0,1.0,1.0,3.0,2.0,0.0,4.0,1.0,1.0,0.0,1.0,0.0,1.0],\"xaxis\":\"x\",\"y\":[\"Luxembourg\",\"Czech Republic\",\"Sweden\",\"Slovakia\",\"Lithuania\",\"Portugal\",\"Netherlands\",\"Austria\",\"Estonia\",\"Malta\",\"Hungary\",\"Denmark\",\"Finland\",\"Belgium\",\"Germany\",\"Latvia\",\"Cyprus\",\"France\",\"Spain\",\"Slovenia\",\"Ireland\",\"Greece\",\"Romania\",\"Italy\",\"Croatia\",\"Bulgaria\",\"Poland\"],\"yaxis\":\"y\",\"type\":\"bar\"}],                        {\"template\":{\"data\":{\"bar\":[{\"error_x\":{\"color\":\"#2a3f5f\"},\"error_y\":{\"color\":\"#2a3f5f\"},\"marker\":{\"line\":{\"color\":\"#E5ECF6\",\"width\":0.5},\"pattern\":{\"fillmode\":\"overlay\",\"size\":10,\"solidity\":0.2}},\"type\":\"bar\"}],\"barpolar\":[{\"marker\":{\"line\":{\"color\":\"#E5ECF6\",\"width\":0.5},\"pattern\":{\"fillmode\":\"overlay\",\"size\":10,\"solidity\":0.2}},\"type\":\"barpolar\"}],\"carpet\":[{\"aaxis\":{\"endlinecolor\":\"#2a3f5f\",\"gridcolor\":\"white\",\"linecolor\":\"white\",\"minorgridcolor\":\"white\",\"startlinecolor\":\"#2a3f5f\"},\"baxis\":{\"endlinecolor\":\"#2a3f5f\",\"gridcolor\":\"white\",\"linecolor\":\"white\",\"minorgridcolor\":\"white\",\"startlinecolor\":\"#2a3f5f\"},\"type\":\"carpet\"}],\"choropleth\":[{\"colorbar\":{\"outlinewidth\":0,\"ticks\":\"\"},\"type\":\"choropleth\"}],\"contour\":[{\"colorbar\":{\"outlinewidth\":0,\"ticks\":\"\"},\"colorscale\":[[0.0,\"#0d0887\"],[0.1111111111111111,\"#46039f\"],[0.2222222222222222,\"#7201a8\"],[0.3333333333333333,\"#9c179e\"],[0.4444444444444444,\"#bd3786\"],[0.5555555555555556,\"#d8576b\"],[0.6666666666666666,\"#ed7953\"],[0.7777777777777778,\"#fb9f3a\"],[0.8888888888888888,\"#fdca26\"],[1.0,\"#f0f921\"]],\"type\":\"contour\"}],\"contourcarpet\":[{\"colorbar\":{\"outlinewidth\":0,\"ticks\":\"\"},\"type\":\"contourcarpet\"}],\"heatmap\":[{\"colorbar\":{\"outlinewidth\":0,\"ticks\":\"\"},\"colorscale\":[[0.0,\"#0d0887\"],[0.1111111111111111,\"#46039f\"],[0.2222222222222222,\"#7201a8\"],[0.3333333333333333,\"#9c179e\"],[0.4444444444444444,\"#bd3786\"],[0.5555555555555556,\"#d8576b\"],[0.6666666666666666,\"#ed7953\"],[0.7777777777777778,\"#fb9f3a\"],[0.8888888888888888,\"#fdca26\"],[1.0,\"#f0f921\"]],\"type\":\"heatmap\"}],\"heatmapgl\":[{\"colorbar\":{\"outlinewidth\":0,\"ticks\":\"\"},\"colorscale\":[[0.0,\"#0d0887\"],[0.1111111111111111,\"#46039f\"],[0.2222222222222222,\"#7201a8\"],[0.3333333333333333,\"#9c179e\"],[0.4444444444444444,\"#bd3786\"],[0.5555555555555556,\"#d8576b\"],[0.6666666666666666,\"#ed7953\"],[0.7777777777777778,\"#fb9f3a\"],[0.8888888888888888,\"#fdca26\"],[1.0,\"#f0f921\"]],\"type\":\"heatmapgl\"}],\"histogram\":[{\"marker\":{\"pattern\":{\"fillmode\":\"overlay\",\"size\":10,\"solidity\":0.2}},\"type\":\"histogram\"}],\"histogram2d\":[{\"colorbar\":{\"outlinewidth\":0,\"ticks\":\"\"},\"colorscale\":[[0.0,\"#0d0887\"],[0.1111111111111111,\"#46039f\"],[0.2222222222222222,\"#7201a8\"],[0.3333333333333333,\"#9c179e\"],[0.4444444444444444,\"#bd3786\"],[0.5555555555555556,\"#d8576b\"],[0.6666666666666666,\"#ed7953\"],[0.7777777777777778,\"#fb9f3a\"],[0.8888888888888888,\"#fdca26\"],[1.0,\"#f0f921\"]],\"type\":\"histogram2d\"}],\"histogram2dcontour\":[{\"colorbar\":{\"outlinewidth\":0,\"ticks\":\"\"},\"colorscale\":[[0.0,\"#0d0887\"],[0.1111111111111111,\"#46039f\"],[0.2222222222222222,\"#7201a8\"],[0.3333333333333333,\"#9c179e\"],[0.4444444444444444,\"#bd3786\"],[0.5555555555555556,\"#d8576b\"],[0.6666666666666666,\"#ed7953\"],[0.7777777777777778,\"#fb9f3a\"],[0.8888888888888888,\"#fdca26\"],[1.0,\"#f0f921\"]],\"type\":\"histogram2dcontour\"}],\"mesh3d\":[{\"colorbar\":{\"outlinewidth\":0,\"ticks\":\"\"},\"type\":\"mesh3d\"}],\"parcoords\":[{\"line\":{\"colorbar\":{\"outlinewidth\":0,\"ticks\":\"\"}},\"type\":\"parcoords\"}],\"pie\":[{\"automargin\":true,\"type\":\"pie\"}],\"scatter\":[{\"marker\":{\"colorbar\":{\"outlinewidth\":0,\"ticks\":\"\"}},\"type\":\"scatter\"}],\"scatter3d\":[{\"line\":{\"colorbar\":{\"outlinewidth\":0,\"ticks\":\"\"}},\"marker\":{\"colorbar\":{\"outlinewidth\":0,\"ticks\":\"\"}},\"type\":\"scatter3d\"}],\"scattercarpet\":[{\"marker\":{\"colorbar\":{\"outlinewidth\":0,\"ticks\":\"\"}},\"type\":\"scattercarpet\"}],\"scattergeo\":[{\"marker\":{\"colorbar\":{\"outlinewidth\":0,\"ticks\":\"\"}},\"type\":\"scattergeo\"}],\"scattergl\":[{\"marker\":{\"colorbar\":{\"outlinewidth\":0,\"ticks\":\"\"}},\"type\":\"scattergl\"}],\"scattermapbox\":[{\"marker\":{\"colorbar\":{\"outlinewidth\":0,\"ticks\":\"\"}},\"type\":\"scattermapbox\"}],\"scatterpolar\":[{\"marker\":{\"colorbar\":{\"outlinewidth\":0,\"ticks\":\"\"}},\"type\":\"scatterpolar\"}],\"scatterpolargl\":[{\"marker\":{\"colorbar\":{\"outlinewidth\":0,\"ticks\":\"\"}},\"type\":\"scatterpolargl\"}],\"scatterternary\":[{\"marker\":{\"colorbar\":{\"outlinewidth\":0,\"ticks\":\"\"}},\"type\":\"scatterternary\"}],\"surface\":[{\"colorbar\":{\"outlinewidth\":0,\"ticks\":\"\"},\"colorscale\":[[0.0,\"#0d0887\"],[0.1111111111111111,\"#46039f\"],[0.2222222222222222,\"#7201a8\"],[0.3333333333333333,\"#9c179e\"],[0.4444444444444444,\"#bd3786\"],[0.5555555555555556,\"#d8576b\"],[0.6666666666666666,\"#ed7953\"],[0.7777777777777778,\"#fb9f3a\"],[0.8888888888888888,\"#fdca26\"],[1.0,\"#f0f921\"]],\"type\":\"surface\"}],\"table\":[{\"cells\":{\"fill\":{\"color\":\"#EBF0F8\"},\"line\":{\"color\":\"white\"}},\"header\":{\"fill\":{\"color\":\"#C8D4E3\"},\"line\":{\"color\":\"white\"}},\"type\":\"table\"}]},\"layout\":{\"annotationdefaults\":{\"arrowcolor\":\"#2a3f5f\",\"arrowhead\":0,\"arrowwidth\":1},\"autotypenumbers\":\"strict\",\"coloraxis\":{\"colorbar\":{\"outlinewidth\":0,\"ticks\":\"\"}},\"colorscale\":{\"diverging\":[[0,\"#8e0152\"],[0.1,\"#c51b7d\"],[0.2,\"#de77ae\"],[0.3,\"#f1b6da\"],[0.4,\"#fde0ef\"],[0.5,\"#f7f7f7\"],[0.6,\"#e6f5d0\"],[0.7,\"#b8e186\"],[0.8,\"#7fbc41\"],[0.9,\"#4d9221\"],[1,\"#276419\"]],\"sequential\":[[0.0,\"#0d0887\"],[0.1111111111111111,\"#46039f\"],[0.2222222222222222,\"#7201a8\"],[0.3333333333333333,\"#9c179e\"],[0.4444444444444444,\"#bd3786\"],[0.5555555555555556,\"#d8576b\"],[0.6666666666666666,\"#ed7953\"],[0.7777777777777778,\"#fb9f3a\"],[0.8888888888888888,\"#fdca26\"],[1.0,\"#f0f921\"]],\"sequentialminus\":[[0.0,\"#0d0887\"],[0.1111111111111111,\"#46039f\"],[0.2222222222222222,\"#7201a8\"],[0.3333333333333333,\"#9c179e\"],[0.4444444444444444,\"#bd3786\"],[0.5555555555555556,\"#d8576b\"],[0.6666666666666666,\"#ed7953\"],[0.7777777777777778,\"#fb9f3a\"],[0.8888888888888888,\"#fdca26\"],[1.0,\"#f0f921\"]]},\"colorway\":[\"#636efa\",\"#EF553B\",\"#00cc96\",\"#ab63fa\",\"#FFA15A\",\"#19d3f3\",\"#FF6692\",\"#B6E880\",\"#FF97FF\",\"#FECB52\"],\"font\":{\"color\":\"#2a3f5f\"},\"geo\":{\"bgcolor\":\"white\",\"lakecolor\":\"white\",\"landcolor\":\"#E5ECF6\",\"showlakes\":true,\"showland\":true,\"subunitcolor\":\"white\"},\"hoverlabel\":{\"align\":\"left\"},\"hovermode\":\"closest\",\"mapbox\":{\"style\":\"light\"},\"paper_bgcolor\":\"white\",\"plot_bgcolor\":\"#E5ECF6\",\"polar\":{\"angularaxis\":{\"gridcolor\":\"white\",\"linecolor\":\"white\",\"ticks\":\"\"},\"bgcolor\":\"#E5ECF6\",\"radialaxis\":{\"gridcolor\":\"white\",\"linecolor\":\"white\",\"ticks\":\"\"}},\"scene\":{\"xaxis\":{\"backgroundcolor\":\"#E5ECF6\",\"gridcolor\":\"white\",\"gridwidth\":2,\"linecolor\":\"white\",\"showbackground\":true,\"ticks\":\"\",\"zerolinecolor\":\"white\"},\"yaxis\":{\"backgroundcolor\":\"#E5ECF6\",\"gridcolor\":\"white\",\"gridwidth\":2,\"linecolor\":\"white\",\"showbackground\":true,\"ticks\":\"\",\"zerolinecolor\":\"white\"},\"zaxis\":{\"backgroundcolor\":\"#E5ECF6\",\"gridcolor\":\"white\",\"gridwidth\":2,\"linecolor\":\"white\",\"showbackground\":true,\"ticks\":\"\",\"zerolinecolor\":\"white\"}},\"shapedefaults\":{\"line\":{\"color\":\"#2a3f5f\"}},\"ternary\":{\"aaxis\":{\"gridcolor\":\"white\",\"linecolor\":\"white\",\"ticks\":\"\"},\"baxis\":{\"gridcolor\":\"white\",\"linecolor\":\"white\",\"ticks\":\"\"},\"bgcolor\":\"#E5ECF6\",\"caxis\":{\"gridcolor\":\"white\",\"linecolor\":\"white\",\"ticks\":\"\"}},\"title\":{\"x\":0.05},\"xaxis\":{\"automargin\":true,\"gridcolor\":\"white\",\"linecolor\":\"white\",\"ticks\":\"\",\"title\":{\"standoff\":15},\"zerolinecolor\":\"white\",\"zerolinewidth\":2},\"yaxis\":{\"automargin\":true,\"gridcolor\":\"white\",\"linecolor\":\"white\",\"ticks\":\"\",\"title\":{\"standoff\":15},\"zerolinecolor\":\"white\",\"zerolinewidth\":2}}},\"xaxis\":{\"anchor\":\"y\",\"domain\":[0.0,1.0],\"title\":{\"text\":\"number of projects\"},\"side\":\"top\",\"gridcolor\":\"rgb(217, 217, 217)\"},\"yaxis\":{\"anchor\":\"x\",\"domain\":[0.0,1.0],\"title\":{\"text\":\"country\"},\"dtick\":1},\"legend\":{\"title\":{},\"tracegroupgap\":0,\"yanchor\":\"top\",\"y\":1,\"xanchor\":\"left\",\"x\":1.01,\"bgcolor\":\"rgba(0,0,0,0)\"},\"title\":{\"text\":\"Number of projects at FID or pre-FID\",\"y\":0.97,\"yanchor\":\"top\"},\"barmode\":\"relative\",\"height\":800,\"annotations\":[{\"font\":{\"size\":12},\"showarrow\":false,\"text\":\"<i>Note when a pipeline passes through multiple countries, it is divided into fractions that sum to 1.</i>\",\"x\":0,\"xref\":\"x domain\",\"y\":-0.1,\"yref\":\"y domain\"}],\"font\":{\"family\":\"Helvetica\",\"color\":\"rgb(150, 150, 150)\"},\"bargap\":0.25,\"plot_bgcolor\":\"white\",\"paper_bgcolor\":\"white\"},                        {\"responsive\": true}                    ).then(function(){\n",
       "                            \n",
       "var gd = document.getElementById('d3aa45cb-7114-40d3-90f1-057c1606a947');\n",
       "var x = new MutationObserver(function (mutations, observer) {{\n",
       "        var display = window.getComputedStyle(gd).display;\n",
       "        if (!display || display === 'none') {{\n",
       "            console.log([gd, 'removed!']);\n",
       "            Plotly.purge(gd);\n",
       "            observer.disconnect();\n",
       "        }}\n",
       "}});\n",
       "\n",
       "// Listen for the removal of the full notebook cells\n",
       "var notebookContainer = gd.closest('#notebook-container');\n",
       "if (notebookContainer) {{\n",
       "    x.observe(notebookContainer, {childList: true});\n",
       "}}\n",
       "\n",
       "// Listen for the clearing of the current output cell\n",
       "var outputEl = gd.closest('.output');\n",
       "if (outputEl) {{\n",
       "    x.observe(outputEl, {childList: true});\n",
       "}}\n",
       "\n",
       "                        })                };                });            </script>        </div>"
      ]
     },
     "metadata": {},
     "output_type": "display_data"
    }
   ],
   "source": [
    "terms_df_region = terms_df_orig[(terms_df_orig.Country.isin(region_df_touse.Country))&\n",
    "                                (terms_df_orig.Status.isin(['Construction','Proposed']))&\n",
    "                                (terms_df_orig.Facility.isin(['Import']))]\n",
    "country_ratios_df_region = country_ratios_df[(country_ratios_df.Country.isin(region_df_touse.Country))&\n",
    "                            (country_ratios_df.Status.isin(['Construction','Proposed']))]\n",
    "\n",
    "projects_df_fid_sum = pandas.DataFrame(0, index=country_list, columns=['Pipelines FID','Terminals FID','Pipelines pre-FID','Terminals pre-FID'])\n",
    "\n",
    "# Pipelines\n",
    "projects_df_fid_sum['Pipelines FID'] += country_ratios_df_region[country_ratios_df_region.FID.isin(['FID'])].groupby('Country')['LengthPerCountryFraction'].sum()\n",
    "projects_df_fid_sum['Pipelines pre-FID'] += country_ratios_df_region[country_ratios_df_region.FID.isin(['Pre-FID'])].groupby('Country')['LengthPerCountryFraction'].sum()\n",
    "# Terminals\n",
    "projects_df_fid_sum['Terminals FID'] += terms_df_region.loc[terms_df_region.FID.isin(['FID'])].groupby('Country')['TerminalID'].count()\n",
    "projects_df_fid_sum['Terminals pre-FID'] += terms_df_region.loc[terms_df_region.FID.isin(['Pre-FID'])].groupby('Country')['TerminalID'].count()\n",
    "\n",
    "projects_df_fid_sum.replace(numpy.nan,0,inplace=True)\n",
    "\n",
    "# reorder for descending values\n",
    "country_order = projects_df_fid_sum.sum(axis=1).sort_values(ascending=True).index\n",
    "projects_df_fid_sum = projects_df_fid_sum.reindex(country_order)\n",
    "\n",
    "# ****************************************\n",
    "\n",
    "colorscale_touse = 'blues'\n",
    "\n",
    "bar_pipes_dark = px.colors.sample_colorscale(colorscale_touse, 0.9)\n",
    "bar_pipes_light = px.colors.sample_colorscale(colorscale_touse, 0.7)\n",
    "bar_terms_dark = px.colors.sample_colorscale(colorscale_touse, 0.5)\n",
    "bar_terms_light = px.colors.sample_colorscale(colorscale_touse, 0.3)\n",
    "\n",
    "nbars = projects_df_fid_sum.index.size\n",
    "\n",
    "fig = px.bar(projects_df_fid_sum[['Pipelines FID','Pipelines pre-FID',\n",
    "                                  'Terminals FID', 'Terminals pre-FID']], \n",
    "             color_discrete_sequence=bar_pipes_dark+bar_pipes_light+bar_terms_dark+bar_terms_light, \n",
    "             orientation='h', height=800,\n",
    "             title='Number of projects at FID or pre-FID')\n",
    "\n",
    "note = '<i>Note when a pipeline passes through multiple countries, it is divided into fractions that sum to 1.</i>'\n",
    "fig.add_annotation(x=0, y=-0.1,\n",
    "                   xref='x domain',\n",
    "                   yref='y domain',\n",
    "                   text=note,\n",
    "                   showarrow=False,\n",
    "                   font=dict(size=12))\n",
    "\n",
    "fig.update_layout(\n",
    "    font_family='Helvetica',\n",
    "    font_color=px.colors.sample_colorscale('greys', 0.5)[0],\n",
    "    bargap=0.25,\n",
    "    plot_bgcolor='white',\n",
    "    paper_bgcolor='white',\n",
    "\n",
    "    yaxis_title='country',\n",
    "    xaxis_title='number of projects',\n",
    "    xaxis={'side':'top'},\n",
    "    title_y=.97,\n",
    "    title_yanchor='top',\n",
    "\n",
    "    legend_title=None,\n",
    "    #legend=dict(yanchor=\"bottom\",y=0.01,xanchor=\"right\",x=0.99,bgcolor='rgba(0,0,0,0)'),\n",
    "    legend=dict(yanchor=\"top\",y=1,xanchor=\"left\",x=1.01,bgcolor='rgba(0,0,0,0)'),\n",
    ")\n",
    "\n",
    "fig.update_yaxes(\n",
    "    dtick=1\n",
    ")\n",
    "\n",
    "fig.update_xaxes(\n",
    "    gridcolor=px.colors.sample_colorscale('greys', 0.25)[0]\n",
    ")\n",
    "\n",
    "dash.dcc.Checklist(\n",
    "    id='fid-checklist',\n",
    "    options=[\n",
    "        {'label':'Pipelines FID', 'value':'Pipelines FID'},\n",
    "        {'label':'Pipelines pre-FID', 'value':'Pipelines pre-FID'},\n",
    "        {'label':'Terminals FID', 'value':'Terminals FID'},\n",
    "        {'label':'Terminals pre-FID', 'value':'Terminals pre-FID'},\n",
    "    ],\n",
    "    value=[],\n",
    "    labelStyle={'display':'inline-block'}\n",
    ")\n",
    "\n",
    "fig.show()"
   ]
  },
  {
   "cell_type": "code",
   "execution_count": null,
   "id": "5ce7f649-1c16-4c2a-a61f-a00e224ba6f4",
   "metadata": {},
   "outputs": [],
   "source": []
  },
  {
   "cell_type": "code",
   "execution_count": null,
   "id": "58c764bb-df69-42ec-b35f-5a3c61507785",
   "metadata": {},
   "outputs": [],
   "source": []
  },
  {
   "cell_type": "code",
   "execution_count": null,
   "id": "b43a7978-d1f0-44f2-95ac-10b041ef891d",
   "metadata": {},
   "outputs": [],
   "source": []
  },
  {
   "cell_type": "markdown",
   "id": "baac979a-6d04-4edf-90ef-1c26ec771f1b",
   "metadata": {},
   "source": [
    "## plotly map for capacity"
   ]
  },
  {
   "cell_type": "code",
   "execution_count": 358,
   "id": "580afd9d-642a-4aa6-bd26-67cd737595f9",
   "metadata": {},
   "outputs": [],
   "source": [
    "def fig_capacity():\n",
    "\n",
    "    terms_df_capacity_sum = pandas.DataFrame(0, index=country_list, columns=['Pre-construction','Construction'])\n",
    "    terms_df_region = terms_df_orig[(terms_df_orig.Country.isin(region_df_touse.Country))&\n",
    "                                    (terms_df_orig.Status.isin(['Construction','Proposed']))&\n",
    "                                    (terms_df_orig.Facility.isin(['Import']))]\n",
    "\n",
    "    # proposed\n",
    "    terms_df_capacity_sum['Pre-construction'] += terms_df_region.loc[terms_df_region.Status=='Proposed'].groupby(\n",
    "        'Country')['CapacityInBcm/y'].sum()\n",
    "    # construction\n",
    "    terms_df_capacity_sum['Construction'] += terms_df_region.loc[terms_df_region.Status=='Construction'].groupby(\n",
    "        'Country')['CapacityInBcm/y'].sum()\n",
    "\n",
    "    terms_df_capacity_sum.replace(numpy.nan,0,inplace=True)\n",
    "\n",
    "    # reorder for descending values\n",
    "    country_order = terms_df_capacity_sum.sum(axis=1).sort_values(ascending=True).index\n",
    "    terms_df_capacity_sum = terms_df_capacity_sum.reindex(country_order)\n",
    "\n",
    "    # ****************************************\n",
    "\n",
    "    colorscale_touse = 'ylorbr'\n",
    "\n",
    "    bar_dark = px.colors.sample_colorscale(colorscale_touse, 0.9)\n",
    "    bar_light = px.colors.sample_colorscale(colorscale_touse, 0.6)\n",
    "\n",
    "    nbars = terms_df_capacity_sum.index.size\n",
    "\n",
    "    fig = px.bar(terms_df_capacity_sum[['Construction','Pre-construction']], \n",
    "                 color_discrete_sequence=bar_dark+bar_light, \n",
    "                 orientation='h', height=800,\n",
    "                 title='Capacity of planned LNG terminals')\n",
    "\n",
    "    fig.update_layout(\n",
    "        font_family='Helvetica',\n",
    "        font_color=px.colors.sample_colorscale('greys', 0.5)[0],\n",
    "        bargap=0.25,\n",
    "        plot_bgcolor='white',\n",
    "        paper_bgcolor='white',\n",
    "\n",
    "        yaxis_title='country',\n",
    "        xaxis_title='bcm/y',\n",
    "        xaxis={'side':'top'},\n",
    "        title_y=.97,\n",
    "        title_yanchor='top',\n",
    "\n",
    "        legend_title=None,\n",
    "        #legend=dict(yanchor=\"bottom\",y=0.01,xanchor=\"right\",x=0.99,bgcolor='rgba(0,0,0,0)'),\n",
    "        legend=dict(yanchor=\"top\",y=1,xanchor=\"left\",x=1.01,bgcolor='rgba(0,0,0,0)'),\n",
    "    )\n",
    "\n",
    "    fig.update_yaxes(\n",
    "        dtick=1\n",
    "    )\n",
    "\n",
    "    fig.update_xaxes(\n",
    "        gridcolor=px.colors.sample_colorscale('greys', 0.25)[0]\n",
    "    )\n",
    "    \n",
    "    return(fig)\n",
    "\n",
    "def fig_capacity_map():\n",
    "\n",
    "    terms_df_capacity_sum = pandas.DataFrame(0, index=country_list, columns=['Pre-construction','Construction'])\n",
    "    terms_df_region = terms_df_orig[(terms_df_orig.Country.isin(region_df_touse.Country))&\n",
    "                                    (terms_df_orig.Status.isin(['Construction','Proposed']))&\n",
    "                                    (terms_df_orig.Facility.isin(['Import']))]\n",
    "\n",
    "    # proposed\n",
    "    terms_df_capacity_sum['Pre-construction'] += terms_df_region.loc[terms_df_region.Status=='Proposed'].groupby(\n",
    "        'Country')['CapacityInBcm/y'].sum()\n",
    "    # construction\n",
    "    terms_df_capacity_sum['Construction'] += terms_df_region.loc[terms_df_region.Status=='Construction'].groupby(\n",
    "        'Country')['CapacityInBcm/y'].sum()\n",
    "\n",
    "    terms_df_capacity_sum.replace(numpy.nan,0,inplace=True)\n",
    "\n",
    "    # create cloropleth info\n",
    "    terms_df_capacity_sum['Capacity'] = terms_df_capacity_sum.sum(axis=1)\n",
    "\n",
    "    # add ISO Code for interaction with nat earth data\n",
    "    terms_df_capacity_sum['ISOCode'] = ''\n",
    "    for idx,row in terms_df_capacity_sum.iterrows():\n",
    "        terms_df_capacity_sum.loc[idx,'ISOCode'] = region_df_orig.loc[region_df_orig['Country']==row.name,'ISOCode'].values\n",
    "\n",
    "    # reorder for descending values\n",
    "    country_order = terms_df_capacity_sum.sum(axis=1).sort_values(ascending=True).index\n",
    "    terms_df_capacity_sum = terms_df_capacity_sum.reindex(country_order)\n",
    "\n",
    "    fig = px.choropleth(terms_df_capacity_sum, \n",
    "                        locations=terms_df_capacity_sum['ISOCode'],\n",
    "                        color='Capacity', color_continuous_scale=px.colors.sequential.Oranges)\n",
    "\n",
    "    fig.update_geos(\n",
    "        resolution=50,\n",
    "        showcoastlines=False,\n",
    "        #showcountries=True,\n",
    "        #coastlinecolor=px.colors.sample_colorscale('greys', 0.9)[0],\n",
    "        landcolor=px.colors.sample_colorscale('greys', 1e-5)[0],\n",
    "\n",
    "        showocean=True,\n",
    "        oceancolor=px.colors.sample_colorscale('blues', 0.05)[0],\n",
    "\n",
    "        projection_type='azimuthal equal area',\n",
    "        center=dict(lat=50, lon=7),\n",
    "        projection_rotation=dict(lon=30),\n",
    "        projection_scale=5.5)\n",
    "    \n",
    "    return(fig)"
   ]
  },
  {
   "cell_type": "code",
   "execution_count": 98,
   "id": "d04697eb-b128-40a5-b3fb-aa50a694a523",
   "metadata": {},
   "outputs": [
    {
     "name": "stderr",
     "output_type": "stream",
     "text": [
      "/var/folders/h5/nfk59_vx7gg_58myc9jfk7_40000gn/T/ipykernel_27731/1969416919.py:26: FutureWarning:\n",
      "\n",
      "Dropping of nuisance columns in DataFrame reductions (with 'numeric_only=None') is deprecated; in a future version this will raise TypeError.  Select only valid columns before calling the reduction.\n",
      "\n"
     ]
    },
    {
     "data": {
      "application/vnd.plotly.v1+json": {
       "config": {
        "plotlyServerURL": "https://plot.ly"
       },
       "data": [
        {
         "coloraxis": "coloraxis",
         "geo": "geo",
         "hovertemplate": "ISOCode=%{location}<br>Capacity=%{z}<extra></extra>",
         "locations": [
          "AUT",
          "SVN",
          "SVK",
          "PRT",
          "MLT",
          "LUX",
          "LTU",
          "ITA",
          "HUN",
          "SWE",
          "CZE",
          "BGR",
          "DNK",
          "FIN",
          "CYP",
          "NLD",
          "EST",
          "HRV",
          "ESP",
          "LVA",
          "ROU",
          "BEL",
          "GRC",
          "POL",
          "FRA",
          "IRL",
          "DEU"
         ],
         "name": "",
         "type": "choropleth",
         "z": [
          0,
          0,
          0,
          0,
          0,
          0,
          0,
          0,
          0,
          0,
          0,
          0,
          0.07,
          0.14,
          0.82,
          1.5,
          2.45,
          4.35,
          4.96,
          6.2,
          8.16,
          8.16,
          8.7,
          9.399999999999999,
          10.610000000000001,
          11.459999999999999,
          30
         ]
        }
       ],
       "layout": {
        "autosize": true,
        "coloraxis": {
         "colorbar": {
          "title": {
           "text": "Capacity"
          },
          "x": 1.01,
          "y": 0.5
         },
         "colorscale": [
          [
           0,
           "rgb(255,245,235)"
          ],
          [
           0.125,
           "rgb(254,230,206)"
          ],
          [
           0.25,
           "rgb(253,208,162)"
          ],
          [
           0.375,
           "rgb(253,174,107)"
          ],
          [
           0.5,
           "rgb(253,141,60)"
          ],
          [
           0.625,
           "rgb(241,105,19)"
          ],
          [
           0.75,
           "rgb(217,72,1)"
          ],
          [
           0.875,
           "rgb(166,54,3)"
          ],
          [
           1,
           "rgb(127,39,4)"
          ]
         ]
        },
        "dragmode": false,
        "font": {
         "color": "rgb(150, 150, 150)",
         "family": "Helvetica"
        },
        "geo": {
         "center": {
          "lat": 50,
          "lon": 7
         },
         "domain": {
          "x": [
           0,
           1
          ],
          "y": [
           0,
           1
          ]
         },
         "landcolor": "rgb(255, 255, 255)",
         "oceancolor": "rgb(237, 245, 252)",
         "projection": {
          "rotation": {
           "lon": 30
          },
          "scale": 5.5,
          "type": "azimuthal equal area"
         },
         "resolution": 50,
         "showcoastlines": false,
         "showocean": true
        },
        "legend": {
         "tracegroupgap": 0
        },
        "paper_bgcolor": "white",
        "plot_bgcolor": "white",
        "template": {
         "data": {
          "bar": [
           {
            "error_x": {
             "color": "#2a3f5f"
            },
            "error_y": {
             "color": "#2a3f5f"
            },
            "marker": {
             "line": {
              "color": "#E5ECF6",
              "width": 0.5
             },
             "pattern": {
              "fillmode": "overlay",
              "size": 10,
              "solidity": 0.2
             }
            },
            "type": "bar"
           }
          ],
          "barpolar": [
           {
            "marker": {
             "line": {
              "color": "#E5ECF6",
              "width": 0.5
             },
             "pattern": {
              "fillmode": "overlay",
              "size": 10,
              "solidity": 0.2
             }
            },
            "type": "barpolar"
           }
          ],
          "carpet": [
           {
            "aaxis": {
             "endlinecolor": "#2a3f5f",
             "gridcolor": "white",
             "linecolor": "white",
             "minorgridcolor": "white",
             "startlinecolor": "#2a3f5f"
            },
            "baxis": {
             "endlinecolor": "#2a3f5f",
             "gridcolor": "white",
             "linecolor": "white",
             "minorgridcolor": "white",
             "startlinecolor": "#2a3f5f"
            },
            "type": "carpet"
           }
          ],
          "choropleth": [
           {
            "colorbar": {
             "outlinewidth": 0,
             "ticks": ""
            },
            "type": "choropleth"
           }
          ],
          "contour": [
           {
            "colorbar": {
             "outlinewidth": 0,
             "ticks": ""
            },
            "colorscale": [
             [
              0,
              "#0d0887"
             ],
             [
              0.1111111111111111,
              "#46039f"
             ],
             [
              0.2222222222222222,
              "#7201a8"
             ],
             [
              0.3333333333333333,
              "#9c179e"
             ],
             [
              0.4444444444444444,
              "#bd3786"
             ],
             [
              0.5555555555555556,
              "#d8576b"
             ],
             [
              0.6666666666666666,
              "#ed7953"
             ],
             [
              0.7777777777777778,
              "#fb9f3a"
             ],
             [
              0.8888888888888888,
              "#fdca26"
             ],
             [
              1,
              "#f0f921"
             ]
            ],
            "type": "contour"
           }
          ],
          "contourcarpet": [
           {
            "colorbar": {
             "outlinewidth": 0,
             "ticks": ""
            },
            "type": "contourcarpet"
           }
          ],
          "heatmap": [
           {
            "colorbar": {
             "outlinewidth": 0,
             "ticks": ""
            },
            "colorscale": [
             [
              0,
              "#0d0887"
             ],
             [
              0.1111111111111111,
              "#46039f"
             ],
             [
              0.2222222222222222,
              "#7201a8"
             ],
             [
              0.3333333333333333,
              "#9c179e"
             ],
             [
              0.4444444444444444,
              "#bd3786"
             ],
             [
              0.5555555555555556,
              "#d8576b"
             ],
             [
              0.6666666666666666,
              "#ed7953"
             ],
             [
              0.7777777777777778,
              "#fb9f3a"
             ],
             [
              0.8888888888888888,
              "#fdca26"
             ],
             [
              1,
              "#f0f921"
             ]
            ],
            "type": "heatmap"
           }
          ],
          "heatmapgl": [
           {
            "colorbar": {
             "outlinewidth": 0,
             "ticks": ""
            },
            "colorscale": [
             [
              0,
              "#0d0887"
             ],
             [
              0.1111111111111111,
              "#46039f"
             ],
             [
              0.2222222222222222,
              "#7201a8"
             ],
             [
              0.3333333333333333,
              "#9c179e"
             ],
             [
              0.4444444444444444,
              "#bd3786"
             ],
             [
              0.5555555555555556,
              "#d8576b"
             ],
             [
              0.6666666666666666,
              "#ed7953"
             ],
             [
              0.7777777777777778,
              "#fb9f3a"
             ],
             [
              0.8888888888888888,
              "#fdca26"
             ],
             [
              1,
              "#f0f921"
             ]
            ],
            "type": "heatmapgl"
           }
          ],
          "histogram": [
           {
            "marker": {
             "pattern": {
              "fillmode": "overlay",
              "size": 10,
              "solidity": 0.2
             }
            },
            "type": "histogram"
           }
          ],
          "histogram2d": [
           {
            "colorbar": {
             "outlinewidth": 0,
             "ticks": ""
            },
            "colorscale": [
             [
              0,
              "#0d0887"
             ],
             [
              0.1111111111111111,
              "#46039f"
             ],
             [
              0.2222222222222222,
              "#7201a8"
             ],
             [
              0.3333333333333333,
              "#9c179e"
             ],
             [
              0.4444444444444444,
              "#bd3786"
             ],
             [
              0.5555555555555556,
              "#d8576b"
             ],
             [
              0.6666666666666666,
              "#ed7953"
             ],
             [
              0.7777777777777778,
              "#fb9f3a"
             ],
             [
              0.8888888888888888,
              "#fdca26"
             ],
             [
              1,
              "#f0f921"
             ]
            ],
            "type": "histogram2d"
           }
          ],
          "histogram2dcontour": [
           {
            "colorbar": {
             "outlinewidth": 0,
             "ticks": ""
            },
            "colorscale": [
             [
              0,
              "#0d0887"
             ],
             [
              0.1111111111111111,
              "#46039f"
             ],
             [
              0.2222222222222222,
              "#7201a8"
             ],
             [
              0.3333333333333333,
              "#9c179e"
             ],
             [
              0.4444444444444444,
              "#bd3786"
             ],
             [
              0.5555555555555556,
              "#d8576b"
             ],
             [
              0.6666666666666666,
              "#ed7953"
             ],
             [
              0.7777777777777778,
              "#fb9f3a"
             ],
             [
              0.8888888888888888,
              "#fdca26"
             ],
             [
              1,
              "#f0f921"
             ]
            ],
            "type": "histogram2dcontour"
           }
          ],
          "mesh3d": [
           {
            "colorbar": {
             "outlinewidth": 0,
             "ticks": ""
            },
            "type": "mesh3d"
           }
          ],
          "parcoords": [
           {
            "line": {
             "colorbar": {
              "outlinewidth": 0,
              "ticks": ""
             }
            },
            "type": "parcoords"
           }
          ],
          "pie": [
           {
            "automargin": true,
            "type": "pie"
           }
          ],
          "scatter": [
           {
            "marker": {
             "colorbar": {
              "outlinewidth": 0,
              "ticks": ""
             }
            },
            "type": "scatter"
           }
          ],
          "scatter3d": [
           {
            "line": {
             "colorbar": {
              "outlinewidth": 0,
              "ticks": ""
             }
            },
            "marker": {
             "colorbar": {
              "outlinewidth": 0,
              "ticks": ""
             }
            },
            "type": "scatter3d"
           }
          ],
          "scattercarpet": [
           {
            "marker": {
             "colorbar": {
              "outlinewidth": 0,
              "ticks": ""
             }
            },
            "type": "scattercarpet"
           }
          ],
          "scattergeo": [
           {
            "marker": {
             "colorbar": {
              "outlinewidth": 0,
              "ticks": ""
             }
            },
            "type": "scattergeo"
           }
          ],
          "scattergl": [
           {
            "marker": {
             "colorbar": {
              "outlinewidth": 0,
              "ticks": ""
             }
            },
            "type": "scattergl"
           }
          ],
          "scattermapbox": [
           {
            "marker": {
             "colorbar": {
              "outlinewidth": 0,
              "ticks": ""
             }
            },
            "type": "scattermapbox"
           }
          ],
          "scatterpolar": [
           {
            "marker": {
             "colorbar": {
              "outlinewidth": 0,
              "ticks": ""
             }
            },
            "type": "scatterpolar"
           }
          ],
          "scatterpolargl": [
           {
            "marker": {
             "colorbar": {
              "outlinewidth": 0,
              "ticks": ""
             }
            },
            "type": "scatterpolargl"
           }
          ],
          "scatterternary": [
           {
            "marker": {
             "colorbar": {
              "outlinewidth": 0,
              "ticks": ""
             }
            },
            "type": "scatterternary"
           }
          ],
          "surface": [
           {
            "colorbar": {
             "outlinewidth": 0,
             "ticks": ""
            },
            "colorscale": [
             [
              0,
              "#0d0887"
             ],
             [
              0.1111111111111111,
              "#46039f"
             ],
             [
              0.2222222222222222,
              "#7201a8"
             ],
             [
              0.3333333333333333,
              "#9c179e"
             ],
             [
              0.4444444444444444,
              "#bd3786"
             ],
             [
              0.5555555555555556,
              "#d8576b"
             ],
             [
              0.6666666666666666,
              "#ed7953"
             ],
             [
              0.7777777777777778,
              "#fb9f3a"
             ],
             [
              0.8888888888888888,
              "#fdca26"
             ],
             [
              1,
              "#f0f921"
             ]
            ],
            "type": "surface"
           }
          ],
          "table": [
           {
            "cells": {
             "fill": {
              "color": "#EBF0F8"
             },
             "line": {
              "color": "white"
             }
            },
            "header": {
             "fill": {
              "color": "#C8D4E3"
             },
             "line": {
              "color": "white"
             }
            },
            "type": "table"
           }
          ]
         },
         "layout": {
          "annotationdefaults": {
           "arrowcolor": "#2a3f5f",
           "arrowhead": 0,
           "arrowwidth": 1
          },
          "autotypenumbers": "strict",
          "coloraxis": {
           "colorbar": {
            "outlinewidth": 0,
            "ticks": ""
           }
          },
          "colorscale": {
           "diverging": [
            [
             0,
             "#8e0152"
            ],
            [
             0.1,
             "#c51b7d"
            ],
            [
             0.2,
             "#de77ae"
            ],
            [
             0.3,
             "#f1b6da"
            ],
            [
             0.4,
             "#fde0ef"
            ],
            [
             0.5,
             "#f7f7f7"
            ],
            [
             0.6,
             "#e6f5d0"
            ],
            [
             0.7,
             "#b8e186"
            ],
            [
             0.8,
             "#7fbc41"
            ],
            [
             0.9,
             "#4d9221"
            ],
            [
             1,
             "#276419"
            ]
           ],
           "sequential": [
            [
             0,
             "#0d0887"
            ],
            [
             0.1111111111111111,
             "#46039f"
            ],
            [
             0.2222222222222222,
             "#7201a8"
            ],
            [
             0.3333333333333333,
             "#9c179e"
            ],
            [
             0.4444444444444444,
             "#bd3786"
            ],
            [
             0.5555555555555556,
             "#d8576b"
            ],
            [
             0.6666666666666666,
             "#ed7953"
            ],
            [
             0.7777777777777778,
             "#fb9f3a"
            ],
            [
             0.8888888888888888,
             "#fdca26"
            ],
            [
             1,
             "#f0f921"
            ]
           ],
           "sequentialminus": [
            [
             0,
             "#0d0887"
            ],
            [
             0.1111111111111111,
             "#46039f"
            ],
            [
             0.2222222222222222,
             "#7201a8"
            ],
            [
             0.3333333333333333,
             "#9c179e"
            ],
            [
             0.4444444444444444,
             "#bd3786"
            ],
            [
             0.5555555555555556,
             "#d8576b"
            ],
            [
             0.6666666666666666,
             "#ed7953"
            ],
            [
             0.7777777777777778,
             "#fb9f3a"
            ],
            [
             0.8888888888888888,
             "#fdca26"
            ],
            [
             1,
             "#f0f921"
            ]
           ]
          },
          "colorway": [
           "#636efa",
           "#EF553B",
           "#00cc96",
           "#ab63fa",
           "#FFA15A",
           "#19d3f3",
           "#FF6692",
           "#B6E880",
           "#FF97FF",
           "#FECB52"
          ],
          "font": {
           "color": "#2a3f5f"
          },
          "geo": {
           "bgcolor": "white",
           "lakecolor": "white",
           "landcolor": "#E5ECF6",
           "showlakes": true,
           "showland": true,
           "subunitcolor": "white"
          },
          "hoverlabel": {
           "align": "left"
          },
          "hovermode": "closest",
          "mapbox": {
           "style": "light"
          },
          "paper_bgcolor": "white",
          "plot_bgcolor": "#E5ECF6",
          "polar": {
           "angularaxis": {
            "gridcolor": "white",
            "linecolor": "white",
            "ticks": ""
           },
           "bgcolor": "#E5ECF6",
           "radialaxis": {
            "gridcolor": "white",
            "linecolor": "white",
            "ticks": ""
           }
          },
          "scene": {
           "xaxis": {
            "backgroundcolor": "#E5ECF6",
            "gridcolor": "white",
            "gridwidth": 2,
            "linecolor": "white",
            "showbackground": true,
            "ticks": "",
            "zerolinecolor": "white"
           },
           "yaxis": {
            "backgroundcolor": "#E5ECF6",
            "gridcolor": "white",
            "gridwidth": 2,
            "linecolor": "white",
            "showbackground": true,
            "ticks": "",
            "zerolinecolor": "white"
           },
           "zaxis": {
            "backgroundcolor": "#E5ECF6",
            "gridcolor": "white",
            "gridwidth": 2,
            "linecolor": "white",
            "showbackground": true,
            "ticks": "",
            "zerolinecolor": "white"
           }
          },
          "shapedefaults": {
           "line": {
            "color": "#2a3f5f"
           }
          },
          "ternary": {
           "aaxis": {
            "gridcolor": "white",
            "linecolor": "white",
            "ticks": ""
           },
           "baxis": {
            "gridcolor": "white",
            "linecolor": "white",
            "ticks": ""
           },
           "bgcolor": "#E5ECF6",
           "caxis": {
            "gridcolor": "white",
            "linecolor": "white",
            "ticks": ""
           }
          },
          "title": {
           "x": 0.05
          },
          "xaxis": {
           "automargin": true,
           "gridcolor": "white",
           "linecolor": "white",
           "ticks": "",
           "title": {
            "standoff": 15
           },
           "zerolinecolor": "white",
           "zerolinewidth": 2
          },
          "yaxis": {
           "automargin": true,
           "gridcolor": "white",
           "linecolor": "white",
           "ticks": "",
           "title": {
            "standoff": 15
           },
           "zerolinecolor": "white",
           "zerolinewidth": 2
          }
         }
        },
        "title": {
         "text": "Capacity in development (bcm/y)",
         "y": 0.97,
         "yanchor": "top"
        },
        "xaxis": {
         "side": "top",
         "title": {
          "text": "bcm/y"
         }
        },
        "yaxis": {
         "title": {
          "text": "country"
         }
        }
       }
      },
      "image/png": "[encoded data removed]",
      "text/html": [
       "<div>                            <div id=\"f7cab421-d9e8-4575-bca7-e6c216be0eec\" class=\"plotly-graph-div\" style=\"height:525px; width:100%;\"></div>            <script type=\"text/javascript\">                require([\"plotly\"], function(Plotly) {                    window.PLOTLYENV=window.PLOTLYENV || {};                                    if (document.getElementById(\"f7cab421-d9e8-4575-bca7-e6c216be0eec\")) {                    Plotly.newPlot(                        \"f7cab421-d9e8-4575-bca7-e6c216be0eec\",                        [{\"coloraxis\":\"coloraxis\",\"geo\":\"geo\",\"hovertemplate\":\"ISOCode=%{location}<br>Capacity=%{z}<extra></extra>\",\"locations\":[\"AUT\",\"SVN\",\"SVK\",\"PRT\",\"MLT\",\"LUX\",\"LTU\",\"ITA\",\"HUN\",\"SWE\",\"CZE\",\"BGR\",\"DNK\",\"FIN\",\"CYP\",\"NLD\",\"EST\",\"HRV\",\"ESP\",\"LVA\",\"ROU\",\"BEL\",\"GRC\",\"POL\",\"FRA\",\"IRL\",\"DEU\"],\"name\":\"\",\"z\":[0.0,0.0,0.0,0.0,0.0,0.0,0.0,0.0,0.0,0.0,0.0,0.0,0.07,0.14,0.82,1.5,2.45,4.35,4.96,6.2,8.16,8.16,8.7,9.399999999999999,10.610000000000001,11.459999999999999,30.0],\"type\":\"choropleth\"}],                        {\"template\":{\"data\":{\"bar\":[{\"error_x\":{\"color\":\"#2a3f5f\"},\"error_y\":{\"color\":\"#2a3f5f\"},\"marker\":{\"line\":{\"color\":\"#E5ECF6\",\"width\":0.5},\"pattern\":{\"fillmode\":\"overlay\",\"size\":10,\"solidity\":0.2}},\"type\":\"bar\"}],\"barpolar\":[{\"marker\":{\"line\":{\"color\":\"#E5ECF6\",\"width\":0.5},\"pattern\":{\"fillmode\":\"overlay\",\"size\":10,\"solidity\":0.2}},\"type\":\"barpolar\"}],\"carpet\":[{\"aaxis\":{\"endlinecolor\":\"#2a3f5f\",\"gridcolor\":\"white\",\"linecolor\":\"white\",\"minorgridcolor\":\"white\",\"startlinecolor\":\"#2a3f5f\"},\"baxis\":{\"endlinecolor\":\"#2a3f5f\",\"gridcolor\":\"white\",\"linecolor\":\"white\",\"minorgridcolor\":\"white\",\"startlinecolor\":\"#2a3f5f\"},\"type\":\"carpet\"}],\"choropleth\":[{\"colorbar\":{\"outlinewidth\":0,\"ticks\":\"\"},\"type\":\"choropleth\"}],\"contour\":[{\"colorbar\":{\"outlinewidth\":0,\"ticks\":\"\"},\"colorscale\":[[0.0,\"#0d0887\"],[0.1111111111111111,\"#46039f\"],[0.2222222222222222,\"#7201a8\"],[0.3333333333333333,\"#9c179e\"],[0.4444444444444444,\"#bd3786\"],[0.5555555555555556,\"#d8576b\"],[0.6666666666666666,\"#ed7953\"],[0.7777777777777778,\"#fb9f3a\"],[0.8888888888888888,\"#fdca26\"],[1.0,\"#f0f921\"]],\"type\":\"contour\"}],\"contourcarpet\":[{\"colorbar\":{\"outlinewidth\":0,\"ticks\":\"\"},\"type\":\"contourcarpet\"}],\"heatmap\":[{\"colorbar\":{\"outlinewidth\":0,\"ticks\":\"\"},\"colorscale\":[[0.0,\"#0d0887\"],[0.1111111111111111,\"#46039f\"],[0.2222222222222222,\"#7201a8\"],[0.3333333333333333,\"#9c179e\"],[0.4444444444444444,\"#bd3786\"],[0.5555555555555556,\"#d8576b\"],[0.6666666666666666,\"#ed7953\"],[0.7777777777777778,\"#fb9f3a\"],[0.8888888888888888,\"#fdca26\"],[1.0,\"#f0f921\"]],\"type\":\"heatmap\"}],\"heatmapgl\":[{\"colorbar\":{\"outlinewidth\":0,\"ticks\":\"\"},\"colorscale\":[[0.0,\"#0d0887\"],[0.1111111111111111,\"#46039f\"],[0.2222222222222222,\"#7201a8\"],[0.3333333333333333,\"#9c179e\"],[0.4444444444444444,\"#bd3786\"],[0.5555555555555556,\"#d8576b\"],[0.6666666666666666,\"#ed7953\"],[0.7777777777777778,\"#fb9f3a\"],[0.8888888888888888,\"#fdca26\"],[1.0,\"#f0f921\"]],\"type\":\"heatmapgl\"}],\"histogram\":[{\"marker\":{\"pattern\":{\"fillmode\":\"overlay\",\"size\":10,\"solidity\":0.2}},\"type\":\"histogram\"}],\"histogram2d\":[{\"colorbar\":{\"outlinewidth\":0,\"ticks\":\"\"},\"colorscale\":[[0.0,\"#0d0887\"],[0.1111111111111111,\"#46039f\"],[0.2222222222222222,\"#7201a8\"],[0.3333333333333333,\"#9c179e\"],[0.4444444444444444,\"#bd3786\"],[0.5555555555555556,\"#d8576b\"],[0.6666666666666666,\"#ed7953\"],[0.7777777777777778,\"#fb9f3a\"],[0.8888888888888888,\"#fdca26\"],[1.0,\"#f0f921\"]],\"type\":\"histogram2d\"}],\"histogram2dcontour\":[{\"colorbar\":{\"outlinewidth\":0,\"ticks\":\"\"},\"colorscale\":[[0.0,\"#0d0887\"],[0.1111111111111111,\"#46039f\"],[0.2222222222222222,\"#7201a8\"],[0.3333333333333333,\"#9c179e\"],[0.4444444444444444,\"#bd3786\"],[0.5555555555555556,\"#d8576b\"],[0.6666666666666666,\"#ed7953\"],[0.7777777777777778,\"#fb9f3a\"],[0.8888888888888888,\"#fdca26\"],[1.0,\"#f0f921\"]],\"type\":\"histogram2dcontour\"}],\"mesh3d\":[{\"colorbar\":{\"outlinewidth\":0,\"ticks\":\"\"},\"type\":\"mesh3d\"}],\"parcoords\":[{\"line\":{\"colorbar\":{\"outlinewidth\":0,\"ticks\":\"\"}},\"type\":\"parcoords\"}],\"pie\":[{\"automargin\":true,\"type\":\"pie\"}],\"scatter\":[{\"marker\":{\"colorbar\":{\"outlinewidth\":0,\"ticks\":\"\"}},\"type\":\"scatter\"}],\"scatter3d\":[{\"line\":{\"colorbar\":{\"outlinewidth\":0,\"ticks\":\"\"}},\"marker\":{\"colorbar\":{\"outlinewidth\":0,\"ticks\":\"\"}},\"type\":\"scatter3d\"}],\"scattercarpet\":[{\"marker\":{\"colorbar\":{\"outlinewidth\":0,\"ticks\":\"\"}},\"type\":\"scattercarpet\"}],\"scattergeo\":[{\"marker\":{\"colorbar\":{\"outlinewidth\":0,\"ticks\":\"\"}},\"type\":\"scattergeo\"}],\"scattergl\":[{\"marker\":{\"colorbar\":{\"outlinewidth\":0,\"ticks\":\"\"}},\"type\":\"scattergl\"}],\"scattermapbox\":[{\"marker\":{\"colorbar\":{\"outlinewidth\":0,\"ticks\":\"\"}},\"type\":\"scattermapbox\"}],\"scatterpolar\":[{\"marker\":{\"colorbar\":{\"outlinewidth\":0,\"ticks\":\"\"}},\"type\":\"scatterpolar\"}],\"scatterpolargl\":[{\"marker\":{\"colorbar\":{\"outlinewidth\":0,\"ticks\":\"\"}},\"type\":\"scatterpolargl\"}],\"scatterternary\":[{\"marker\":{\"colorbar\":{\"outlinewidth\":0,\"ticks\":\"\"}},\"type\":\"scatterternary\"}],\"surface\":[{\"colorbar\":{\"outlinewidth\":0,\"ticks\":\"\"},\"colorscale\":[[0.0,\"#0d0887\"],[0.1111111111111111,\"#46039f\"],[0.2222222222222222,\"#7201a8\"],[0.3333333333333333,\"#9c179e\"],[0.4444444444444444,\"#bd3786\"],[0.5555555555555556,\"#d8576b\"],[0.6666666666666666,\"#ed7953\"],[0.7777777777777778,\"#fb9f3a\"],[0.8888888888888888,\"#fdca26\"],[1.0,\"#f0f921\"]],\"type\":\"surface\"}],\"table\":[{\"cells\":{\"fill\":{\"color\":\"#EBF0F8\"},\"line\":{\"color\":\"white\"}},\"header\":{\"fill\":{\"color\":\"#C8D4E3\"},\"line\":{\"color\":\"white\"}},\"type\":\"table\"}]},\"layout\":{\"annotationdefaults\":{\"arrowcolor\":\"#2a3f5f\",\"arrowhead\":0,\"arrowwidth\":1},\"autotypenumbers\":\"strict\",\"coloraxis\":{\"colorbar\":{\"outlinewidth\":0,\"ticks\":\"\"}},\"colorscale\":{\"diverging\":[[0,\"#8e0152\"],[0.1,\"#c51b7d\"],[0.2,\"#de77ae\"],[0.3,\"#f1b6da\"],[0.4,\"#fde0ef\"],[0.5,\"#f7f7f7\"],[0.6,\"#e6f5d0\"],[0.7,\"#b8e186\"],[0.8,\"#7fbc41\"],[0.9,\"#4d9221\"],[1,\"#276419\"]],\"sequential\":[[0.0,\"#0d0887\"],[0.1111111111111111,\"#46039f\"],[0.2222222222222222,\"#7201a8\"],[0.3333333333333333,\"#9c179e\"],[0.4444444444444444,\"#bd3786\"],[0.5555555555555556,\"#d8576b\"],[0.6666666666666666,\"#ed7953\"],[0.7777777777777778,\"#fb9f3a\"],[0.8888888888888888,\"#fdca26\"],[1.0,\"#f0f921\"]],\"sequentialminus\":[[0.0,\"#0d0887\"],[0.1111111111111111,\"#46039f\"],[0.2222222222222222,\"#7201a8\"],[0.3333333333333333,\"#9c179e\"],[0.4444444444444444,\"#bd3786\"],[0.5555555555555556,\"#d8576b\"],[0.6666666666666666,\"#ed7953\"],[0.7777777777777778,\"#fb9f3a\"],[0.8888888888888888,\"#fdca26\"],[1.0,\"#f0f921\"]]},\"colorway\":[\"#636efa\",\"#EF553B\",\"#00cc96\",\"#ab63fa\",\"#FFA15A\",\"#19d3f3\",\"#FF6692\",\"#B6E880\",\"#FF97FF\",\"#FECB52\"],\"font\":{\"color\":\"#2a3f5f\"},\"geo\":{\"bgcolor\":\"white\",\"lakecolor\":\"white\",\"landcolor\":\"#E5ECF6\",\"showlakes\":true,\"showland\":true,\"subunitcolor\":\"white\"},\"hoverlabel\":{\"align\":\"left\"},\"hovermode\":\"closest\",\"mapbox\":{\"style\":\"light\"},\"paper_bgcolor\":\"white\",\"plot_bgcolor\":\"#E5ECF6\",\"polar\":{\"angularaxis\":{\"gridcolor\":\"white\",\"linecolor\":\"white\",\"ticks\":\"\"},\"bgcolor\":\"#E5ECF6\",\"radialaxis\":{\"gridcolor\":\"white\",\"linecolor\":\"white\",\"ticks\":\"\"}},\"scene\":{\"xaxis\":{\"backgroundcolor\":\"#E5ECF6\",\"gridcolor\":\"white\",\"gridwidth\":2,\"linecolor\":\"white\",\"showbackground\":true,\"ticks\":\"\",\"zerolinecolor\":\"white\"},\"yaxis\":{\"backgroundcolor\":\"#E5ECF6\",\"gridcolor\":\"white\",\"gridwidth\":2,\"linecolor\":\"white\",\"showbackground\":true,\"ticks\":\"\",\"zerolinecolor\":\"white\"},\"zaxis\":{\"backgroundcolor\":\"#E5ECF6\",\"gridcolor\":\"white\",\"gridwidth\":2,\"linecolor\":\"white\",\"showbackground\":true,\"ticks\":\"\",\"zerolinecolor\":\"white\"}},\"shapedefaults\":{\"line\":{\"color\":\"#2a3f5f\"}},\"ternary\":{\"aaxis\":{\"gridcolor\":\"white\",\"linecolor\":\"white\",\"ticks\":\"\"},\"baxis\":{\"gridcolor\":\"white\",\"linecolor\":\"white\",\"ticks\":\"\"},\"bgcolor\":\"#E5ECF6\",\"caxis\":{\"gridcolor\":\"white\",\"linecolor\":\"white\",\"ticks\":\"\"}},\"title\":{\"x\":0.05},\"xaxis\":{\"automargin\":true,\"gridcolor\":\"white\",\"linecolor\":\"white\",\"ticks\":\"\",\"title\":{\"standoff\":15},\"zerolinecolor\":\"white\",\"zerolinewidth\":2},\"yaxis\":{\"automargin\":true,\"gridcolor\":\"white\",\"linecolor\":\"white\",\"ticks\":\"\",\"title\":{\"standoff\":15},\"zerolinecolor\":\"white\",\"zerolinewidth\":2}}},\"geo\":{\"domain\":{\"x\":[0.0,1.0],\"y\":[0.0,1.0]},\"center\":{\"lat\":50,\"lon\":7},\"projection\":{\"rotation\":{\"lon\":30},\"type\":\"azimuthal equal area\",\"scale\":5.5},\"resolution\":50,\"showcoastlines\":false,\"landcolor\":\"rgb(255, 255, 255)\",\"showocean\":true,\"oceancolor\":\"rgb(237, 245, 252)\"},\"coloraxis\":{\"colorbar\":{\"title\":{\"text\":\"Capacity\"},\"x\":1.01},\"colorscale\":[[0.0,\"rgb(255,245,235)\"],[0.125,\"rgb(254,230,206)\"],[0.25,\"rgb(253,208,162)\"],[0.375,\"rgb(253,174,107)\"],[0.5,\"rgb(253,141,60)\"],[0.625,\"rgb(241,105,19)\"],[0.75,\"rgb(217,72,1)\"],[0.875,\"rgb(166,54,3)\"],[1.0,\"rgb(127,39,4)\"]]},\"legend\":{\"tracegroupgap\":0},\"title\":{\"text\":\"Capacity in development (bcm/y)\",\"y\":0.97,\"yanchor\":\"top\"},\"font\":{\"family\":\"Helvetica\",\"color\":\"rgb(150, 150, 150)\"},\"xaxis\":{\"title\":{\"text\":\"bcm/y\"},\"side\":\"top\"},\"plot_bgcolor\":\"white\",\"paper_bgcolor\":\"white\",\"yaxis\":{\"title\":{\"text\":\"country\"}},\"dragmode\":false},                        {\"responsive\": true}                    ).then(function(){\n",
       "                            \n",
       "var gd = document.getElementById('f7cab421-d9e8-4575-bca7-e6c216be0eec');\n",
       "var x = new MutationObserver(function (mutations, observer) {{\n",
       "        var display = window.getComputedStyle(gd).display;\n",
       "        if (!display || display === 'none') {{\n",
       "            console.log([gd, 'removed!']);\n",
       "            Plotly.purge(gd);\n",
       "            observer.disconnect();\n",
       "        }}\n",
       "}});\n",
       "\n",
       "// Listen for the removal of the full notebook cells\n",
       "var notebookContainer = gd.closest('#notebook-container');\n",
       "if (notebookContainer) {{\n",
       "    x.observe(notebookContainer, {childList: true});\n",
       "}}\n",
       "\n",
       "// Listen for the clearing of the current output cell\n",
       "var outputEl = gd.closest('.output');\n",
       "if (outputEl) {{\n",
       "    x.observe(outputEl, {childList: true});\n",
       "}}\n",
       "\n",
       "                        })                };                });            </script>        </div>"
      ]
     },
     "metadata": {},
     "output_type": "display_data"
    }
   ],
   "source": [
    "def fig_capacity_map():\n",
    "\n",
    "    terms_df_capacity_sum = pandas.DataFrame(0, index=country_list, columns=['Pre-construction','Construction'])\n",
    "    terms_df_region = terms_df_orig[(terms_df_orig.Country.isin(region_df_touse.Country))&\n",
    "                                    (terms_df_orig.Status.isin(['Construction','Proposed']))&\n",
    "                                    (terms_df_orig.Facility.isin(['Import']))]\n",
    "\n",
    "    # proposed\n",
    "    terms_df_capacity_sum['Pre-construction'] += terms_df_region.loc[terms_df_region.Status=='Proposed'].groupby(\n",
    "        'Country')['CapacityInBcm/y'].sum()\n",
    "    # construction\n",
    "    terms_df_capacity_sum['Construction'] += terms_df_region.loc[terms_df_region.Status=='Construction'].groupby(\n",
    "        'Country')['CapacityInBcm/y'].sum()\n",
    "\n",
    "    terms_df_capacity_sum.replace(numpy.nan,0,inplace=True)\n",
    "\n",
    "    # create cloropleth info\n",
    "    terms_df_capacity_sum['Capacity'] = terms_df_capacity_sum.sum(axis=1)\n",
    "\n",
    "    # add ISO Code for interaction with nat earth data\n",
    "    terms_df_capacity_sum['ISOCode'] = ''\n",
    "    for idx,row in terms_df_capacity_sum.iterrows():\n",
    "        terms_df_capacity_sum.loc[idx,'ISOCode'] = region_df_orig.loc[region_df_orig['Country']==row.name,'ISOCode'].values\n",
    "\n",
    "    # reorder for descending values\n",
    "    country_order = terms_df_capacity_sum.sum(axis=1).sort_values(ascending=True).index\n",
    "    terms_df_capacity_sum = terms_df_capacity_sum.reindex(country_order)\n",
    "\n",
    "    fig = px.choropleth(terms_df_capacity_sum, \n",
    "                        locations=terms_df_capacity_sum['ISOCode'],\n",
    "                        color='Capacity', color_continuous_scale=px.colors.sequential.Oranges,\n",
    "                        title='Capacity in development (bcm/y)')\n",
    "\n",
    "    fig.update_geos(\n",
    "        resolution=50,\n",
    "        showcoastlines=False,\n",
    "        #showcountries=True,\n",
    "        #coastlinecolor=px.colors.sample_colorscale('greys', 0.9)[0],\n",
    "        landcolor=px.colors.sample_colorscale('greys', 1e-5)[0],\n",
    "\n",
    "        showocean=True,\n",
    "        oceancolor=px.colors.sample_colorscale('blues', 0.05)[0],\n",
    "\n",
    "        projection_type='azimuthal equal area',\n",
    "        center=dict(lat=50, lon=7),\n",
    "        projection_rotation=dict(lon=30),\n",
    "        projection_scale=5.5)\n",
    "    \n",
    "    fig.update_layout(\n",
    "        font_family='Helvetica',\n",
    "        font_color=px.colors.sample_colorscale('greys', 0.5)[0],\n",
    "        plot_bgcolor='white',\n",
    "        paper_bgcolor='white',\n",
    "\n",
    "        yaxis_title='country',\n",
    "        xaxis_title='bcm/y',\n",
    "        xaxis={'side':'top'},\n",
    "        title_y=.97,\n",
    "        title_yanchor='top',\n",
    "        \n",
    "        dragmode=False,\n",
    "\n",
    "        coloraxis_colorbar_x=1.01)\n",
    "    \n",
    "    return(fig)\n",
    "\n",
    "fig = fig_capacity_map()\n",
    "fig.show()"
   ]
  },
  {
   "cell_type": "code",
   "execution_count": 97,
   "id": "bc7ee6dd-224d-4cde-9141-a1129a253603",
   "metadata": {
    "jupyter": {
     "source_hidden": true
    },
    "tags": []
   },
   "outputs": [
    {
     "name": "stderr",
     "output_type": "stream",
     "text": [
      "/var/folders/h5/nfk59_vx7gg_58myc9jfk7_40000gn/T/ipykernel_27731/572772359.py:35: FutureWarning:\n",
      "\n",
      "Dropping of nuisance columns in DataFrame reductions (with 'numeric_only=None') is deprecated; in a future version this will raise TypeError.  Select only valid columns before calling the reduction.\n",
      "\n"
     ]
    },
    {
     "data": {
      "application/vnd.plotly.v1+json": {
       "config": {
        "plotlyServerURL": "https://plot.ly"
       },
       "data": [
        {
         "coloraxis": "coloraxis",
         "colorbar": {
          "thickness": 100
         },
         "geo": "geo",
         "hovertemplate": "ISOCode=%{location}<br>Kilometers=%{z}<extra></extra>",
         "locations": [
          "BEL",
          "NLD",
          "LUX",
          "FRA",
          "CZE",
          "FIN",
          "EST",
          "IRL",
          "AUT",
          "LVA",
          "MLT",
          "SWE",
          "SVK",
          "DEU",
          "LTU",
          "PRT",
          "DNK",
          "HUN",
          "SVN",
          "CYP",
          "HRV",
          "ESP",
          "ITA",
          "BGR",
          "GRC",
          "POL",
          "ROU"
         ],
         "name": "",
         "type": "choropleth",
         "z": [
          0,
          0,
          0,
          0,
          0,
          0,
          0,
          26,
          28,
          31.5,
          70.56,
          86.37,
          136.76,
          149.48,
          178.02,
          320.75,
          423.99,
          460.70000000000005,
          495.67,
          831.78,
          869.44,
          1241.74,
          1631.92,
          1766.16,
          2318.77,
          2439.73,
          2948.11
         ]
        }
       ],
       "layout": {
        "autosize": true,
        "coloraxis": {
         "colorbar": {
          "title": {
           "text": "Kilometers"
          },
          "x": 1.01,
          "y": 0.5
         },
         "colorscale": [
          [
           0,
           "rgb(247,252,245)"
          ],
          [
           0.125,
           "rgb(229,245,224)"
          ],
          [
           0.25,
           "rgb(199,233,192)"
          ],
          [
           0.375,
           "rgb(161,217,155)"
          ],
          [
           0.5,
           "rgb(116,196,118)"
          ],
          [
           0.625,
           "rgb(65,171,93)"
          ],
          [
           0.75,
           "rgb(35,139,69)"
          ],
          [
           0.875,
           "rgb(0,109,44)"
          ],
          [
           1,
           "rgb(0,68,27)"
          ]
         ]
        },
        "font": {
         "color": "rgb(150, 150, 150)",
         "family": "Helvetica"
        },
        "geo": {
         "center": {
          "lat": 50,
          "lon": 7
         },
         "domain": {
          "x": [
           0,
           1
          ],
          "y": [
           0,
           1
          ]
         },
         "landcolor": "rgb(255, 255, 255)",
         "oceancolor": "rgb(237, 245, 252)",
         "projection": {
          "rotation": {
           "lat": 79.93078883596803,
           "lon": -202.83096817553022
          },
          "scale": 4.321198841671693,
          "type": "azimuthal equal area"
         },
         "resolution": 50,
         "showcoastlines": false,
         "showocean": true
        },
        "legend": {
         "tracegroupgap": 0
        },
        "paper_bgcolor": "white",
        "plot_bgcolor": "white",
        "template": {
         "data": {
          "bar": [
           {
            "error_x": {
             "color": "#2a3f5f"
            },
            "error_y": {
             "color": "#2a3f5f"
            },
            "marker": {
             "line": {
              "color": "#E5ECF6",
              "width": 0.5
             },
             "pattern": {
              "fillmode": "overlay",
              "size": 10,
              "solidity": 0.2
             }
            },
            "type": "bar"
           }
          ],
          "barpolar": [
           {
            "marker": {
             "line": {
              "color": "#E5ECF6",
              "width": 0.5
             },
             "pattern": {
              "fillmode": "overlay",
              "size": 10,
              "solidity": 0.2
             }
            },
            "type": "barpolar"
           }
          ],
          "carpet": [
           {
            "aaxis": {
             "endlinecolor": "#2a3f5f",
             "gridcolor": "white",
             "linecolor": "white",
             "minorgridcolor": "white",
             "startlinecolor": "#2a3f5f"
            },
            "baxis": {
             "endlinecolor": "#2a3f5f",
             "gridcolor": "white",
             "linecolor": "white",
             "minorgridcolor": "white",
             "startlinecolor": "#2a3f5f"
            },
            "type": "carpet"
           }
          ],
          "choropleth": [
           {
            "colorbar": {
             "outlinewidth": 0,
             "ticks": ""
            },
            "type": "choropleth"
           }
          ],
          "contour": [
           {
            "colorbar": {
             "outlinewidth": 0,
             "ticks": ""
            },
            "colorscale": [
             [
              0,
              "#0d0887"
             ],
             [
              0.1111111111111111,
              "#46039f"
             ],
             [
              0.2222222222222222,
              "#7201a8"
             ],
             [
              0.3333333333333333,
              "#9c179e"
             ],
             [
              0.4444444444444444,
              "#bd3786"
             ],
             [
              0.5555555555555556,
              "#d8576b"
             ],
             [
              0.6666666666666666,
              "#ed7953"
             ],
             [
              0.7777777777777778,
              "#fb9f3a"
             ],
             [
              0.8888888888888888,
              "#fdca26"
             ],
             [
              1,
              "#f0f921"
             ]
            ],
            "type": "contour"
           }
          ],
          "contourcarpet": [
           {
            "colorbar": {
             "outlinewidth": 0,
             "ticks": ""
            },
            "type": "contourcarpet"
           }
          ],
          "heatmap": [
           {
            "colorbar": {
             "outlinewidth": 0,
             "ticks": ""
            },
            "colorscale": [
             [
              0,
              "#0d0887"
             ],
             [
              0.1111111111111111,
              "#46039f"
             ],
             [
              0.2222222222222222,
              "#7201a8"
             ],
             [
              0.3333333333333333,
              "#9c179e"
             ],
             [
              0.4444444444444444,
              "#bd3786"
             ],
             [
              0.5555555555555556,
              "#d8576b"
             ],
             [
              0.6666666666666666,
              "#ed7953"
             ],
             [
              0.7777777777777778,
              "#fb9f3a"
             ],
             [
              0.8888888888888888,
              "#fdca26"
             ],
             [
              1,
              "#f0f921"
             ]
            ],
            "type": "heatmap"
           }
          ],
          "heatmapgl": [
           {
            "colorbar": {
             "outlinewidth": 0,
             "ticks": ""
            },
            "colorscale": [
             [
              0,
              "#0d0887"
             ],
             [
              0.1111111111111111,
              "#46039f"
             ],
             [
              0.2222222222222222,
              "#7201a8"
             ],
             [
              0.3333333333333333,
              "#9c179e"
             ],
             [
              0.4444444444444444,
              "#bd3786"
             ],
             [
              0.5555555555555556,
              "#d8576b"
             ],
             [
              0.6666666666666666,
              "#ed7953"
             ],
             [
              0.7777777777777778,
              "#fb9f3a"
             ],
             [
              0.8888888888888888,
              "#fdca26"
             ],
             [
              1,
              "#f0f921"
             ]
            ],
            "type": "heatmapgl"
           }
          ],
          "histogram": [
           {
            "marker": {
             "pattern": {
              "fillmode": "overlay",
              "size": 10,
              "solidity": 0.2
             }
            },
            "type": "histogram"
           }
          ],
          "histogram2d": [
           {
            "colorbar": {
             "outlinewidth": 0,
             "ticks": ""
            },
            "colorscale": [
             [
              0,
              "#0d0887"
             ],
             [
              0.1111111111111111,
              "#46039f"
             ],
             [
              0.2222222222222222,
              "#7201a8"
             ],
             [
              0.3333333333333333,
              "#9c179e"
             ],
             [
              0.4444444444444444,
              "#bd3786"
             ],
             [
              0.5555555555555556,
              "#d8576b"
             ],
             [
              0.6666666666666666,
              "#ed7953"
             ],
             [
              0.7777777777777778,
              "#fb9f3a"
             ],
             [
              0.8888888888888888,
              "#fdca26"
             ],
             [
              1,
              "#f0f921"
             ]
            ],
            "type": "histogram2d"
           }
          ],
          "histogram2dcontour": [
           {
            "colorbar": {
             "outlinewidth": 0,
             "ticks": ""
            },
            "colorscale": [
             [
              0,
              "#0d0887"
             ],
             [
              0.1111111111111111,
              "#46039f"
             ],
             [
              0.2222222222222222,
              "#7201a8"
             ],
             [
              0.3333333333333333,
              "#9c179e"
             ],
             [
              0.4444444444444444,
              "#bd3786"
             ],
             [
              0.5555555555555556,
              "#d8576b"
             ],
             [
              0.6666666666666666,
              "#ed7953"
             ],
             [
              0.7777777777777778,
              "#fb9f3a"
             ],
             [
              0.8888888888888888,
              "#fdca26"
             ],
             [
              1,
              "#f0f921"
             ]
            ],
            "type": "histogram2dcontour"
           }
          ],
          "mesh3d": [
           {
            "colorbar": {
             "outlinewidth": 0,
             "ticks": ""
            },
            "type": "mesh3d"
           }
          ],
          "parcoords": [
           {
            "line": {
             "colorbar": {
              "outlinewidth": 0,
              "ticks": ""
             }
            },
            "type": "parcoords"
           }
          ],
          "pie": [
           {
            "automargin": true,
            "type": "pie"
           }
          ],
          "scatter": [
           {
            "marker": {
             "colorbar": {
              "outlinewidth": 0,
              "ticks": ""
             }
            },
            "type": "scatter"
           }
          ],
          "scatter3d": [
           {
            "line": {
             "colorbar": {
              "outlinewidth": 0,
              "ticks": ""
             }
            },
            "marker": {
             "colorbar": {
              "outlinewidth": 0,
              "ticks": ""
             }
            },
            "type": "scatter3d"
           }
          ],
          "scattercarpet": [
           {
            "marker": {
             "colorbar": {
              "outlinewidth": 0,
              "ticks": ""
             }
            },
            "type": "scattercarpet"
           }
          ],
          "scattergeo": [
           {
            "marker": {
             "colorbar": {
              "outlinewidth": 0,
              "ticks": ""
             }
            },
            "type": "scattergeo"
           }
          ],
          "scattergl": [
           {
            "marker": {
             "colorbar": {
              "outlinewidth": 0,
              "ticks": ""
             }
            },
            "type": "scattergl"
           }
          ],
          "scattermapbox": [
           {
            "marker": {
             "colorbar": {
              "outlinewidth": 0,
              "ticks": ""
             }
            },
            "type": "scattermapbox"
           }
          ],
          "scatterpolar": [
           {
            "marker": {
             "colorbar": {
              "outlinewidth": 0,
              "ticks": ""
             }
            },
            "type": "scatterpolar"
           }
          ],
          "scatterpolargl": [
           {
            "marker": {
             "colorbar": {
              "outlinewidth": 0,
              "ticks": ""
             }
            },
            "type": "scatterpolargl"
           }
          ],
          "scatterternary": [
           {
            "marker": {
             "colorbar": {
              "outlinewidth": 0,
              "ticks": ""
             }
            },
            "type": "scatterternary"
           }
          ],
          "surface": [
           {
            "colorbar": {
             "outlinewidth": 0,
             "ticks": ""
            },
            "colorscale": [
             [
              0,
              "#0d0887"
             ],
             [
              0.1111111111111111,
              "#46039f"
             ],
             [
              0.2222222222222222,
              "#7201a8"
             ],
             [
              0.3333333333333333,
              "#9c179e"
             ],
             [
              0.4444444444444444,
              "#bd3786"
             ],
             [
              0.5555555555555556,
              "#d8576b"
             ],
             [
              0.6666666666666666,
              "#ed7953"
             ],
             [
              0.7777777777777778,
              "#fb9f3a"
             ],
             [
              0.8888888888888888,
              "#fdca26"
             ],
             [
              1,
              "#f0f921"
             ]
            ],
            "type": "surface"
           }
          ],
          "table": [
           {
            "cells": {
             "fill": {
              "color": "#EBF0F8"
             },
             "line": {
              "color": "white"
             }
            },
            "header": {
             "fill": {
              "color": "#C8D4E3"
             },
             "line": {
              "color": "white"
             }
            },
            "type": "table"
           }
          ]
         },
         "layout": {
          "annotationdefaults": {
           "arrowcolor": "#2a3f5f",
           "arrowhead": 0,
           "arrowwidth": 1
          },
          "autotypenumbers": "strict",
          "coloraxis": {
           "colorbar": {
            "outlinewidth": 0,
            "ticks": ""
           }
          },
          "colorscale": {
           "diverging": [
            [
             0,
             "#8e0152"
            ],
            [
             0.1,
             "#c51b7d"
            ],
            [
             0.2,
             "#de77ae"
            ],
            [
             0.3,
             "#f1b6da"
            ],
            [
             0.4,
             "#fde0ef"
            ],
            [
             0.5,
             "#f7f7f7"
            ],
            [
             0.6,
             "#e6f5d0"
            ],
            [
             0.7,
             "#b8e186"
            ],
            [
             0.8,
             "#7fbc41"
            ],
            [
             0.9,
             "#4d9221"
            ],
            [
             1,
             "#276419"
            ]
           ],
           "sequential": [
            [
             0,
             "#0d0887"
            ],
            [
             0.1111111111111111,
             "#46039f"
            ],
            [
             0.2222222222222222,
             "#7201a8"
            ],
            [
             0.3333333333333333,
             "#9c179e"
            ],
            [
             0.4444444444444444,
             "#bd3786"
            ],
            [
             0.5555555555555556,
             "#d8576b"
            ],
            [
             0.6666666666666666,
             "#ed7953"
            ],
            [
             0.7777777777777778,
             "#fb9f3a"
            ],
            [
             0.8888888888888888,
             "#fdca26"
            ],
            [
             1,
             "#f0f921"
            ]
           ],
           "sequentialminus": [
            [
             0,
             "#0d0887"
            ],
            [
             0.1111111111111111,
             "#46039f"
            ],
            [
             0.2222222222222222,
             "#7201a8"
            ],
            [
             0.3333333333333333,
             "#9c179e"
            ],
            [
             0.4444444444444444,
             "#bd3786"
            ],
            [
             0.5555555555555556,
             "#d8576b"
            ],
            [
             0.6666666666666666,
             "#ed7953"
            ],
            [
             0.7777777777777778,
             "#fb9f3a"
            ],
            [
             0.8888888888888888,
             "#fdca26"
            ],
            [
             1,
             "#f0f921"
            ]
           ]
          },
          "colorway": [
           "#636efa",
           "#EF553B",
           "#00cc96",
           "#ab63fa",
           "#FFA15A",
           "#19d3f3",
           "#FF6692",
           "#B6E880",
           "#FF97FF",
           "#FECB52"
          ],
          "font": {
           "color": "#2a3f5f"
          },
          "geo": {
           "bgcolor": "white",
           "lakecolor": "white",
           "landcolor": "#E5ECF6",
           "showlakes": true,
           "showland": true,
           "subunitcolor": "white"
          },
          "hoverlabel": {
           "align": "left"
          },
          "hovermode": "closest",
          "mapbox": {
           "style": "light"
          },
          "paper_bgcolor": "white",
          "plot_bgcolor": "#E5ECF6",
          "polar": {
           "angularaxis": {
            "gridcolor": "white",
            "linecolor": "white",
            "ticks": ""
           },
           "bgcolor": "#E5ECF6",
           "radialaxis": {
            "gridcolor": "white",
            "linecolor": "white",
            "ticks": ""
           }
          },
          "scene": {
           "xaxis": {
            "backgroundcolor": "#E5ECF6",
            "gridcolor": "white",
            "gridwidth": 2,
            "linecolor": "white",
            "showbackground": true,
            "ticks": "",
            "zerolinecolor": "white"
           },
           "yaxis": {
            "backgroundcolor": "#E5ECF6",
            "gridcolor": "white",
            "gridwidth": 2,
            "linecolor": "white",
            "showbackground": true,
            "ticks": "",
            "zerolinecolor": "white"
           },
           "zaxis": {
            "backgroundcolor": "#E5ECF6",
            "gridcolor": "white",
            "gridwidth": 2,
            "linecolor": "white",
            "showbackground": true,
            "ticks": "",
            "zerolinecolor": "white"
           }
          },
          "shapedefaults": {
           "line": {
            "color": "#2a3f5f"
           }
          },
          "ternary": {
           "aaxis": {
            "gridcolor": "white",
            "linecolor": "white",
            "ticks": ""
           },
           "baxis": {
            "gridcolor": "white",
            "linecolor": "white",
            "ticks": ""
           },
           "bgcolor": "#E5ECF6",
           "caxis": {
            "gridcolor": "white",
            "linecolor": "white",
            "ticks": ""
           }
          },
          "title": {
           "x": 0.05
          },
          "xaxis": {
           "automargin": true,
           "gridcolor": "white",
           "linecolor": "white",
           "ticks": "",
           "title": {
            "standoff": 15
           },
           "zerolinecolor": "white",
           "zerolinewidth": 2
          },
          "yaxis": {
           "automargin": true,
           "gridcolor": "white",
           "linecolor": "white",
           "ticks": "",
           "title": {
            "standoff": 15
           },
           "zerolinecolor": "white",
           "zerolinewidth": 2
          }
         }
        },
        "title": {
         "text": "Pipeline kilometers in development (bcm/y)",
         "y": 0.97,
         "yanchor": "top"
        },
        "xaxis": {
         "fixedrange": true,
         "side": "top",
         "title": {
          "text": "bcm/y"
         }
        },
        "yaxis": {
         "fixedrange": true,
         "title": {
          "text": "country"
         }
        }
       }
      },
      "image/png": "[encoded data removed]",
      "text/html": [
       "<div>                            <div id=\"acae43d9-0186-49d6-a48d-dd76572add62\" class=\"plotly-graph-div\" style=\"height:525px; width:100%;\"></div>            <script type=\"text/javascript\">                require([\"plotly\"], function(Plotly) {                    window.PLOTLYENV=window.PLOTLYENV || {};                                    if (document.getElementById(\"acae43d9-0186-49d6-a48d-dd76572add62\")) {                    Plotly.newPlot(                        \"acae43d9-0186-49d6-a48d-dd76572add62\",                        [{\"coloraxis\":\"coloraxis\",\"geo\":\"geo\",\"hovertemplate\":\"ISOCode=%{location}<br>Kilometers=%{z}<extra></extra>\",\"locations\":[\"BEL\",\"NLD\",\"LUX\",\"FRA\",\"CZE\",\"FIN\",\"EST\",\"IRL\",\"AUT\",\"LVA\",\"MLT\",\"SWE\",\"SVK\",\"DEU\",\"LTU\",\"PRT\",\"DNK\",\"HUN\",\"SVN\",\"CYP\",\"HRV\",\"ESP\",\"ITA\",\"BGR\",\"GRC\",\"POL\",\"ROU\"],\"name\":\"\",\"z\":[0.0,0.0,0.0,0.0,0.0,0.0,0.0,26.0,28.0,31.5,70.56,86.37,136.76,149.48,178.02,320.75,423.99,460.70000000000005,495.67,831.78,869.44,1241.74,1631.92,1766.16,2318.77,2439.73,2948.11],\"type\":\"choropleth\",\"colorbar\":{\"thickness\":100}}],                        {\"template\":{\"data\":{\"bar\":[{\"error_x\":{\"color\":\"#2a3f5f\"},\"error_y\":{\"color\":\"#2a3f5f\"},\"marker\":{\"line\":{\"color\":\"#E5ECF6\",\"width\":0.5},\"pattern\":{\"fillmode\":\"overlay\",\"size\":10,\"solidity\":0.2}},\"type\":\"bar\"}],\"barpolar\":[{\"marker\":{\"line\":{\"color\":\"#E5ECF6\",\"width\":0.5},\"pattern\":{\"fillmode\":\"overlay\",\"size\":10,\"solidity\":0.2}},\"type\":\"barpolar\"}],\"carpet\":[{\"aaxis\":{\"endlinecolor\":\"#2a3f5f\",\"gridcolor\":\"white\",\"linecolor\":\"white\",\"minorgridcolor\":\"white\",\"startlinecolor\":\"#2a3f5f\"},\"baxis\":{\"endlinecolor\":\"#2a3f5f\",\"gridcolor\":\"white\",\"linecolor\":\"white\",\"minorgridcolor\":\"white\",\"startlinecolor\":\"#2a3f5f\"},\"type\":\"carpet\"}],\"choropleth\":[{\"colorbar\":{\"outlinewidth\":0,\"ticks\":\"\"},\"type\":\"choropleth\"}],\"contour\":[{\"colorbar\":{\"outlinewidth\":0,\"ticks\":\"\"},\"colorscale\":[[0.0,\"#0d0887\"],[0.1111111111111111,\"#46039f\"],[0.2222222222222222,\"#7201a8\"],[0.3333333333333333,\"#9c179e\"],[0.4444444444444444,\"#bd3786\"],[0.5555555555555556,\"#d8576b\"],[0.6666666666666666,\"#ed7953\"],[0.7777777777777778,\"#fb9f3a\"],[0.8888888888888888,\"#fdca26\"],[1.0,\"#f0f921\"]],\"type\":\"contour\"}],\"contourcarpet\":[{\"colorbar\":{\"outlinewidth\":0,\"ticks\":\"\"},\"type\":\"contourcarpet\"}],\"heatmap\":[{\"colorbar\":{\"outlinewidth\":0,\"ticks\":\"\"},\"colorscale\":[[0.0,\"#0d0887\"],[0.1111111111111111,\"#46039f\"],[0.2222222222222222,\"#7201a8\"],[0.3333333333333333,\"#9c179e\"],[0.4444444444444444,\"#bd3786\"],[0.5555555555555556,\"#d8576b\"],[0.6666666666666666,\"#ed7953\"],[0.7777777777777778,\"#fb9f3a\"],[0.8888888888888888,\"#fdca26\"],[1.0,\"#f0f921\"]],\"type\":\"heatmap\"}],\"heatmapgl\":[{\"colorbar\":{\"outlinewidth\":0,\"ticks\":\"\"},\"colorscale\":[[0.0,\"#0d0887\"],[0.1111111111111111,\"#46039f\"],[0.2222222222222222,\"#7201a8\"],[0.3333333333333333,\"#9c179e\"],[0.4444444444444444,\"#bd3786\"],[0.5555555555555556,\"#d8576b\"],[0.6666666666666666,\"#ed7953\"],[0.7777777777777778,\"#fb9f3a\"],[0.8888888888888888,\"#fdca26\"],[1.0,\"#f0f921\"]],\"type\":\"heatmapgl\"}],\"histogram\":[{\"marker\":{\"pattern\":{\"fillmode\":\"overlay\",\"size\":10,\"solidity\":0.2}},\"type\":\"histogram\"}],\"histogram2d\":[{\"colorbar\":{\"outlinewidth\":0,\"ticks\":\"\"},\"colorscale\":[[0.0,\"#0d0887\"],[0.1111111111111111,\"#46039f\"],[0.2222222222222222,\"#7201a8\"],[0.3333333333333333,\"#9c179e\"],[0.4444444444444444,\"#bd3786\"],[0.5555555555555556,\"#d8576b\"],[0.6666666666666666,\"#ed7953\"],[0.7777777777777778,\"#fb9f3a\"],[0.8888888888888888,\"#fdca26\"],[1.0,\"#f0f921\"]],\"type\":\"histogram2d\"}],\"histogram2dcontour\":[{\"colorbar\":{\"outlinewidth\":0,\"ticks\":\"\"},\"colorscale\":[[0.0,\"#0d0887\"],[0.1111111111111111,\"#46039f\"],[0.2222222222222222,\"#7201a8\"],[0.3333333333333333,\"#9c179e\"],[0.4444444444444444,\"#bd3786\"],[0.5555555555555556,\"#d8576b\"],[0.6666666666666666,\"#ed7953\"],[0.7777777777777778,\"#fb9f3a\"],[0.8888888888888888,\"#fdca26\"],[1.0,\"#f0f921\"]],\"type\":\"histogram2dcontour\"}],\"mesh3d\":[{\"colorbar\":{\"outlinewidth\":0,\"ticks\":\"\"},\"type\":\"mesh3d\"}],\"parcoords\":[{\"line\":{\"colorbar\":{\"outlinewidth\":0,\"ticks\":\"\"}},\"type\":\"parcoords\"}],\"pie\":[{\"automargin\":true,\"type\":\"pie\"}],\"scatter\":[{\"marker\":{\"colorbar\":{\"outlinewidth\":0,\"ticks\":\"\"}},\"type\":\"scatter\"}],\"scatter3d\":[{\"line\":{\"colorbar\":{\"outlinewidth\":0,\"ticks\":\"\"}},\"marker\":{\"colorbar\":{\"outlinewidth\":0,\"ticks\":\"\"}},\"type\":\"scatter3d\"}],\"scattercarpet\":[{\"marker\":{\"colorbar\":{\"outlinewidth\":0,\"ticks\":\"\"}},\"type\":\"scattercarpet\"}],\"scattergeo\":[{\"marker\":{\"colorbar\":{\"outlinewidth\":0,\"ticks\":\"\"}},\"type\":\"scattergeo\"}],\"scattergl\":[{\"marker\":{\"colorbar\":{\"outlinewidth\":0,\"ticks\":\"\"}},\"type\":\"scattergl\"}],\"scattermapbox\":[{\"marker\":{\"colorbar\":{\"outlinewidth\":0,\"ticks\":\"\"}},\"type\":\"scattermapbox\"}],\"scatterpolar\":[{\"marker\":{\"colorbar\":{\"outlinewidth\":0,\"ticks\":\"\"}},\"type\":\"scatterpolar\"}],\"scatterpolargl\":[{\"marker\":{\"colorbar\":{\"outlinewidth\":0,\"ticks\":\"\"}},\"type\":\"scatterpolargl\"}],\"scatterternary\":[{\"marker\":{\"colorbar\":{\"outlinewidth\":0,\"ticks\":\"\"}},\"type\":\"scatterternary\"}],\"surface\":[{\"colorbar\":{\"outlinewidth\":0,\"ticks\":\"\"},\"colorscale\":[[0.0,\"#0d0887\"],[0.1111111111111111,\"#46039f\"],[0.2222222222222222,\"#7201a8\"],[0.3333333333333333,\"#9c179e\"],[0.4444444444444444,\"#bd3786\"],[0.5555555555555556,\"#d8576b\"],[0.6666666666666666,\"#ed7953\"],[0.7777777777777778,\"#fb9f3a\"],[0.8888888888888888,\"#fdca26\"],[1.0,\"#f0f921\"]],\"type\":\"surface\"}],\"table\":[{\"cells\":{\"fill\":{\"color\":\"#EBF0F8\"},\"line\":{\"color\":\"white\"}},\"header\":{\"fill\":{\"color\":\"#C8D4E3\"},\"line\":{\"color\":\"white\"}},\"type\":\"table\"}]},\"layout\":{\"annotationdefaults\":{\"arrowcolor\":\"#2a3f5f\",\"arrowhead\":0,\"arrowwidth\":1},\"autotypenumbers\":\"strict\",\"coloraxis\":{\"colorbar\":{\"outlinewidth\":0,\"ticks\":\"\"}},\"colorscale\":{\"diverging\":[[0,\"#8e0152\"],[0.1,\"#c51b7d\"],[0.2,\"#de77ae\"],[0.3,\"#f1b6da\"],[0.4,\"#fde0ef\"],[0.5,\"#f7f7f7\"],[0.6,\"#e6f5d0\"],[0.7,\"#b8e186\"],[0.8,\"#7fbc41\"],[0.9,\"#4d9221\"],[1,\"#276419\"]],\"sequential\":[[0.0,\"#0d0887\"],[0.1111111111111111,\"#46039f\"],[0.2222222222222222,\"#7201a8\"],[0.3333333333333333,\"#9c179e\"],[0.4444444444444444,\"#bd3786\"],[0.5555555555555556,\"#d8576b\"],[0.6666666666666666,\"#ed7953\"],[0.7777777777777778,\"#fb9f3a\"],[0.8888888888888888,\"#fdca26\"],[1.0,\"#f0f921\"]],\"sequentialminus\":[[0.0,\"#0d0887\"],[0.1111111111111111,\"#46039f\"],[0.2222222222222222,\"#7201a8\"],[0.3333333333333333,\"#9c179e\"],[0.4444444444444444,\"#bd3786\"],[0.5555555555555556,\"#d8576b\"],[0.6666666666666666,\"#ed7953\"],[0.7777777777777778,\"#fb9f3a\"],[0.8888888888888888,\"#fdca26\"],[1.0,\"#f0f921\"]]},\"colorway\":[\"#636efa\",\"#EF553B\",\"#00cc96\",\"#ab63fa\",\"#FFA15A\",\"#19d3f3\",\"#FF6692\",\"#B6E880\",\"#FF97FF\",\"#FECB52\"],\"font\":{\"color\":\"#2a3f5f\"},\"geo\":{\"bgcolor\":\"white\",\"lakecolor\":\"white\",\"landcolor\":\"#E5ECF6\",\"showlakes\":true,\"showland\":true,\"subunitcolor\":\"white\"},\"hoverlabel\":{\"align\":\"left\"},\"hovermode\":\"closest\",\"mapbox\":{\"style\":\"light\"},\"paper_bgcolor\":\"white\",\"plot_bgcolor\":\"#E5ECF6\",\"polar\":{\"angularaxis\":{\"gridcolor\":\"white\",\"linecolor\":\"white\",\"ticks\":\"\"},\"bgcolor\":\"#E5ECF6\",\"radialaxis\":{\"gridcolor\":\"white\",\"linecolor\":\"white\",\"ticks\":\"\"}},\"scene\":{\"xaxis\":{\"backgroundcolor\":\"#E5ECF6\",\"gridcolor\":\"white\",\"gridwidth\":2,\"linecolor\":\"white\",\"showbackground\":true,\"ticks\":\"\",\"zerolinecolor\":\"white\"},\"yaxis\":{\"backgroundcolor\":\"#E5ECF6\",\"gridcolor\":\"white\",\"gridwidth\":2,\"linecolor\":\"white\",\"showbackground\":true,\"ticks\":\"\",\"zerolinecolor\":\"white\"},\"zaxis\":{\"backgroundcolor\":\"#E5ECF6\",\"gridcolor\":\"white\",\"gridwidth\":2,\"linecolor\":\"white\",\"showbackground\":true,\"ticks\":\"\",\"zerolinecolor\":\"white\"}},\"shapedefaults\":{\"line\":{\"color\":\"#2a3f5f\"}},\"ternary\":{\"aaxis\":{\"gridcolor\":\"white\",\"linecolor\":\"white\",\"ticks\":\"\"},\"baxis\":{\"gridcolor\":\"white\",\"linecolor\":\"white\",\"ticks\":\"\"},\"bgcolor\":\"#E5ECF6\",\"caxis\":{\"gridcolor\":\"white\",\"linecolor\":\"white\",\"ticks\":\"\"}},\"title\":{\"x\":0.05},\"xaxis\":{\"automargin\":true,\"gridcolor\":\"white\",\"linecolor\":\"white\",\"ticks\":\"\",\"title\":{\"standoff\":15},\"zerolinecolor\":\"white\",\"zerolinewidth\":2},\"yaxis\":{\"automargin\":true,\"gridcolor\":\"white\",\"linecolor\":\"white\",\"ticks\":\"\",\"title\":{\"standoff\":15},\"zerolinecolor\":\"white\",\"zerolinewidth\":2}}},\"geo\":{\"domain\":{\"x\":[0.0,1.0],\"y\":[0.0,1.0]},\"center\":{\"lat\":50,\"lon\":7},\"projection\":{\"rotation\":{\"lon\":30},\"type\":\"azimuthal equal area\",\"scale\":5.5},\"resolution\":50,\"showcoastlines\":false,\"landcolor\":\"rgb(255, 255, 255)\",\"showocean\":true,\"oceancolor\":\"rgb(237, 245, 252)\"},\"coloraxis\":{\"colorbar\":{\"title\":{\"text\":\"Kilometers\"},\"x\":1.01},\"colorscale\":[[0.0,\"rgb(247,252,245)\"],[0.125,\"rgb(229,245,224)\"],[0.25,\"rgb(199,233,192)\"],[0.375,\"rgb(161,217,155)\"],[0.5,\"rgb(116,196,118)\"],[0.625,\"rgb(65,171,93)\"],[0.75,\"rgb(35,139,69)\"],[0.875,\"rgb(0,109,44)\"],[1.0,\"rgb(0,68,27)\"]]},\"legend\":{\"tracegroupgap\":0},\"title\":{\"text\":\"Pipeline kilometers in development (bcm/y)\",\"y\":0.97,\"yanchor\":\"top\"},\"font\":{\"family\":\"Helvetica\",\"color\":\"rgb(150, 150, 150)\"},\"xaxis\":{\"title\":{\"text\":\"bcm/y\"},\"side\":\"top\",\"fixedrange\":true},\"plot_bgcolor\":\"white\",\"paper_bgcolor\":\"white\",\"yaxis\":{\"title\":{\"text\":\"country\"},\"fixedrange\":true}},                        {\"responsive\": true}                    ).then(function(){\n",
       "                            \n",
       "var gd = document.getElementById('acae43d9-0186-49d6-a48d-dd76572add62');\n",
       "var x = new MutationObserver(function (mutations, observer) {{\n",
       "        var display = window.getComputedStyle(gd).display;\n",
       "        if (!display || display === 'none') {{\n",
       "            console.log([gd, 'removed!']);\n",
       "            Plotly.purge(gd);\n",
       "            observer.disconnect();\n",
       "        }}\n",
       "}});\n",
       "\n",
       "// Listen for the removal of the full notebook cells\n",
       "var notebookContainer = gd.closest('#notebook-container');\n",
       "if (notebookContainer) {{\n",
       "    x.observe(notebookContainer, {childList: true});\n",
       "}}\n",
       "\n",
       "// Listen for the clearing of the current output cell\n",
       "var outputEl = gd.closest('.output');\n",
       "if (outputEl) {{\n",
       "    x.observe(outputEl, {childList: true});\n",
       "}}\n",
       "\n",
       "                        })                };                });            </script>        </div>"
      ]
     },
     "metadata": {},
     "output_type": "display_data"
    }
   ],
   "source": [
    "def fig_kilometers_map():\n",
    "\n",
    "\n",
    "    pipes_df_length_sum = pandas.DataFrame(0, index=country_list, columns=['Pre-construction','Construction'])\n",
    "    country_ratios_df_region = country_ratios_df[(country_ratios_df.Country.isin(region_df_touse.Country))&\n",
    "                                                 (country_ratios_df.Status.isin(['Construction','Proposed']))]\n",
    "\n",
    "    country_ratios_df_region = country_ratios_df[(country_ratios_df.Country.isin(region_df_touse.Country))&\n",
    "                                (country_ratios_df.Status.isin(['Construction','Proposed']))]\n",
    "\n",
    "    # proposed\n",
    "    pipes_df_length_sum['Pre-construction'] += country_ratios_df_region.loc[country_ratios_df_region.Status=='Proposed'].groupby(\n",
    "        'Country')['MergedKmByCountry'].sum()\n",
    "    # construction\n",
    "    pipes_df_length_sum['Construction'] += country_ratios_df_region.loc[country_ratios_df_region.Status=='Construction'].groupby(\n",
    "        'Country')['MergedKmByCountry'].sum()\n",
    "\n",
    "    pipes_df_length_sum.replace(numpy.nan,0,inplace=True)\n",
    "\n",
    "    # reorder for descending values\n",
    "    country_order = pipes_df_length_sum.sum(axis=1).sort_values(ascending=True).index\n",
    "    pipes_df_length_sum = pipes_df_length_sum.reindex(country_order)\n",
    "    \n",
    "    # ****************************************\n",
    "\n",
    "    # create cloropleth info\n",
    "    pipes_df_length_sum['Kilometers'] = pipes_df_length_sum.sum(axis=1)\n",
    "\n",
    "    # add ISO Code for interaction with nat earth data\n",
    "    pipes_df_length_sum['ISOCode'] = ''\n",
    "    for idx,row in  pipes_df_length_sum.iterrows():\n",
    "         pipes_df_length_sum.loc[idx,'ISOCode'] = region_df_orig.loc[region_df_orig['Country']==row.name,'ISOCode'].values\n",
    "\n",
    "    # reorder for descending values\n",
    "    country_order =  pipes_df_length_sum.sum(axis=1).sort_values(ascending=True).index\n",
    "    pipes_df_length_sum = pipes_df_length_sum.reindex(country_order)\n",
    "\n",
    "    fig = px.choropleth(pipes_df_length_sum, \n",
    "                        locations=pipes_df_length_sum['ISOCode'],\n",
    "                        color='Kilometers', color_continuous_scale=px.colors.sequential.Greens,\n",
    "                        title='Pipeline kilometers in development (bcm/y)')\n",
    "\n",
    "    fig.update_geos(\n",
    "        resolution=50,\n",
    "        showcoastlines=False,\n",
    "        #showcountries=True,\n",
    "        #coastlinecolor=px.colors.sample_colorscale('greys', 0.9)[0],\n",
    "        landcolor=px.colors.sample_colorscale('greys', 1e-5)[0],\n",
    "\n",
    "        showocean=True,\n",
    "        oceancolor=px.colors.sample_colorscale('blues', 0.05)[0],\n",
    "\n",
    "        projection_type='azimuthal equal area',\n",
    "        center=dict(lat=50, lon=7),\n",
    "        projection_rotation=dict(lon=30),\n",
    "        projection_scale=5.5)\n",
    "    \n",
    "    fig.update_layout(\n",
    "        font_family='Helvetica',\n",
    "        font_color=px.colors.sample_colorscale('greys', 0.5)[0],\n",
    "        plot_bgcolor='white',\n",
    "        paper_bgcolor='white',\n",
    "\n",
    "        yaxis_title='country',\n",
    "        xaxis_title='bcm/y',\n",
    "        xaxis={'side':'top'},\n",
    "        title_y=.97,\n",
    "        title_yanchor='top',\n",
    "\n",
    "        coloraxis_colorbar_x=1.01)\n",
    "    \n",
    "    fig.update_traces(\n",
    "        colorbar=dict(thickness=100),\n",
    "        selector=dict(type='choropleth'))\n",
    "    \n",
    "    fig.update_xaxes(fixedrange=True)\n",
    "    fig.update_yaxes(fixedrange=True)\n",
    "    \n",
    "    return(fig)\n",
    "\n",
    "fig = fig_kilometers_map()\n",
    "fig.show()"
   ]
  },
  {
   "cell_type": "code",
   "execution_count": null,
   "id": "00988111-17f0-414c-ac5d-a9c87c616e86",
   "metadata": {},
   "outputs": [],
   "source": []
  },
  {
   "cell_type": "code",
   "execution_count": null,
   "id": "8d8b3d75-73a8-4e88-9ae6-cee6817e4a0e",
   "metadata": {},
   "outputs": [],
   "source": []
  },
  {
   "cell_type": "code",
   "execution_count": 360,
   "id": "deb5ff2c-d9bb-4d3f-9438-b0aafd861d4d",
   "metadata": {},
   "outputs": [
    {
     "name": "stdout",
     "output_type": "stream",
     "text": [
      "Dash is running on http://127.0.0.1:8050/\n",
      "\n",
      "Dash is running on http://127.0.0.1:8050/\n",
      "\n",
      "Dash is running on http://127.0.0.1:8050/\n",
      "\n",
      " * Serving Flask app '__main__' (lazy loading)\n",
      " * Environment: production\n",
      "\u001b[31m   WARNING: This is a development server. Do not use it in a production deployment.\u001b[0m\n",
      "\u001b[2m   Use a production WSGI server instead.\u001b[0m\n",
      " * Debug mode: off\n"
     ]
    },
    {
     "name": "stderr",
     "output_type": "stream",
     "text": [
      "/var/folders/h5/nfk59_vx7gg_58myc9jfk7_40000gn/T/ipykernel_28733/253172400.py:88: FutureWarning:\n",
      "\n",
      "Dropping of nuisance columns in DataFrame reductions (with 'numeric_only=None') is deprecated; in a future version this will raise TypeError.  Select only valid columns before calling the reduction.\n",
      "\n",
      " * Running on http://127.0.0.1:8050/ (Press CTRL+C to quit)\n",
      "127.0.0.1 - - [10/Mar/2022 23:22:58] \"GET / HTTP/1.1\" 200 -\n",
      "127.0.0.1 - - [10/Mar/2022 23:22:59] \"GET /_dash-component-suites/dash/deps/polyfill@7.v2_2_0m1645231447.12.1.min.js HTTP/1.1\" 200 -\n",
      "127.0.0.1 - - [10/Mar/2022 23:22:59] \"GET /_dash-component-suites/dash/deps/react@16.v2_2_0m1645231447.14.0.min.js HTTP/1.1\" 200 -\n",
      "127.0.0.1 - - [10/Mar/2022 23:22:59] \"GET /_dash-component-suites/dash/deps/react-dom@16.v2_2_0m1645231447.14.0.min.js HTTP/1.1\" 200 -\n",
      "127.0.0.1 - - [10/Mar/2022 23:22:59] \"GET /_dash-component-suites/dash_bootstrap_components/_components/dash_bootstrap_components.v1_0_3m1644118863.min.js HTTP/1.1\" 200 -\n",
      "127.0.0.1 - - [10/Mar/2022 23:22:59] \"GET /_dash-component-suites/dash/dash-renderer/build/dash_renderer.v2_2_0m1645231447.min.js HTTP/1.1\" 200 -\n",
      "127.0.0.1 - - [10/Mar/2022 23:22:59] \"GET /_dash-component-suites/dash/dcc/dash_core_components.v2_2_0m1645231447.js HTTP/1.1\" 200 -\n",
      "127.0.0.1 - - [10/Mar/2022 23:22:59] \"GET /_dash-component-suites/dash/dcc/dash_core_components-shared.v2_2_0m1645231447.js HTTP/1.1\" 200 -\n",
      "127.0.0.1 - - [10/Mar/2022 23:22:59] \"GET /_dash-component-suites/dash/html/dash_html_components.v2_0_2m1645231447.min.js HTTP/1.1\" 200 -\n",
      "127.0.0.1 - - [10/Mar/2022 23:22:59] \"GET /_dash-component-suites/dash/dash_table/bundle.v5_1_1m1645231447.js HTTP/1.1\" 200 -\n",
      "127.0.0.1 - - [10/Mar/2022 23:22:59] \"GET /_dash-layout HTTP/1.1\" 200 -\n",
      "127.0.0.1 - - [10/Mar/2022 23:22:59] \"GET /_dash-dependencies HTTP/1.1\" 200 -\n",
      "127.0.0.1 - - [10/Mar/2022 23:23:00] \"GET /_dash-component-suites/dash/dcc/async-graph.js HTTP/1.1\" 200 -\n",
      "127.0.0.1 - - [10/Mar/2022 23:23:00] \"GET /_dash-component-suites/dash/dcc/async-plotlyjs.js HTTP/1.1\" 200 -\n"
     ]
    }
   ],
   "source": [
    "# ****************************************\n",
    "# dashboard details\n",
    "# ****************************************\n",
    "\n",
    "external_stylesheets = [dbc.themes.BOOTSTRAP]\n",
    "#app = jupyter_dash.JupyterDash(__name__, external_stylesheets=external_stylesheets)\n",
    "app = dash.Dash(__name__, external_stylesheets=external_stylesheets)\n",
    "app.title = \"Europe Gas Tracker dashboard\"\n",
    "server = app.server\n",
    "\n",
    "# ******************************\n",
    "# create graphs of charts\n",
    "\n",
    "# dash_header = html.H2(children='Coal power dashboard')\n",
    "\n",
    "capacity_figure = dash.dcc.Graph(id='fig_capacity_id', \n",
    "                                 config={'displayModeBar':False},\n",
    "                                 figure=fig_capacity())\n",
    "length_figure = dash.dcc.Graph(id='fig_length_id', \n",
    "                               config={'displayModeBar':False},\n",
    "                               figure=fig_length())\n",
    "fid_figure = dash.dcc.Graph(id='fig_fid_id', \n",
    "                               config={'displayModeBar':False},\n",
    "                               figure=fig_fid())\n",
    "\n",
    "capacity_map = dash.dcc.Graph(id='fig_capacity_map_id',\n",
    "                              config={'displayModeBar':False},\n",
    "                              figure=fig_capacity_map())\n",
    "#, config={'displayModeBar':False})\n",
    "\n",
    "\n",
    "# ******************************\n",
    "# define layout\n",
    "\n",
    "# note the dash.html.Div([ up top is necessary for it to work...\n",
    "app.layout = dash.html.Div([\n",
    "    dbc.Container(fluid=True, children=[\n",
    "    dbc.Row([\n",
    "        dbc.Col(capacity_figure, style={'maxHeight':'400px', 'overflow':'scroll'}, align='start'),\n",
    "        dbc.Col(capacity_map, style={'maxHeight':'400px', 'overflow':'scroll'}, align='start')\n",
    "    ]),\n",
    "    dbc.Row(),\n",
    "    dbc.Row([\n",
    "        dbc.Col(length_figure, style={'maxHeight':'400px', 'overflow':'scroll'}, align='start'),\n",
    "        dbc.Col(fid_figure, style={'maxHeight':'400px', 'overflow':'scroll'}, align='start')])\n",
    "])\n",
    "])\n",
    "\n",
    "# style={'maxHeight':'400px', 'overflow':'scroll'} - add before align='start'\n",
    "\n",
    "#app.run_server(mode='external')\n",
    "#app.run_server(mode='inline')\n",
    "\n",
    "#@app.callback(\n",
    "#    dash.dependencies.Output('figure_capacity', 'figure'),\n",
    "#    dash.dependencies.Output('figure_length', 'figure'),\n",
    "#    dash.dependencies.Output('figure_fid', 'figure'))\n",
    "\n",
    "if __name__ == '__main__':\n",
    "    app.run_server()"
   ]
  },
  {
   "cell_type": "code",
   "execution_count": null,
   "id": "d2d18d0f-f5dd-4e8f-8e50-843cd18962ef",
   "metadata": {},
   "outputs": [],
   "source": []
  }
 ],
 "metadata": {
  "kernelspec": {
   "display_name": "gem",
   "language": "python",
   "name": "gem"
  },
  "language_info": {
   "codemirror_mode": {
    "name": "ipython",
    "version": 3
   },
   "file_extension": ".py",
   "mimetype": "text/x-python",
   "name": "python",
   "nbconvert_exporter": "python",
   "pygments_lexer": "ipython3",
   "version": "3.9.9"
  }
 },
 "nbformat": 4,
 "nbformat_minor": 5
}
