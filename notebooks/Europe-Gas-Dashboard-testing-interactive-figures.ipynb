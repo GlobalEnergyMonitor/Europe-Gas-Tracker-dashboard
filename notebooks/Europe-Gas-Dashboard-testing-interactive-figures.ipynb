{
 "cells": [
  {
   "cell_type": "code",
   "execution_count": 2,
   "id": "1e35b721-11c4-4b53-a5a6-6ffa8a848f14",
   "metadata": {},
   "outputs": [],
   "source": [
    "import pandas\n",
    "import numpy\n",
    "import pygsheets\n",
    "\n",
    "import geopandas\n",
    "import cartopy\n",
    "import shapely\n",
    "\n",
    "import dash\n",
    "import plotly.express as px\n",
    "#import jupyter_dash\n",
    "import dash_bootstrap_components as dbc"
   ]
  },
  {
   "cell_type": "code",
   "execution_count": 3,
   "id": "691548e9-79fc-4136-bd7d-5180365e7880",
   "metadata": {},
   "outputs": [
    {
     "name": "stderr",
     "output_type": "stream",
     "text": [
      "/Users/baird/miniconda3/envs/gem/lib/python3.9/site-packages/pandas/core/dtypes/cast.py:1990: ShapelyDeprecationWarning: __len__ for multi-part geometries is deprecated and will be removed in Shapely 2.0. Check the length of the `geoms` property instead to get the  number of parts of a multi-part geometry.\n",
      "  result[:] = values\n"
     ]
    },
    {
     "name": "stdout",
     "output_type": "stream",
     "text": [
      "Exception for Trans-Adriatic Gas Pipeline; coord_list_tuples: [(18.38, 40.265)]\n"
     ]
    }
   ],
   "source": [
    "# ****************************************\n",
    "# import pipelines data\n",
    "# ****************************************\n",
    "\n",
    "#credentials_directory = '/Users/baird/Dropbox/_google-api/'\n",
    "gc = pygsheets.authorize(service_account_env_var='GDRIVE_API_CREDENTIALS')\n",
    "spreadsheet = gc.open_by_key('1MX_6I2QW07lFFWMO-k3mjthBlQGFlv5aTMBmvbliYUY')\n",
    "\n",
    "gas_pipes = spreadsheet.worksheet('title', 'Gas pipelines').get_as_df()\n",
    "oil_pipes = spreadsheet.worksheet('title', 'Oil/NGL pipelines').get_as_df()\n",
    "#owners = spreadsheet[2].get_as_df()\n",
    "\n",
    "gas_pipes = gas_pipes.drop('WKTFormat', axis=1) # delete WKTFormat column\n",
    "oil_pipes = oil_pipes.drop('WKTFormat', axis=1)\n",
    "pipes_df_orig = pandas.concat([oil_pipes, gas_pipes], ignore_index=True)\n",
    "# remove empty cells for pipes, owners\n",
    "pipes_df_orig = pipes_df_orig[pipes_df_orig['PipelineName']!='']\n",
    "\n",
    "#get other relevant sheets\n",
    "country_ratios_df = spreadsheet.worksheet('title', 'Country ratios by pipeline').get_as_df()\n",
    "\n",
    "# ****************************************\n",
    "# special cases\n",
    "# ****************************************\n",
    "# as of Feb 22, Nord Stream 2 is \"Idle\" in our data but should probably be \"Construction\"...\n",
    "\n",
    "# force Nigeria-Morocco Pipeline to be Proposed (instead of Construction)\n",
    "country_ratios_df.loc[country_ratios_df.PipelineName=='Nord Stream 2', 'Status'] = 'Construction'\n",
    "pipes_df_orig.loc[pipes_df_orig.PipelineName=='Nord Stream 2', 'Status'] = 'Construction'\n",
    "\n",
    "country_ratios_df.replace('--', numpy.nan, inplace=True)\n",
    "pipes_df_orig.replace('--', numpy.nan, inplace=True)\n",
    "\n",
    "# https://www.gem.wiki/Poland-Ukraine_Interconnector_Gas_Pipeline\n",
    "# our country_ratios code calculates this is half in each country, but it's not\n",
    "country_ratios_df.loc[(country_ratios_df.PipelineName=='Poland-Ukraine Interconnector Gas Pipeline')& \\\n",
    "    (country_ratios_df.Country=='Poland'),'LengthKnownKmByCountry'] = 1.5\n",
    "\n",
    "country_ratios_df.loc[(country_ratios_df.PipelineName=='Poland-Ukraine Interconnector Gas Pipeline')& \\\n",
    "    (country_ratios_df.Country=='Ukraine'),'LengthKnownKmByCountry'] = 99.0\n",
    "\n",
    "# ****************************************\n",
    "# convert routes to geometry objects\n",
    "# ****************************************\n",
    "\n",
    "def convert_gfit_to_linestring(coord_str, pipeline_name):\n",
    "    '''\n",
    "    Takes string from GFIT column of coordinates for a single pipeline,\n",
    "    converts that string into Shapely LineString or MultiLinestring.\n",
    "    '''\n",
    "    #print(coord_str, pipeline_name)\n",
    "    if ':' in coord_str and ';' not in coord_str:\n",
    "        # simple geometry; no branching\n",
    "        # create nested list of lists, separating on colons        \n",
    "        coord_list = coord_str.split(':')\n",
    "        coord_list_tuples = []\n",
    "        # non-branched pipeline (nested list with one level)\n",
    "        # convert nested list of lists to list of tuples\n",
    "        try:\n",
    "            for element in coord_list:\n",
    "                element_tuple = (float(element.split(',')[1]), \n",
    "                                 float(element.split(',')[0]))\n",
    "                coord_list_tuples.append(element_tuple)\n",
    "        except:\n",
    "            print(f\"Exception for {pipeline_name}; element: {element}\") # for db\n",
    "        route_conv = shapely.geometry.LineString(coord_list_tuples)\n",
    "\n",
    "    elif ':' in coord_str and ';' in coord_str:\n",
    "        # create a nested list of lists, separating on semicolons\n",
    "        coord_list = coord_str.split(';')   \n",
    "        # create a second level of nesting, separating on colons\n",
    "        coord_list = [x.split(':') for x in coord_list]\n",
    "        # branched pipeline (nested list with two levels)\n",
    "        route_conv_list_all = []\n",
    "        \n",
    "        for nested_list in coord_list:\n",
    "            coord_list_tuples = []\n",
    "            # process element\n",
    "            try:\n",
    "                for element in nested_list:\n",
    "                    element_tuple = (float(element.split(',')[1]), \n",
    "                                     float(element.split(',')[0]))\n",
    "                    coord_list_tuples.append(element_tuple)\n",
    "            except:\n",
    "                print(f\"Exception for {pipeline_name}; element: {element}\") # for db\n",
    "            # process coord_list_tuples\n",
    "            try:\n",
    "                route_conv_list = shapely.geometry.LineString(coord_list_tuples)\n",
    "                route_conv_list_all.append(route_conv_list)\n",
    "            except:\n",
    "                print(f\"Exception for {pipeline_name}; coord_list_tuples: {coord_list_tuples}\") # for db\n",
    "                pass\n",
    "            \n",
    "        route_conv = shapely.geometry.MultiLineString(route_conv_list_all)\n",
    "        \n",
    "    return route_conv\n",
    "\n",
    "def convert_all_pipelines(df):\n",
    "    \"\"\"\n",
    "    Apply the conversion function to all pipelines in the dataframe.\n",
    "    \"\"\"\n",
    "    # create geometry column with empty strings\n",
    "    #df.assign(ColName='geometry', dtype='str')\n",
    "    df['geometry'] = ''\n",
    "    #print(df['geometry'])\n",
    "    \n",
    "    # filter to keep only pipelines with routes\n",
    "    mask_route = df['Route'].str.contains(',' or ':')\n",
    "    pipes_with_route = df.loc[mask_route]\n",
    "    \n",
    "    for row in pipes_with_route.index:\n",
    "        route_str = df.at[row, 'Route']\n",
    "        pipeline_name = df.at[row, 'PipelineName']\n",
    "        \n",
    "        route_str_converted = convert_gfit_to_linestring(route_str, pipeline_name)\n",
    "    \n",
    "        #print(df.at[row,'ProjectID'])\n",
    "        #print(pipeline_name)\n",
    "        #print(route_str_converted)\n",
    "        \n",
    "        df.at[row, 'geometry'] = route_str_converted   \n",
    "        \n",
    "    return df\n",
    "\n",
    "\n",
    "# code to create a dataframe with WKT formatted geometry\n",
    "no_route_options = [\n",
    "    'Unavailable', \n",
    "    'Capacity expansion only', \n",
    "    'Bidirectionality upgrade only',\n",
    "    'Short route (< 100 km)', \n",
    "    'N/A',\n",
    "    ''\n",
    "]\n",
    "\n",
    "# (1) copy, clean up\n",
    "to_convert_df = pipes_df_orig.copy()\n",
    "to_convert_df = to_convert_df[~to_convert_df['Route'].isin(no_route_options)]\n",
    "\n",
    "# also keep the non-converted ones separate\n",
    "not_converted_df = pipes_df_orig.copy()\n",
    "not_converted_df = not_converted_df[not_converted_df['Route'].isin(no_route_options)]\n",
    "# add a dummy column so that the dimensions match with converted wkt pipelines\n",
    "not_converted_df.assign(ColName='geometry')\n",
    "not_converted_df['geometry'] = [shapely.geometry.MultiLineString()]*not_converted_df.shape[0]\n",
    "not_converted_df.reset_index(drop=True)\n",
    "not_converted_gdf = geopandas.GeoDataFrame(not_converted_df, geometry=not_converted_df['geometry'])\n",
    "\n",
    "# (2) convert all pipelines\n",
    "pipes_df_wkt = convert_all_pipelines(to_convert_df)\n",
    "pipes_df_wkt = pipes_df_wkt.reset_index(drop=True)\n",
    "\n",
    "# (3) store in a GeoDataFrame, attach a projection, transform to a different one\n",
    "pipes_df_wkt_gdf = geopandas.GeoDataFrame(pipes_df_wkt, geometry=pipes_df_wkt['geometry'])\n",
    "pipes_df_wkt_gdf = pipes_df_wkt_gdf.set_crs('epsg:4326')\n",
    "pipes_df_wkt_gdf_4087 = pipes_df_wkt_gdf.to_crs('epsg:4087')\n",
    "\n",
    "pipes_df_converted_routes = pandas.concat([pipes_df_wkt_gdf, not_converted_gdf])\n",
    "pipes_df_converted_routes = pipes_df_converted_routes.reset_index(drop=True)\n",
    "pipes_df_converted_routes.sort_values('ProjectID', inplace=True)\n",
    "\n",
    "pipes_gdf = geopandas.GeoDataFrame(pipes_df_converted_routes, geometry=pipes_df_converted_routes['geometry'])"
   ]
  },
  {
   "cell_type": "code",
   "execution_count": 4,
   "id": "3e7bea68-7197-4e68-950c-1b3434216263",
   "metadata": {},
   "outputs": [
    {
     "name": "stderr",
     "output_type": "stream",
     "text": [
      "/Users/baird/miniconda3/envs/gem/lib/python3.9/site-packages/pandas/core/dtypes/cast.py:118: ShapelyDeprecationWarning: The array interface is deprecated and will no longer work in Shapely 2.0. Convert the '.coords' to a numpy array instead.\n",
      "  arr = construct_1d_object_array_from_listlike(values)\n",
      "/Users/baird/miniconda3/envs/gem/lib/python3.9/site-packages/pandas/core/dtypes/cast.py:118: ShapelyDeprecationWarning: The array interface is deprecated and will no longer work in Shapely 2.0. Convert the '.coords' to a numpy array instead.\n",
      "  arr = construct_1d_object_array_from_listlike(values)\n"
     ]
    }
   ],
   "source": [
    "# ****************************************\n",
    "# import terminals\n",
    "# ****************************************\n",
    "\n",
    "spreadsheet = gc.open_by_key('1nQChDxZXBaHX53alSXfD0IHpHdxpUSjMALEaR_JNFXE')\n",
    "\n",
    "terms_df_orig = spreadsheet.worksheet('title', 'Terminals').get_as_df()\n",
    "\n",
    "# replace all -- with nans\n",
    "terms_df_orig.replace('--', numpy.nan, inplace=True)\n",
    "# remove oil export terminals\n",
    "terms_df_orig = terms_df_orig.loc[terms_df_orig['Type1']!='Oil']\n",
    "# remove anything without a wiki page\n",
    "terms_df_orig = terms_df_orig.loc[terms_df_orig['Wiki']!='']\n",
    "\n",
    "region_df_orig = spreadsheet.worksheet('title', 'Region dictionary').get_as_df()\n",
    "\n",
    "region_df_eu = region_df_orig.copy()[region_df_orig['EuropeanUnion']=='Yes']\n",
    "region_df_egt = region_df_orig.copy()[region_df_orig['EuroGasTracker']=='Yes']\n",
    "region_df_europe = region_df_orig.copy()[region_df_orig['Region']=='Europe']\n",
    "region_df_touse = region_df_eu.copy()\n",
    "\n",
    "country_list = region_df_touse.Country\n",
    "\n",
    "# ****************************************\n",
    "# convert lat/lon geometry objects\n",
    "# ****************************************\n",
    "\n",
    "# code to create a dataframe with WKT formatted geometry\n",
    "no_lonlat_options = [\n",
    "    'Unknown',\n",
    "    'TBD'\n",
    "]\n",
    "\n",
    "# (1) copy, clean up\n",
    "to_convert_df = terms_df_orig.copy()\n",
    "to_convert_df = to_convert_df[~(to_convert_df['Latitude'].isin(no_lonlat_options)) |\n",
    "                             ~(to_convert_df['Longitude'].isin(no_lonlat_options))]\n",
    "\n",
    "# also keep the non-converted ones separate\n",
    "not_converted_df = terms_df_orig.copy()\n",
    "not_converted_df = not_converted_df[(not_converted_df['Longitude'].isin(no_lonlat_options)) | \n",
    "                                    (not_converted_df['Latitude'].isin(no_lonlat_options))]\n",
    "# add a dummy column so that the dimensions match with converted wkt pipelines\n",
    "not_converted_df.assign(ColName='geometry')\n",
    "not_converted_df['geometry'] = [shapely.geometry.Point()]*not_converted_df.shape[0]\n",
    "not_converted_df.reset_index(drop=True)\n",
    "not_converted_gdf = geopandas.GeoDataFrame(not_converted_df, geometry=not_converted_df['geometry'])\n",
    "\n",
    "# (2) convert all terminals\n",
    "terms_df_converted = to_convert_df.copy()\n",
    "terms_df_converted.assign(ColName='geometry')\n",
    "terms_df_converted['geometry'] = to_convert_df[['Longitude','Latitude']].apply(shapely.geometry.Point, axis=1)\n",
    "terms_df_converted = terms_df_converted.reset_index(drop=True)\n",
    "\n",
    "# # (3) store in a GeoDataFrame, attach a projection, transform to a different one\n",
    "terms_df_gdf = geopandas.GeoDataFrame(terms_df_converted, geometry=terms_df_converted['geometry'])\n",
    "terms_df_gdf = terms_df_gdf.set_crs('epsg:4326')\n",
    "terms_df_gdf_4087 = terms_df_gdf.to_crs('epsg:4087')\n",
    "\n",
    "terms_df_converted_locations = pandas.concat([terms_df_gdf, not_converted_gdf])\n",
    "terms_df_converted_locations = terms_df_converted_locations.reset_index(drop=True)\n",
    "terms_df_converted_locations.sort_values('ComboID', inplace=True)\n",
    "\n",
    "terms_gdf = geopandas.GeoDataFrame(terms_df_converted_locations, geometry=terms_df_converted_locations['geometry'])\n",
    "terms_gdf_region = terms_gdf.loc[terms_gdf['Country'].isin(region_df_touse.Country)]"
   ]
  },
  {
   "cell_type": "code",
   "execution_count": 7,
   "id": "7233a077-babd-4956-826d-449cd03c6575",
   "metadata": {},
   "outputs": [],
   "source": [
    "# ****************************************\n",
    "# figure functions\n",
    "# ****************************************\n",
    "\n",
    "def fig_capacity():\n",
    "\n",
    "    terms_df_capacity_sum = pandas.DataFrame(0, index=country_list, columns=['Pre-construction','Construction'])\n",
    "    terms_df_region = terms_df_orig[(terms_df_orig.Country.isin(region_df_touse.Country))&\n",
    "                                    (terms_df_orig.Status.isin(['Construction','Proposed']))&\n",
    "                                    (terms_df_orig.Facility.isin(['Import']))]\n",
    "\n",
    "    # proposed\n",
    "    terms_df_capacity_sum['Pre-construction'] += terms_df_region.loc[terms_df_region.Status=='Proposed'].groupby(\n",
    "        'Country')['CapacityInBcm/y'].sum()\n",
    "    # construction\n",
    "    terms_df_capacity_sum['Construction'] += terms_df_region.loc[terms_df_region.Status=='Construction'].groupby(\n",
    "        'Country')['CapacityInBcm/y'].sum()\n",
    "\n",
    "    terms_df_capacity_sum.replace(numpy.nan,0,inplace=True)\n",
    "\n",
    "    # reorder for descending values\n",
    "    country_order = terms_df_capacity_sum.sum(axis=1).sort_values(ascending=True).index\n",
    "    terms_df_capacity_sum = terms_df_capacity_sum.reindex(country_order)\n",
    "\n",
    "    # ****************************************\n",
    "\n",
    "    colorscale_touse = 'ylorbr'\n",
    "\n",
    "    bar_dark = px.colors.sample_colorscale(colorscale_touse, 0.9)\n",
    "    bar_light = px.colors.sample_colorscale(colorscale_touse, 0.6)\n",
    "\n",
    "    nbars = terms_df_capacity_sum.index.size\n",
    "\n",
    "    fig = px.bar(terms_df_capacity_sum[['Construction','Pre-construction']], \n",
    "                 color_discrete_sequence=bar_dark+bar_light, \n",
    "                 orientation='h', height=800,\n",
    "                 title='Capacity of planned LNG terminals')\n",
    "\n",
    "    fig.update_layout(\n",
    "        font_family='Helvetica',\n",
    "        font_color=px.colors.sample_colorscale('greys', 0.5)[0],\n",
    "        bargap=0.25,\n",
    "        plot_bgcolor='white',\n",
    "        paper_bgcolor='white',\n",
    "\n",
    "        yaxis_title='country',\n",
    "        xaxis_title='bcm/y',\n",
    "        xaxis={'side':'top'},\n",
    "        title_y=.97,\n",
    "        title_yanchor='top',\n",
    "\n",
    "        legend_title=None,\n",
    "        #legend=dict(yanchor=\"bottom\",y=0.01,xanchor=\"right\",x=0.99,bgcolor='rgba(0,0,0,0)'),\n",
    "        legend=dict(yanchor=\"top\",y=1,xanchor=\"left\",x=1.01,bgcolor='rgba(0,0,0,0)'),\n",
    "    )\n",
    "\n",
    "    fig.update_yaxes(\n",
    "        dtick=1\n",
    "    )\n",
    "\n",
    "    fig.update_xaxes(\n",
    "        gridcolor=px.colors.sample_colorscale('greys', 0.25)[0]\n",
    "    )\n",
    "    \n",
    "    return(fig)\n",
    "\n",
    "def fig_length():\n",
    "\n",
    "    pipes_df_length_sum = pandas.DataFrame(0, index=country_list, columns=['Pre-construction','Construction'])\n",
    "    country_ratios_df_region = country_ratios_df[(country_ratios_df.Country.isin(region_df_touse.Country))&\n",
    "                                                 (country_ratios_df.Status.isin(['Construction','Proposed']))]\n",
    "    \n",
    "    country_ratios_df_region = country_ratios_df[(country_ratios_df.Country.isin(region_df_touse.Country))&\n",
    "                                (country_ratios_df.Status.isin(['Construction','Proposed']))]\n",
    "    \n",
    "    # proposed\n",
    "    pipes_df_length_sum['Pre-construction'] += country_ratios_df_region.loc[country_ratios_df_region.Status=='Proposed'].groupby(\n",
    "        'Country')['MergedKmByCountry'].sum()\n",
    "    # construction\n",
    "    pipes_df_length_sum['Construction'] += country_ratios_df_region.loc[country_ratios_df_region.Status=='Construction'].groupby(\n",
    "        'Country')['MergedKmByCountry'].sum()\n",
    "\n",
    "    pipes_df_length_sum.replace(numpy.nan,0,inplace=True)\n",
    "\n",
    "    # reorder for descending values\n",
    "    country_order = pipes_df_length_sum.sum(axis=1).sort_values(ascending=True).index\n",
    "    pipes_df_length_sum = pipes_df_length_sum.reindex(country_order)\n",
    "\n",
    "    \n",
    "    # ****************************************\n",
    "\n",
    "    colorscale_touse = 'greens'\n",
    "\n",
    "    bar_dark = px.colors.sample_colorscale(colorscale_touse, 0.9)\n",
    "    bar_light = px.colors.sample_colorscale(colorscale_touse, 0.6)\n",
    "\n",
    "    nbars = pipes_df_length_sum.index.size\n",
    "\n",
    "    fig = px.bar(pipes_df_length_sum[['Construction','Pre-construction']], \n",
    "                 color_discrete_sequence=bar_dark+bar_light, \n",
    "                 orientation='h', height=800,\n",
    "                 title='Kilometers of planned gas pipelines')\n",
    "\n",
    "    fig.update_layout(\n",
    "        font_family='Helvetica',\n",
    "        font_color=px.colors.sample_colorscale('greys', 0.5)[0],\n",
    "        bargap=0.25, \n",
    "        plot_bgcolor='white',\n",
    "        paper_bgcolor='white',\n",
    "\n",
    "        yaxis_title='country',\n",
    "        xaxis_title='km',\n",
    "        xaxis={'side':'top'},\n",
    "        title_y=.97,\n",
    "        title_yanchor='top',\n",
    "\n",
    "        legend_title=None,\n",
    "        #legend=dict(yanchor=\"bottom\",y=0.01,xanchor=\"right\",x=0.99,bgcolor='rgba(0,0,0,0)'),\n",
    "        legend=dict(yanchor=\"top\",y=1,xanchor=\"left\",x=1.01,bgcolor='rgba(0,0,0,0)'),\n",
    "    )\n",
    "\n",
    "    fig.update_yaxes(\n",
    "        dtick=1\n",
    "    )\n",
    "\n",
    "    fig.update_xaxes(\n",
    "        gridcolor=px.colors.sample_colorscale('greys', 0.25)[0]\n",
    "    )\n",
    "    \n",
    "    return(fig)\n",
    "\n",
    "def fig_fid():\n",
    "    \n",
    "    terms_df_region = terms_df_orig[(terms_df_orig.Country.isin(region_df_touse.Country))&\n",
    "                                    (terms_df_orig.Status.isin(['Construction','Proposed']))&\n",
    "                                    (terms_df_orig.Facility.isin(['Import']))]\n",
    "    country_ratios_df_region = country_ratios_df[(country_ratios_df.Country.isin(region_df_touse.Country))&\n",
    "                                (country_ratios_df.Status.isin(['Construction','Proposed']))]\n",
    "\n",
    "    projects_df_fid_sum = pandas.DataFrame(0, index=country_list, columns=['Pipelines FID','Terminals FID','Pipelines pre-FID','Terminals pre-FID'])\n",
    "\n",
    "    # Pipelines\n",
    "    projects_df_fid_sum['Pipelines FID'] += country_ratios_df_region[country_ratios_df_region.FID.isin(['FID'])].groupby('Country')['LengthPerCountryFraction'].sum()\n",
    "    projects_df_fid_sum['Pipelines pre-FID'] += country_ratios_df_region[country_ratios_df_region.FID.isin(['Pre-FID'])].groupby('Country')['LengthPerCountryFraction'].sum()\n",
    "    # Terminals\n",
    "    projects_df_fid_sum['Terminals FID'] += terms_df_region.loc[terms_df_region.FID.isin(['FID'])].groupby('Country')['TerminalID'].count()\n",
    "    projects_df_fid_sum['Terminals pre-FID'] += terms_df_region.loc[terms_df_region.FID.isin(['Pre-FID'])].groupby('Country')['TerminalID'].count()\n",
    "\n",
    "    projects_df_fid_sum.replace(numpy.nan,0,inplace=True)\n",
    "\n",
    "    # reorder for descending values\n",
    "    country_order = projects_df_fid_sum.sum(axis=1).sort_values(ascending=True).index\n",
    "    projects_df_fid_sum = projects_df_fid_sum.reindex(country_order)\n",
    "\n",
    "    # ****************************************\n",
    "\n",
    "    colorscale_touse = 'blues'\n",
    "\n",
    "    bar_pipes_dark = px.colors.sample_colorscale(colorscale_touse, 0.9)\n",
    "    bar_pipes_light = px.colors.sample_colorscale(colorscale_touse, 0.7)\n",
    "    bar_terms_dark = px.colors.sample_colorscale(colorscale_touse, 0.5)\n",
    "    bar_terms_light = px.colors.sample_colorscale(colorscale_touse, 0.3)\n",
    "\n",
    "    nbars = projects_df_fid_sum.index.size\n",
    "\n",
    "    fig = px.bar(projects_df_fid_sum[['Pipelines FID','Pipelines pre-FID',\n",
    "                                      'Terminals FID', 'Terminals pre-FID']], \n",
    "                 color_discrete_sequence=bar_pipes_dark+bar_pipes_light+bar_terms_dark+bar_terms_light, \n",
    "                 orientation='h', height=800,\n",
    "                 title='Number of projects at FID or pre-FID')\n",
    "\n",
    "    note = '<i>Note when a pipeline passes through multiple countries, it is divided into fractions that sum to 1.</i>'\n",
    "    fig.add_annotation(x=0, y=-0.1,\n",
    "                       xref='x domain',\n",
    "                       yref='y domain',\n",
    "                       text=note,\n",
    "                       showarrow=False,\n",
    "                       font=dict(size=12))\n",
    "    \n",
    "    fig.update_layout(\n",
    "        font_family='Helvetica',\n",
    "        font_color=px.colors.sample_colorscale('greys', 0.5)[0],\n",
    "        bargap=0.25,\n",
    "        plot_bgcolor='white',\n",
    "        paper_bgcolor='white',\n",
    "\n",
    "        yaxis_title='country',\n",
    "        xaxis_title='number of projects',\n",
    "        xaxis={'side':'top'},\n",
    "        title_y=.97,\n",
    "        title_yanchor='top',\n",
    "\n",
    "        legend_title=None,\n",
    "        #legend=dict(yanchor=\"bottom\",y=0.01,xanchor=\"right\",x=0.99,bgcolor='rgba(0,0,0,0)'),\n",
    "        legend=dict(yanchor=\"top\",y=1,xanchor=\"left\",x=1.01,bgcolor='rgba(0,0,0,0)'),\n",
    "    )\n",
    "\n",
    "    fig.update_yaxes(\n",
    "        dtick=1\n",
    "    )\n",
    "\n",
    "    fig.update_xaxes(\n",
    "        gridcolor=px.colors.sample_colorscale('greys', 0.25)[0]\n",
    "    )\n",
    "\n",
    "    return(fig)"
   ]
  },
  {
   "cell_type": "markdown",
   "id": "0758d2e9-283b-485c-a885-fb7313175911",
   "metadata": {},
   "source": [
    "## update FID map with separate panels"
   ]
  },
  {
   "cell_type": "code",
   "execution_count": 11,
   "id": "5e58a1fd-4858-4a6e-b6c0-7114e9dc1461",
   "metadata": {},
   "outputs": [
    {
     "data": {
      "application/vnd.plotly.v1+json": {
       "config": {
        "plotlyServerURL": "https://plot.ly"
       },
       "data": [
        {
         "alignmentgroup": "True",
         "hovertemplate": "variable=Pipelines FID<br>value=%{x}<br>Country=%{y}<extra></extra>",
         "legendgroup": "Pipelines FID",
         "marker": {
          "color": "rgb(8, 74, 146)",
          "pattern": {
           "shape": ""
          }
         },
         "name": "Pipelines FID",
         "offsetgroup": "Pipelines FID",
         "orientation": "h",
         "showlegend": true,
         "textposition": "auto",
         "type": "bar",
         "x": [
          0,
          0,
          0.14,
          0.66,
          0.85,
          0,
          0,
          0,
          0,
          0,
          0,
          0.69,
          0,
          0,
          0,
          0.5,
          0,
          0,
          0,
          0,
          0,
          0.15,
          2,
          3,
          0,
          5.85,
          6.16
         ],
         "xaxis": "x",
         "y": [
          "Luxembourg",
          "Czech Republic",
          "Sweden",
          "Slovakia",
          "Lithuania",
          "Portugal",
          "Netherlands",
          "Austria",
          "Estonia",
          "Malta",
          "Hungary",
          "Denmark",
          "Finland",
          "Belgium",
          "Germany",
          "Latvia",
          "Cyprus",
          "France",
          "Spain",
          "Slovenia",
          "Ireland",
          "Greece",
          "Romania",
          "Italy",
          "Croatia",
          "Bulgaria",
          "Poland"
         ],
         "yaxis": "y"
        },
        {
         "alignmentgroup": "True",
         "hovertemplate": "variable=Pipelines pre-FID<br>value=%{x}<br>Country=%{y}<extra></extra>",
         "legendgroup": "Pipelines pre-FID",
         "marker": {
          "color": "rgb(46, 126, 188)",
          "pattern": {
           "shape": ""
          }
         },
         "name": "Pipelines pre-FID",
         "offsetgroup": "Pipelines pre-FID",
         "orientation": "h",
         "showlegend": true,
         "textposition": "auto",
         "type": "bar",
         "x": [
          0,
          0,
          0,
          0.02,
          0,
          1,
          0,
          1,
          0,
          0.44,
          1.65,
          0,
          0,
          0,
          0,
          1,
          1.99,
          0,
          1,
          4.17,
          1.5,
          3.75,
          5.33,
          5.95,
          8.03,
          5.04,
          8.41
         ],
         "xaxis": "x",
         "y": [
          "Luxembourg",
          "Czech Republic",
          "Sweden",
          "Slovakia",
          "Lithuania",
          "Portugal",
          "Netherlands",
          "Austria",
          "Estonia",
          "Malta",
          "Hungary",
          "Denmark",
          "Finland",
          "Belgium",
          "Germany",
          "Latvia",
          "Cyprus",
          "France",
          "Spain",
          "Slovenia",
          "Ireland",
          "Greece",
          "Romania",
          "Italy",
          "Croatia",
          "Bulgaria",
          "Poland"
         ],
         "yaxis": "y"
        },
        {
         "alignmentgroup": "True",
         "hovertemplate": "variable=Terminals FID<br>value=%{x}<br>Country=%{y}<extra></extra>",
         "legendgroup": "Terminals FID",
         "marker": {
          "color": "rgb(107, 174, 214)",
          "pattern": {
           "shape": ""
          }
         },
         "name": "Terminals FID",
         "offsetgroup": "Terminals FID",
         "orientation": "h",
         "showlegend": true,
         "textposition": "auto",
         "type": "bar",
         "x": [
          0,
          0,
          0,
          0,
          0,
          0,
          1,
          0,
          0,
          0,
          0,
          0,
          1,
          2,
          0,
          0,
          0,
          0,
          1,
          0,
          0,
          1,
          0,
          0,
          0,
          0,
          2
         ],
         "xaxis": "x",
         "y": [
          "Luxembourg",
          "Czech Republic",
          "Sweden",
          "Slovakia",
          "Lithuania",
          "Portugal",
          "Netherlands",
          "Austria",
          "Estonia",
          "Malta",
          "Hungary",
          "Denmark",
          "Finland",
          "Belgium",
          "Germany",
          "Latvia",
          "Cyprus",
          "France",
          "Spain",
          "Slovenia",
          "Ireland",
          "Greece",
          "Romania",
          "Italy",
          "Croatia",
          "Bulgaria",
          "Poland"
         ],
         "yaxis": "y"
        },
        {
         "alignmentgroup": "True",
         "hovertemplate": "variable=Terminals pre-FID<br>value=%{x}<br>Country=%{y}<extra></extra>",
         "legendgroup": "Terminals pre-FID",
         "marker": {
          "color": "rgb(182, 212, 233)",
          "pattern": {
           "shape": ""
          }
         },
         "name": "Terminals pre-FID",
         "offsetgroup": "Terminals pre-FID",
         "orientation": "h",
         "showlegend": true,
         "textposition": "auto",
         "type": "bar",
         "x": [
          0,
          0,
          0,
          0,
          0,
          0,
          0,
          0,
          1,
          1,
          0,
          1,
          1,
          0,
          2,
          1,
          1,
          3,
          2,
          0,
          4,
          1,
          1,
          0,
          1,
          0,
          1
         ],
         "xaxis": "x",
         "y": [
          "Luxembourg",
          "Czech Republic",
          "Sweden",
          "Slovakia",
          "Lithuania",
          "Portugal",
          "Netherlands",
          "Austria",
          "Estonia",
          "Malta",
          "Hungary",
          "Denmark",
          "Finland",
          "Belgium",
          "Germany",
          "Latvia",
          "Cyprus",
          "France",
          "Spain",
          "Slovenia",
          "Ireland",
          "Greece",
          "Romania",
          "Italy",
          "Croatia",
          "Bulgaria",
          "Poland"
         ],
         "yaxis": "y"
        }
       ],
       "layout": {
        "annotations": [
         {
          "font": {
           "size": 12
          },
          "showarrow": false,
          "text": "<i>Note when a pipeline passes through multiple countries, it is divided into fractions that sum to 1.</i>",
          "x": 0,
          "xref": "x domain",
          "y": -0.1,
          "yref": "y domain"
         }
        ],
        "autosize": true,
        "bargap": 0.25,
        "barmode": "relative",
        "font": {
         "color": "rgb(150, 150, 150)",
         "family": "Helvetica"
        },
        "legend": {
         "bgcolor": "rgba(0, 0, 0, 0)",
         "title": {},
         "tracegroupgap": 0,
         "x": 1.01,
         "xanchor": "left",
         "y": 1,
         "yanchor": "top"
        },
        "paper_bgcolor": "white",
        "plot_bgcolor": "white",
        "template": {
         "data": {
          "bar": [
           {
            "error_x": {
             "color": "#2a3f5f"
            },
            "error_y": {
             "color": "#2a3f5f"
            },
            "marker": {
             "line": {
              "color": "#E5ECF6",
              "width": 0.5
             },
             "pattern": {
              "fillmode": "overlay",
              "size": 10,
              "solidity": 0.2
             }
            },
            "type": "bar"
           }
          ],
          "barpolar": [
           {
            "marker": {
             "line": {
              "color": "#E5ECF6",
              "width": 0.5
             },
             "pattern": {
              "fillmode": "overlay",
              "size": 10,
              "solidity": 0.2
             }
            },
            "type": "barpolar"
           }
          ],
          "carpet": [
           {
            "aaxis": {
             "endlinecolor": "#2a3f5f",
             "gridcolor": "white",
             "linecolor": "white",
             "minorgridcolor": "white",
             "startlinecolor": "#2a3f5f"
            },
            "baxis": {
             "endlinecolor": "#2a3f5f",
             "gridcolor": "white",
             "linecolor": "white",
             "minorgridcolor": "white",
             "startlinecolor": "#2a3f5f"
            },
            "type": "carpet"
           }
          ],
          "choropleth": [
           {
            "colorbar": {
             "outlinewidth": 0,
             "ticks": ""
            },
            "type": "choropleth"
           }
          ],
          "contour": [
           {
            "colorbar": {
             "outlinewidth": 0,
             "ticks": ""
            },
            "colorscale": [
             [
              0,
              "#0d0887"
             ],
             [
              0.1111111111111111,
              "#46039f"
             ],
             [
              0.2222222222222222,
              "#7201a8"
             ],
             [
              0.3333333333333333,
              "#9c179e"
             ],
             [
              0.4444444444444444,
              "#bd3786"
             ],
             [
              0.5555555555555556,
              "#d8576b"
             ],
             [
              0.6666666666666666,
              "#ed7953"
             ],
             [
              0.7777777777777778,
              "#fb9f3a"
             ],
             [
              0.8888888888888888,
              "#fdca26"
             ],
             [
              1,
              "#f0f921"
             ]
            ],
            "type": "contour"
           }
          ],
          "contourcarpet": [
           {
            "colorbar": {
             "outlinewidth": 0,
             "ticks": ""
            },
            "type": "contourcarpet"
           }
          ],
          "heatmap": [
           {
            "colorbar": {
             "outlinewidth": 0,
             "ticks": ""
            },
            "colorscale": [
             [
              0,
              "#0d0887"
             ],
             [
              0.1111111111111111,
              "#46039f"
             ],
             [
              0.2222222222222222,
              "#7201a8"
             ],
             [
              0.3333333333333333,
              "#9c179e"
             ],
             [
              0.4444444444444444,
              "#bd3786"
             ],
             [
              0.5555555555555556,
              "#d8576b"
             ],
             [
              0.6666666666666666,
              "#ed7953"
             ],
             [
              0.7777777777777778,
              "#fb9f3a"
             ],
             [
              0.8888888888888888,
              "#fdca26"
             ],
             [
              1,
              "#f0f921"
             ]
            ],
            "type": "heatmap"
           }
          ],
          "heatmapgl": [
           {
            "colorbar": {
             "outlinewidth": 0,
             "ticks": ""
            },
            "colorscale": [
             [
              0,
              "#0d0887"
             ],
             [
              0.1111111111111111,
              "#46039f"
             ],
             [
              0.2222222222222222,
              "#7201a8"
             ],
             [
              0.3333333333333333,
              "#9c179e"
             ],
             [
              0.4444444444444444,
              "#bd3786"
             ],
             [
              0.5555555555555556,
              "#d8576b"
             ],
             [
              0.6666666666666666,
              "#ed7953"
             ],
             [
              0.7777777777777778,
              "#fb9f3a"
             ],
             [
              0.8888888888888888,
              "#fdca26"
             ],
             [
              1,
              "#f0f921"
             ]
            ],
            "type": "heatmapgl"
           }
          ],
          "histogram": [
           {
            "marker": {
             "pattern": {
              "fillmode": "overlay",
              "size": 10,
              "solidity": 0.2
             }
            },
            "type": "histogram"
           }
          ],
          "histogram2d": [
           {
            "colorbar": {
             "outlinewidth": 0,
             "ticks": ""
            },
            "colorscale": [
             [
              0,
              "#0d0887"
             ],
             [
              0.1111111111111111,
              "#46039f"
             ],
             [
              0.2222222222222222,
              "#7201a8"
             ],
             [
              0.3333333333333333,
              "#9c179e"
             ],
             [
              0.4444444444444444,
              "#bd3786"
             ],
             [
              0.5555555555555556,
              "#d8576b"
             ],
             [
              0.6666666666666666,
              "#ed7953"
             ],
             [
              0.7777777777777778,
              "#fb9f3a"
             ],
             [
              0.8888888888888888,
              "#fdca26"
             ],
             [
              1,
              "#f0f921"
             ]
            ],
            "type": "histogram2d"
           }
          ],
          "histogram2dcontour": [
           {
            "colorbar": {
             "outlinewidth": 0,
             "ticks": ""
            },
            "colorscale": [
             [
              0,
              "#0d0887"
             ],
             [
              0.1111111111111111,
              "#46039f"
             ],
             [
              0.2222222222222222,
              "#7201a8"
             ],
             [
              0.3333333333333333,
              "#9c179e"
             ],
             [
              0.4444444444444444,
              "#bd3786"
             ],
             [
              0.5555555555555556,
              "#d8576b"
             ],
             [
              0.6666666666666666,
              "#ed7953"
             ],
             [
              0.7777777777777778,
              "#fb9f3a"
             ],
             [
              0.8888888888888888,
              "#fdca26"
             ],
             [
              1,
              "#f0f921"
             ]
            ],
            "type": "histogram2dcontour"
           }
          ],
          "mesh3d": [
           {
            "colorbar": {
             "outlinewidth": 0,
             "ticks": ""
            },
            "type": "mesh3d"
           }
          ],
          "parcoords": [
           {
            "line": {
             "colorbar": {
              "outlinewidth": 0,
              "ticks": ""
             }
            },
            "type": "parcoords"
           }
          ],
          "pie": [
           {
            "automargin": true,
            "type": "pie"
           }
          ],
          "scatter": [
           {
            "marker": {
             "colorbar": {
              "outlinewidth": 0,
              "ticks": ""
             }
            },
            "type": "scatter"
           }
          ],
          "scatter3d": [
           {
            "line": {
             "colorbar": {
              "outlinewidth": 0,
              "ticks": ""
             }
            },
            "marker": {
             "colorbar": {
              "outlinewidth": 0,
              "ticks": ""
             }
            },
            "type": "scatter3d"
           }
          ],
          "scattercarpet": [
           {
            "marker": {
             "colorbar": {
              "outlinewidth": 0,
              "ticks": ""
             }
            },
            "type": "scattercarpet"
           }
          ],
          "scattergeo": [
           {
            "marker": {
             "colorbar": {
              "outlinewidth": 0,
              "ticks": ""
             }
            },
            "type": "scattergeo"
           }
          ],
          "scattergl": [
           {
            "marker": {
             "colorbar": {
              "outlinewidth": 0,
              "ticks": ""
             }
            },
            "type": "scattergl"
           }
          ],
          "scattermapbox": [
           {
            "marker": {
             "colorbar": {
              "outlinewidth": 0,
              "ticks": ""
             }
            },
            "type": "scattermapbox"
           }
          ],
          "scatterpolar": [
           {
            "marker": {
             "colorbar": {
              "outlinewidth": 0,
              "ticks": ""
             }
            },
            "type": "scatterpolar"
           }
          ],
          "scatterpolargl": [
           {
            "marker": {
             "colorbar": {
              "outlinewidth": 0,
              "ticks": ""
             }
            },
            "type": "scatterpolargl"
           }
          ],
          "scatterternary": [
           {
            "marker": {
             "colorbar": {
              "outlinewidth": 0,
              "ticks": ""
             }
            },
            "type": "scatterternary"
           }
          ],
          "surface": [
           {
            "colorbar": {
             "outlinewidth": 0,
             "ticks": ""
            },
            "colorscale": [
             [
              0,
              "#0d0887"
             ],
             [
              0.1111111111111111,
              "#46039f"
             ],
             [
              0.2222222222222222,
              "#7201a8"
             ],
             [
              0.3333333333333333,
              "#9c179e"
             ],
             [
              0.4444444444444444,
              "#bd3786"
             ],
             [
              0.5555555555555556,
              "#d8576b"
             ],
             [
              0.6666666666666666,
              "#ed7953"
             ],
             [
              0.7777777777777778,
              "#fb9f3a"
             ],
             [
              0.8888888888888888,
              "#fdca26"
             ],
             [
              1,
              "#f0f921"
             ]
            ],
            "type": "surface"
           }
          ],
          "table": [
           {
            "cells": {
             "fill": {
              "color": "#EBF0F8"
             },
             "line": {
              "color": "white"
             }
            },
            "header": {
             "fill": {
              "color": "#C8D4E3"
             },
             "line": {
              "color": "white"
             }
            },
            "type": "table"
           }
          ]
         },
         "layout": {
          "annotationdefaults": {
           "arrowcolor": "#2a3f5f",
           "arrowhead": 0,
           "arrowwidth": 1
          },
          "autotypenumbers": "strict",
          "coloraxis": {
           "colorbar": {
            "outlinewidth": 0,
            "ticks": ""
           }
          },
          "colorscale": {
           "diverging": [
            [
             0,
             "#8e0152"
            ],
            [
             0.1,
             "#c51b7d"
            ],
            [
             0.2,
             "#de77ae"
            ],
            [
             0.3,
             "#f1b6da"
            ],
            [
             0.4,
             "#fde0ef"
            ],
            [
             0.5,
             "#f7f7f7"
            ],
            [
             0.6,
             "#e6f5d0"
            ],
            [
             0.7,
             "#b8e186"
            ],
            [
             0.8,
             "#7fbc41"
            ],
            [
             0.9,
             "#4d9221"
            ],
            [
             1,
             "#276419"
            ]
           ],
           "sequential": [
            [
             0,
             "#0d0887"
            ],
            [
             0.1111111111111111,
             "#46039f"
            ],
            [
             0.2222222222222222,
             "#7201a8"
            ],
            [
             0.3333333333333333,
             "#9c179e"
            ],
            [
             0.4444444444444444,
             "#bd3786"
            ],
            [
             0.5555555555555556,
             "#d8576b"
            ],
            [
             0.6666666666666666,
             "#ed7953"
            ],
            [
             0.7777777777777778,
             "#fb9f3a"
            ],
            [
             0.8888888888888888,
             "#fdca26"
            ],
            [
             1,
             "#f0f921"
            ]
           ],
           "sequentialminus": [
            [
             0,
             "#0d0887"
            ],
            [
             0.1111111111111111,
             "#46039f"
            ],
            [
             0.2222222222222222,
             "#7201a8"
            ],
            [
             0.3333333333333333,
             "#9c179e"
            ],
            [
             0.4444444444444444,
             "#bd3786"
            ],
            [
             0.5555555555555556,
             "#d8576b"
            ],
            [
             0.6666666666666666,
             "#ed7953"
            ],
            [
             0.7777777777777778,
             "#fb9f3a"
            ],
            [
             0.8888888888888888,
             "#fdca26"
            ],
            [
             1,
             "#f0f921"
            ]
           ]
          },
          "colorway": [
           "#636efa",
           "#EF553B",
           "#00cc96",
           "#ab63fa",
           "#FFA15A",
           "#19d3f3",
           "#FF6692",
           "#B6E880",
           "#FF97FF",
           "#FECB52"
          ],
          "font": {
           "color": "#2a3f5f"
          },
          "geo": {
           "bgcolor": "white",
           "lakecolor": "white",
           "landcolor": "#E5ECF6",
           "showlakes": true,
           "showland": true,
           "subunitcolor": "white"
          },
          "hoverlabel": {
           "align": "left"
          },
          "hovermode": "closest",
          "mapbox": {
           "style": "light"
          },
          "paper_bgcolor": "white",
          "plot_bgcolor": "#E5ECF6",
          "polar": {
           "angularaxis": {
            "gridcolor": "white",
            "linecolor": "white",
            "ticks": ""
           },
           "bgcolor": "#E5ECF6",
           "radialaxis": {
            "gridcolor": "white",
            "linecolor": "white",
            "ticks": ""
           }
          },
          "scene": {
           "xaxis": {
            "backgroundcolor": "#E5ECF6",
            "gridcolor": "white",
            "gridwidth": 2,
            "linecolor": "white",
            "showbackground": true,
            "ticks": "",
            "zerolinecolor": "white"
           },
           "yaxis": {
            "backgroundcolor": "#E5ECF6",
            "gridcolor": "white",
            "gridwidth": 2,
            "linecolor": "white",
            "showbackground": true,
            "ticks": "",
            "zerolinecolor": "white"
           },
           "zaxis": {
            "backgroundcolor": "#E5ECF6",
            "gridcolor": "white",
            "gridwidth": 2,
            "linecolor": "white",
            "showbackground": true,
            "ticks": "",
            "zerolinecolor": "white"
           }
          },
          "shapedefaults": {
           "line": {
            "color": "#2a3f5f"
           }
          },
          "ternary": {
           "aaxis": {
            "gridcolor": "white",
            "linecolor": "white",
            "ticks": ""
           },
           "baxis": {
            "gridcolor": "white",
            "linecolor": "white",
            "ticks": ""
           },
           "bgcolor": "#E5ECF6",
           "caxis": {
            "gridcolor": "white",
            "linecolor": "white",
            "ticks": ""
           }
          },
          "title": {
           "x": 0.05
          },
          "xaxis": {
           "automargin": true,
           "gridcolor": "white",
           "linecolor": "white",
           "ticks": "",
           "title": {
            "standoff": 15
           },
           "zerolinecolor": "white",
           "zerolinewidth": 2
          },
          "yaxis": {
           "automargin": true,
           "gridcolor": "white",
           "linecolor": "white",
           "ticks": "",
           "title": {
            "standoff": 15
           },
           "zerolinecolor": "white",
           "zerolinewidth": 2
          }
         }
        },
        "title": {
         "text": "Number of projects at FID or pre-FID",
         "y": 0.97,
         "yanchor": "top"
        },
        "xaxis": {
         "anchor": "y",
         "autorange": true,
         "domain": [
          0,
          1
         ],
         "gridcolor": "rgb(217, 217, 217)",
         "range": [
          0,
          18.494736842105265
         ],
         "side": "top",
         "title": {
          "text": "number of projects"
         },
         "type": "linear"
        },
        "yaxis": {
         "anchor": "x",
         "autorange": true,
         "domain": [
          0,
          1
         ],
         "dtick": 1,
         "range": [
          -0.5,
          26.5
         ],
         "title": {
          "text": "country"
         },
         "type": "category"
        }
       }
      },
      "image/png": "[encoded data removed]",
      "text/html": [
       "<div>                            <div id=\"d3aa45cb-7114-40d3-90f1-057c1606a947\" class=\"plotly-graph-div\" style=\"height:800px; width:100%;\"></div>            <script type=\"text/javascript\">                require([\"plotly\"], function(Plotly) {                    window.PLOTLYENV=window.PLOTLYENV || {};                                    if (document.getElementById(\"d3aa45cb-7114-40d3-90f1-057c1606a947\")) {                    Plotly.newPlot(                        \"d3aa45cb-7114-40d3-90f1-057c1606a947\",                        [{\"alignmentgroup\":\"True\",\"hovertemplate\":\"variable=Pipelines FID<br>value=%{x}<br>Country=%{y}<extra></extra>\",\"legendgroup\":\"Pipelines FID\",\"marker\":{\"color\":\"rgb(8, 74, 146)\",\"pattern\":{\"shape\":\"\"}},\"name\":\"Pipelines FID\",\"offsetgroup\":\"Pipelines FID\",\"orientation\":\"h\",\"showlegend\":true,\"textposition\":\"auto\",\"x\":[0.0,0.0,0.14,0.66,0.85,0.0,0.0,0.0,0.0,0.0,0.0,0.69,0.0,0.0,0.0,0.5,0.0,0.0,0.0,0.0,0.0,0.15,2.0,3.0,0.0,5.85,6.16],\"xaxis\":\"x\",\"y\":[\"Luxembourg\",\"Czech Republic\",\"Sweden\",\"Slovakia\",\"Lithuania\",\"Portugal\",\"Netherlands\",\"Austria\",\"Estonia\",\"Malta\",\"Hungary\",\"Denmark\",\"Finland\",\"Belgium\",\"Germany\",\"Latvia\",\"Cyprus\",\"France\",\"Spain\",\"Slovenia\",\"Ireland\",\"Greece\",\"Romania\",\"Italy\",\"Croatia\",\"Bulgaria\",\"Poland\"],\"yaxis\":\"y\",\"type\":\"bar\"},{\"alignmentgroup\":\"True\",\"hovertemplate\":\"variable=Pipelines pre-FID<br>value=%{x}<br>Country=%{y}<extra></extra>\",\"legendgroup\":\"Pipelines pre-FID\",\"marker\":{\"color\":\"rgb(46, 126, 188)\",\"pattern\":{\"shape\":\"\"}},\"name\":\"Pipelines pre-FID\",\"offsetgroup\":\"Pipelines pre-FID\",\"orientation\":\"h\",\"showlegend\":true,\"textposition\":\"auto\",\"x\":[0.0,0.0,0.0,0.02,0.0,1.0,0.0,1.0,0.0,0.44,1.65,0.0,0.0,0.0,0.0,1.0,1.99,0.0,1.0,4.17,1.5,3.75,5.33,5.95,8.03,5.04,8.41],\"xaxis\":\"x\",\"y\":[\"Luxembourg\",\"Czech Republic\",\"Sweden\",\"Slovakia\",\"Lithuania\",\"Portugal\",\"Netherlands\",\"Austria\",\"Estonia\",\"Malta\",\"Hungary\",\"Denmark\",\"Finland\",\"Belgium\",\"Germany\",\"Latvia\",\"Cyprus\",\"France\",\"Spain\",\"Slovenia\",\"Ireland\",\"Greece\",\"Romania\",\"Italy\",\"Croatia\",\"Bulgaria\",\"Poland\"],\"yaxis\":\"y\",\"type\":\"bar\"},{\"alignmentgroup\":\"True\",\"hovertemplate\":\"variable=Terminals FID<br>value=%{x}<br>Country=%{y}<extra></extra>\",\"legendgroup\":\"Terminals FID\",\"marker\":{\"color\":\"rgb(107, 174, 214)\",\"pattern\":{\"shape\":\"\"}},\"name\":\"Terminals FID\",\"offsetgroup\":\"Terminals FID\",\"orientation\":\"h\",\"showlegend\":true,\"textposition\":\"auto\",\"x\":[0.0,0.0,0.0,0.0,0.0,0.0,1.0,0.0,0.0,0.0,0.0,0.0,1.0,2.0,0.0,0.0,0.0,0.0,1.0,0.0,0.0,1.0,0.0,0.0,0.0,0.0,2.0],\"xaxis\":\"x\",\"y\":[\"Luxembourg\",\"Czech Republic\",\"Sweden\",\"Slovakia\",\"Lithuania\",\"Portugal\",\"Netherlands\",\"Austria\",\"Estonia\",\"Malta\",\"Hungary\",\"Denmark\",\"Finland\",\"Belgium\",\"Germany\",\"Latvia\",\"Cyprus\",\"France\",\"Spain\",\"Slovenia\",\"Ireland\",\"Greece\",\"Romania\",\"Italy\",\"Croatia\",\"Bulgaria\",\"Poland\"],\"yaxis\":\"y\",\"type\":\"bar\"},{\"alignmentgroup\":\"True\",\"hovertemplate\":\"variable=Terminals pre-FID<br>value=%{x}<br>Country=%{y}<extra></extra>\",\"legendgroup\":\"Terminals pre-FID\",\"marker\":{\"color\":\"rgb(182, 212, 233)\",\"pattern\":{\"shape\":\"\"}},\"name\":\"Terminals pre-FID\",\"offsetgroup\":\"Terminals pre-FID\",\"orientation\":\"h\",\"showlegend\":true,\"textposition\":\"auto\",\"x\":[0.0,0.0,0.0,0.0,0.0,0.0,0.0,0.0,1.0,1.0,0.0,1.0,1.0,0.0,2.0,1.0,1.0,3.0,2.0,0.0,4.0,1.0,1.0,0.0,1.0,0.0,1.0],\"xaxis\":\"x\",\"y\":[\"Luxembourg\",\"Czech Republic\",\"Sweden\",\"Slovakia\",\"Lithuania\",\"Portugal\",\"Netherlands\",\"Austria\",\"Estonia\",\"Malta\",\"Hungary\",\"Denmark\",\"Finland\",\"Belgium\",\"Germany\",\"Latvia\",\"Cyprus\",\"France\",\"Spain\",\"Slovenia\",\"Ireland\",\"Greece\",\"Romania\",\"Italy\",\"Croatia\",\"Bulgaria\",\"Poland\"],\"yaxis\":\"y\",\"type\":\"bar\"}],                        {\"template\":{\"data\":{\"bar\":[{\"error_x\":{\"color\":\"#2a3f5f\"},\"error_y\":{\"color\":\"#2a3f5f\"},\"marker\":{\"line\":{\"color\":\"#E5ECF6\",\"width\":0.5},\"pattern\":{\"fillmode\":\"overlay\",\"size\":10,\"solidity\":0.2}},\"type\":\"bar\"}],\"barpolar\":[{\"marker\":{\"line\":{\"color\":\"#E5ECF6\",\"width\":0.5},\"pattern\":{\"fillmode\":\"overlay\",\"size\":10,\"solidity\":0.2}},\"type\":\"barpolar\"}],\"carpet\":[{\"aaxis\":{\"endlinecolor\":\"#2a3f5f\",\"gridcolor\":\"white\",\"linecolor\":\"white\",\"minorgridcolor\":\"white\",\"startlinecolor\":\"#2a3f5f\"},\"baxis\":{\"endlinecolor\":\"#2a3f5f\",\"gridcolor\":\"white\",\"linecolor\":\"white\",\"minorgridcolor\":\"white\",\"startlinecolor\":\"#2a3f5f\"},\"type\":\"carpet\"}],\"choropleth\":[{\"colorbar\":{\"outlinewidth\":0,\"ticks\":\"\"},\"type\":\"choropleth\"}],\"contour\":[{\"colorbar\":{\"outlinewidth\":0,\"ticks\":\"\"},\"colorscale\":[[0.0,\"#0d0887\"],[0.1111111111111111,\"#46039f\"],[0.2222222222222222,\"#7201a8\"],[0.3333333333333333,\"#9c179e\"],[0.4444444444444444,\"#bd3786\"],[0.5555555555555556,\"#d8576b\"],[0.6666666666666666,\"#ed7953\"],[0.7777777777777778,\"#fb9f3a\"],[0.8888888888888888,\"#fdca26\"],[1.0,\"#f0f921\"]],\"type\":\"contour\"}],\"contourcarpet\":[{\"colorbar\":{\"outlinewidth\":0,\"ticks\":\"\"},\"type\":\"contourcarpet\"}],\"heatmap\":[{\"colorbar\":{\"outlinewidth\":0,\"ticks\":\"\"},\"colorscale\":[[0.0,\"#0d0887\"],[0.1111111111111111,\"#46039f\"],[0.2222222222222222,\"#7201a8\"],[0.3333333333333333,\"#9c179e\"],[0.4444444444444444,\"#bd3786\"],[0.5555555555555556,\"#d8576b\"],[0.6666666666666666,\"#ed7953\"],[0.7777777777777778,\"#fb9f3a\"],[0.8888888888888888,\"#fdca26\"],[1.0,\"#f0f921\"]],\"type\":\"heatmap\"}],\"heatmapgl\":[{\"colorbar\":{\"outlinewidth\":0,\"ticks\":\"\"},\"colorscale\":[[0.0,\"#0d0887\"],[0.1111111111111111,\"#46039f\"],[0.2222222222222222,\"#7201a8\"],[0.3333333333333333,\"#9c179e\"],[0.4444444444444444,\"#bd3786\"],[0.5555555555555556,\"#d8576b\"],[0.6666666666666666,\"#ed7953\"],[0.7777777777777778,\"#fb9f3a\"],[0.8888888888888888,\"#fdca26\"],[1.0,\"#f0f921\"]],\"type\":\"heatmapgl\"}],\"histogram\":[{\"marker\":{\"pattern\":{\"fillmode\":\"overlay\",\"size\":10,\"solidity\":0.2}},\"type\":\"histogram\"}],\"histogram2d\":[{\"colorbar\":{\"outlinewidth\":0,\"ticks\":\"\"},\"colorscale\":[[0.0,\"#0d0887\"],[0.1111111111111111,\"#46039f\"],[0.2222222222222222,\"#7201a8\"],[0.3333333333333333,\"#9c179e\"],[0.4444444444444444,\"#bd3786\"],[0.5555555555555556,\"#d8576b\"],[0.6666666666666666,\"#ed7953\"],[0.7777777777777778,\"#fb9f3a\"],[0.8888888888888888,\"#fdca26\"],[1.0,\"#f0f921\"]],\"type\":\"histogram2d\"}],\"histogram2dcontour\":[{\"colorbar\":{\"outlinewidth\":0,\"ticks\":\"\"},\"colorscale\":[[0.0,\"#0d0887\"],[0.1111111111111111,\"#46039f\"],[0.2222222222222222,\"#7201a8\"],[0.3333333333333333,\"#9c179e\"],[0.4444444444444444,\"#bd3786\"],[0.5555555555555556,\"#d8576b\"],[0.6666666666666666,\"#ed7953\"],[0.7777777777777778,\"#fb9f3a\"],[0.8888888888888888,\"#fdca26\"],[1.0,\"#f0f921\"]],\"type\":\"histogram2dcontour\"}],\"mesh3d\":[{\"colorbar\":{\"outlinewidth\":0,\"ticks\":\"\"},\"type\":\"mesh3d\"}],\"parcoords\":[{\"line\":{\"colorbar\":{\"outlinewidth\":0,\"ticks\":\"\"}},\"type\":\"parcoords\"}],\"pie\":[{\"automargin\":true,\"type\":\"pie\"}],\"scatter\":[{\"marker\":{\"colorbar\":{\"outlinewidth\":0,\"ticks\":\"\"}},\"type\":\"scatter\"}],\"scatter3d\":[{\"line\":{\"colorbar\":{\"outlinewidth\":0,\"ticks\":\"\"}},\"marker\":{\"colorbar\":{\"outlinewidth\":0,\"ticks\":\"\"}},\"type\":\"scatter3d\"}],\"scattercarpet\":[{\"marker\":{\"colorbar\":{\"outlinewidth\":0,\"ticks\":\"\"}},\"type\":\"scattercarpet\"}],\"scattergeo\":[{\"marker\":{\"colorbar\":{\"outlinewidth\":0,\"ticks\":\"\"}},\"type\":\"scattergeo\"}],\"scattergl\":[{\"marker\":{\"colorbar\":{\"outlinewidth\":0,\"ticks\":\"\"}},\"type\":\"scattergl\"}],\"scattermapbox\":[{\"marker\":{\"colorbar\":{\"outlinewidth\":0,\"ticks\":\"\"}},\"type\":\"scattermapbox\"}],\"scatterpolar\":[{\"marker\":{\"colorbar\":{\"outlinewidth\":0,\"ticks\":\"\"}},\"type\":\"scatterpolar\"}],\"scatterpolargl\":[{\"marker\":{\"colorbar\":{\"outlinewidth\":0,\"ticks\":\"\"}},\"type\":\"scatterpolargl\"}],\"scatterternary\":[{\"marker\":{\"colorbar\":{\"outlinewidth\":0,\"ticks\":\"\"}},\"type\":\"scatterternary\"}],\"surface\":[{\"colorbar\":{\"outlinewidth\":0,\"ticks\":\"\"},\"colorscale\":[[0.0,\"#0d0887\"],[0.1111111111111111,\"#46039f\"],[0.2222222222222222,\"#7201a8\"],[0.3333333333333333,\"#9c179e\"],[0.4444444444444444,\"#bd3786\"],[0.5555555555555556,\"#d8576b\"],[0.6666666666666666,\"#ed7953\"],[0.7777777777777778,\"#fb9f3a\"],[0.8888888888888888,\"#fdca26\"],[1.0,\"#f0f921\"]],\"type\":\"surface\"}],\"table\":[{\"cells\":{\"fill\":{\"color\":\"#EBF0F8\"},\"line\":{\"color\":\"white\"}},\"header\":{\"fill\":{\"color\":\"#C8D4E3\"},\"line\":{\"color\":\"white\"}},\"type\":\"table\"}]},\"layout\":{\"annotationdefaults\":{\"arrowcolor\":\"#2a3f5f\",\"arrowhead\":0,\"arrowwidth\":1},\"autotypenumbers\":\"strict\",\"coloraxis\":{\"colorbar\":{\"outlinewidth\":0,\"ticks\":\"\"}},\"colorscale\":{\"diverging\":[[0,\"#8e0152\"],[0.1,\"#c51b7d\"],[0.2,\"#de77ae\"],[0.3,\"#f1b6da\"],[0.4,\"#fde0ef\"],[0.5,\"#f7f7f7\"],[0.6,\"#e6f5d0\"],[0.7,\"#b8e186\"],[0.8,\"#7fbc41\"],[0.9,\"#4d9221\"],[1,\"#276419\"]],\"sequential\":[[0.0,\"#0d0887\"],[0.1111111111111111,\"#46039f\"],[0.2222222222222222,\"#7201a8\"],[0.3333333333333333,\"#9c179e\"],[0.4444444444444444,\"#bd3786\"],[0.5555555555555556,\"#d8576b\"],[0.6666666666666666,\"#ed7953\"],[0.7777777777777778,\"#fb9f3a\"],[0.8888888888888888,\"#fdca26\"],[1.0,\"#f0f921\"]],\"sequentialminus\":[[0.0,\"#0d0887\"],[0.1111111111111111,\"#46039f\"],[0.2222222222222222,\"#7201a8\"],[0.3333333333333333,\"#9c179e\"],[0.4444444444444444,\"#bd3786\"],[0.5555555555555556,\"#d8576b\"],[0.6666666666666666,\"#ed7953\"],[0.7777777777777778,\"#fb9f3a\"],[0.8888888888888888,\"#fdca26\"],[1.0,\"#f0f921\"]]},\"colorway\":[\"#636efa\",\"#EF553B\",\"#00cc96\",\"#ab63fa\",\"#FFA15A\",\"#19d3f3\",\"#FF6692\",\"#B6E880\",\"#FF97FF\",\"#FECB52\"],\"font\":{\"color\":\"#2a3f5f\"},\"geo\":{\"bgcolor\":\"white\",\"lakecolor\":\"white\",\"landcolor\":\"#E5ECF6\",\"showlakes\":true,\"showland\":true,\"subunitcolor\":\"white\"},\"hoverlabel\":{\"align\":\"left\"},\"hovermode\":\"closest\",\"mapbox\":{\"style\":\"light\"},\"paper_bgcolor\":\"white\",\"plot_bgcolor\":\"#E5ECF6\",\"polar\":{\"angularaxis\":{\"gridcolor\":\"white\",\"linecolor\":\"white\",\"ticks\":\"\"},\"bgcolor\":\"#E5ECF6\",\"radialaxis\":{\"gridcolor\":\"white\",\"linecolor\":\"white\",\"ticks\":\"\"}},\"scene\":{\"xaxis\":{\"backgroundcolor\":\"#E5ECF6\",\"gridcolor\":\"white\",\"gridwidth\":2,\"linecolor\":\"white\",\"showbackground\":true,\"ticks\":\"\",\"zerolinecolor\":\"white\"},\"yaxis\":{\"backgroundcolor\":\"#E5ECF6\",\"gridcolor\":\"white\",\"gridwidth\":2,\"linecolor\":\"white\",\"showbackground\":true,\"ticks\":\"\",\"zerolinecolor\":\"white\"},\"zaxis\":{\"backgroundcolor\":\"#E5ECF6\",\"gridcolor\":\"white\",\"gridwidth\":2,\"linecolor\":\"white\",\"showbackground\":true,\"ticks\":\"\",\"zerolinecolor\":\"white\"}},\"shapedefaults\":{\"line\":{\"color\":\"#2a3f5f\"}},\"ternary\":{\"aaxis\":{\"gridcolor\":\"white\",\"linecolor\":\"white\",\"ticks\":\"\"},\"baxis\":{\"gridcolor\":\"white\",\"linecolor\":\"white\",\"ticks\":\"\"},\"bgcolor\":\"#E5ECF6\",\"caxis\":{\"gridcolor\":\"white\",\"linecolor\":\"white\",\"ticks\":\"\"}},\"title\":{\"x\":0.05},\"xaxis\":{\"automargin\":true,\"gridcolor\":\"white\",\"linecolor\":\"white\",\"ticks\":\"\",\"title\":{\"standoff\":15},\"zerolinecolor\":\"white\",\"zerolinewidth\":2},\"yaxis\":{\"automargin\":true,\"gridcolor\":\"white\",\"linecolor\":\"white\",\"ticks\":\"\",\"title\":{\"standoff\":15},\"zerolinecolor\":\"white\",\"zerolinewidth\":2}}},\"xaxis\":{\"anchor\":\"y\",\"domain\":[0.0,1.0],\"title\":{\"text\":\"number of projects\"},\"side\":\"top\",\"gridcolor\":\"rgb(217, 217, 217)\"},\"yaxis\":{\"anchor\":\"x\",\"domain\":[0.0,1.0],\"title\":{\"text\":\"country\"},\"dtick\":1},\"legend\":{\"title\":{},\"tracegroupgap\":0,\"yanchor\":\"top\",\"y\":1,\"xanchor\":\"left\",\"x\":1.01,\"bgcolor\":\"rgba(0,0,0,0)\"},\"title\":{\"text\":\"Number of projects at FID or pre-FID\",\"y\":0.97,\"yanchor\":\"top\"},\"barmode\":\"relative\",\"height\":800,\"annotations\":[{\"font\":{\"size\":12},\"showarrow\":false,\"text\":\"<i>Note when a pipeline passes through multiple countries, it is divided into fractions that sum to 1.</i>\",\"x\":0,\"xref\":\"x domain\",\"y\":-0.1,\"yref\":\"y domain\"}],\"font\":{\"family\":\"Helvetica\",\"color\":\"rgb(150, 150, 150)\"},\"bargap\":0.25,\"plot_bgcolor\":\"white\",\"paper_bgcolor\":\"white\"},                        {\"responsive\": true}                    ).then(function(){\n",
       "                            \n",
       "var gd = document.getElementById('d3aa45cb-7114-40d3-90f1-057c1606a947');\n",
       "var x = new MutationObserver(function (mutations, observer) {{\n",
       "        var display = window.getComputedStyle(gd).display;\n",
       "        if (!display || display === 'none') {{\n",
       "            console.log([gd, 'removed!']);\n",
       "            Plotly.purge(gd);\n",
       "            observer.disconnect();\n",
       "        }}\n",
       "}});\n",
       "\n",
       "// Listen for the removal of the full notebook cells\n",
       "var notebookContainer = gd.closest('#notebook-container');\n",
       "if (notebookContainer) {{\n",
       "    x.observe(notebookContainer, {childList: true});\n",
       "}}\n",
       "\n",
       "// Listen for the clearing of the current output cell\n",
       "var outputEl = gd.closest('.output');\n",
       "if (outputEl) {{\n",
       "    x.observe(outputEl, {childList: true});\n",
       "}}\n",
       "\n",
       "                        })                };                });            </script>        </div>"
      ]
     },
     "metadata": {},
     "output_type": "display_data"
    }
   ],
   "source": [
    "terms_df_region = terms_df_orig[(terms_df_orig.Country.isin(region_df_touse.Country))&\n",
    "                                (terms_df_orig.Status.isin(['Construction','Proposed']))&\n",
    "                                (terms_df_orig.Facility.isin(['Import']))]\n",
    "country_ratios_df_region = country_ratios_df[(country_ratios_df.Country.isin(region_df_touse.Country))&\n",
    "                            (country_ratios_df.Status.isin(['Construction','Proposed']))]\n",
    "\n",
    "projects_df_fid_sum = pandas.DataFrame(0, index=country_list, columns=['Pipelines FID','Terminals FID','Pipelines pre-FID','Terminals pre-FID'])\n",
    "\n",
    "# Pipelines\n",
    "projects_df_fid_sum['Pipelines FID'] += country_ratios_df_region[country_ratios_df_region.FID.isin(['FID'])].groupby('Country')['LengthPerCountryFraction'].sum()\n",
    "projects_df_fid_sum['Pipelines pre-FID'] += country_ratios_df_region[country_ratios_df_region.FID.isin(['Pre-FID'])].groupby('Country')['LengthPerCountryFraction'].sum()\n",
    "# Terminals\n",
    "projects_df_fid_sum['Terminals FID'] += terms_df_region.loc[terms_df_region.FID.isin(['FID'])].groupby('Country')['TerminalID'].count()\n",
    "projects_df_fid_sum['Terminals pre-FID'] += terms_df_region.loc[terms_df_region.FID.isin(['Pre-FID'])].groupby('Country')['TerminalID'].count()\n",
    "\n",
    "projects_df_fid_sum.replace(numpy.nan,0,inplace=True)\n",
    "\n",
    "# reorder for descending values\n",
    "country_order = projects_df_fid_sum.sum(axis=1).sort_values(ascending=True).index\n",
    "projects_df_fid_sum = projects_df_fid_sum.reindex(country_order)\n",
    "\n",
    "# ****************************************\n",
    "\n",
    "colorscale_touse = 'blues'\n",
    "\n",
    "bar_pipes_dark = px.colors.sample_colorscale(colorscale_touse, 0.9)\n",
    "bar_pipes_light = px.colors.sample_colorscale(colorscale_touse, 0.7)\n",
    "bar_terms_dark = px.colors.sample_colorscale(colorscale_touse, 0.5)\n",
    "bar_terms_light = px.colors.sample_colorscale(colorscale_touse, 0.3)\n",
    "\n",
    "nbars = projects_df_fid_sum.index.size\n",
    "\n",
    "fig = px.bar(projects_df_fid_sum[['Pipelines FID','Pipelines pre-FID',\n",
    "                                  'Terminals FID', 'Terminals pre-FID']], \n",
    "             color_discrete_sequence=bar_pipes_dark+bar_pipes_light+bar_terms_dark+bar_terms_light, \n",
    "             orientation='h', height=800,\n",
    "             title='Number of projects at FID or pre-FID')\n",
    "\n",
    "note = '<i>Note when a pipeline passes through multiple countries, it is divided into fractions that sum to 1.</i>'\n",
    "fig.add_annotation(x=0, y=-0.1,\n",
    "                   xref='x domain',\n",
    "                   yref='y domain',\n",
    "                   text=note,\n",
    "                   showarrow=False,\n",
    "                   font=dict(size=12))\n",
    "\n",
    "fig.update_layout(\n",
    "    font_family='Helvetica',\n",
    "    font_color=px.colors.sample_colorscale('greys', 0.5)[0],\n",
    "    bargap=0.25,\n",
    "    plot_bgcolor='white',\n",
    "    paper_bgcolor='white',\n",
    "\n",
    "    yaxis_title='country',\n",
    "    xaxis_title='number of projects',\n",
    "    xaxis={'side':'top'},\n",
    "    title_y=.97,\n",
    "    title_yanchor='top',\n",
    "\n",
    "    legend_title=None,\n",
    "    #legend=dict(yanchor=\"bottom\",y=0.01,xanchor=\"right\",x=0.99,bgcolor='rgba(0,0,0,0)'),\n",
    "    legend=dict(yanchor=\"top\",y=1,xanchor=\"left\",x=1.01,bgcolor='rgba(0,0,0,0)'),\n",
    ")\n",
    "\n",
    "fig.update_yaxes(\n",
    "    dtick=1\n",
    ")\n",
    "\n",
    "fig.update_xaxes(\n",
    "    gridcolor=px.colors.sample_colorscale('greys', 0.25)[0]\n",
    ")\n",
    "\n",
    "dash.dcc.Checklist(\n",
    "    id='fid-checklist',\n",
    "    options=[\n",
    "        {'label':'Pipelines FID', 'value':'Pipelines FID'},\n",
    "        {'label':'Pipelines pre-FID', 'value':'Pipelines pre-FID'},\n",
    "        {'label':'Terminals FID', 'value':'Terminals FID'},\n",
    "        {'label':'Terminals pre-FID', 'value':'Terminals pre-FID'},\n",
    "    ],\n",
    "    value=[],\n",
    "    labelStyle={'display':'inline-block'}\n",
    ")\n",
    "\n",
    "fig.show()"
   ]
  },
  {
   "cell_type": "code",
   "execution_count": null,
   "id": "5ce7f649-1c16-4c2a-a61f-a00e224ba6f4",
   "metadata": {},
   "outputs": [],
   "source": []
  },
  {
   "cell_type": "code",
   "execution_count": null,
   "id": "58c764bb-df69-42ec-b35f-5a3c61507785",
   "metadata": {},
   "outputs": [],
   "source": []
  },
  {
   "cell_type": "code",
   "execution_count": null,
   "id": "b43a7978-d1f0-44f2-95ac-10b041ef891d",
   "metadata": {},
   "outputs": [],
   "source": []
  },
  {
   "cell_type": "markdown",
   "id": "baac979a-6d04-4edf-90ef-1c26ec771f1b",
   "metadata": {},
   "source": [
    "## plotly map for capacity"
   ]
  },
  {
   "cell_type": "code",
   "execution_count": 358,
   "id": "580afd9d-642a-4aa6-bd26-67cd737595f9",
   "metadata": {},
   "outputs": [],
   "source": [
    "def fig_capacity():\n",
    "\n",
    "    terms_df_capacity_sum = pandas.DataFrame(0, index=country_list, columns=['Pre-construction','Construction'])\n",
    "    terms_df_region = terms_df_orig[(terms_df_orig.Country.isin(region_df_touse.Country))&\n",
    "                                    (terms_df_orig.Status.isin(['Construction','Proposed']))&\n",
    "                                    (terms_df_orig.Facility.isin(['Import']))]\n",
    "\n",
    "    # proposed\n",
    "    terms_df_capacity_sum['Pre-construction'] += terms_df_region.loc[terms_df_region.Status=='Proposed'].groupby(\n",
    "        'Country')['CapacityInBcm/y'].sum()\n",
    "    # construction\n",
    "    terms_df_capacity_sum['Construction'] += terms_df_region.loc[terms_df_region.Status=='Construction'].groupby(\n",
    "        'Country')['CapacityInBcm/y'].sum()\n",
    "\n",
    "    terms_df_capacity_sum.replace(numpy.nan,0,inplace=True)\n",
    "\n",
    "    # reorder for descending values\n",
    "    country_order = terms_df_capacity_sum.sum(axis=1).sort_values(ascending=True).index\n",
    "    terms_df_capacity_sum = terms_df_capacity_sum.reindex(country_order)\n",
    "\n",
    "    # ****************************************\n",
    "\n",
    "    colorscale_touse = 'ylorbr'\n",
    "\n",
    "    bar_dark = px.colors.sample_colorscale(colorscale_touse, 0.9)\n",
    "    bar_light = px.colors.sample_colorscale(colorscale_touse, 0.6)\n",
    "\n",
    "    nbars = terms_df_capacity_sum.index.size\n",
    "\n",
    "    fig = px.bar(terms_df_capacity_sum[['Construction','Pre-construction']], \n",
    "                 color_discrete_sequence=bar_dark+bar_light, \n",
    "                 orientation='h', height=800,\n",
    "                 title='Capacity of planned LNG terminals')\n",
    "\n",
    "    fig.update_layout(\n",
    "        font_family='Helvetica',\n",
    "        font_color=px.colors.sample_colorscale('greys', 0.5)[0],\n",
    "        bargap=0.25,\n",
    "        plot_bgcolor='white',\n",
    "        paper_bgcolor='white',\n",
    "\n",
    "        yaxis_title='country',\n",
    "        xaxis_title='bcm/y',\n",
    "        xaxis={'side':'top'},\n",
    "        title_y=.97,\n",
    "        title_yanchor='top',\n",
    "\n",
    "        legend_title=None,\n",
    "        #legend=dict(yanchor=\"bottom\",y=0.01,xanchor=\"right\",x=0.99,bgcolor='rgba(0,0,0,0)'),\n",
    "        legend=dict(yanchor=\"top\",y=1,xanchor=\"left\",x=1.01,bgcolor='rgba(0,0,0,0)'),\n",
    "    )\n",
    "\n",
    "    fig.update_yaxes(\n",
    "        dtick=1\n",
    "    )\n",
    "\n",
    "    fig.update_xaxes(\n",
    "        gridcolor=px.colors.sample_colorscale('greys', 0.25)[0]\n",
    "    )\n",
    "    \n",
    "    return(fig)\n",
    "\n",
    "def fig_capacity_map():\n",
    "\n",
    "    terms_df_capacity_sum = pandas.DataFrame(0, index=country_list, columns=['Pre-construction','Construction'])\n",
    "    terms_df_region = terms_df_orig[(terms_df_orig.Country.isin(region_df_touse.Country))&\n",
    "                                    (terms_df_orig.Status.isin(['Construction','Proposed']))&\n",
    "                                    (terms_df_orig.Facility.isin(['Import']))]\n",
    "\n",
    "    # proposed\n",
    "    terms_df_capacity_sum['Pre-construction'] += terms_df_region.loc[terms_df_region.Status=='Proposed'].groupby(\n",
    "        'Country')['CapacityInBcm/y'].sum()\n",
    "    # construction\n",
    "    terms_df_capacity_sum['Construction'] += terms_df_region.loc[terms_df_region.Status=='Construction'].groupby(\n",
    "        'Country')['CapacityInBcm/y'].sum()\n",
    "\n",
    "    terms_df_capacity_sum.replace(numpy.nan,0,inplace=True)\n",
    "\n",
    "    # create cloropleth info\n",
    "    terms_df_capacity_sum['Capacity'] = terms_df_capacity_sum.sum(axis=1)\n",
    "\n",
    "    # add ISO Code for interaction with nat earth data\n",
    "    terms_df_capacity_sum['ISOCode'] = ''\n",
    "    for idx,row in terms_df_capacity_sum.iterrows():\n",
    "        terms_df_capacity_sum.loc[idx,'ISOCode'] = region_df_orig.loc[region_df_orig['Country']==row.name,'ISOCode'].values\n",
    "\n",
    "    # reorder for descending values\n",
    "    country_order = terms_df_capacity_sum.sum(axis=1).sort_values(ascending=True).index\n",
    "    terms_df_capacity_sum = terms_df_capacity_sum.reindex(country_order)\n",
    "\n",
    "    fig = px.choropleth(terms_df_capacity_sum, \n",
    "                        locations=terms_df_capacity_sum['ISOCode'],\n",
    "                        color='Capacity', color_continuous_scale=px.colors.sequential.Oranges)\n",
    "\n",
    "    fig.update_geos(\n",
    "        resolution=50,\n",
    "        showcoastlines=False,\n",
    "        #showcountries=True,\n",
    "        #coastlinecolor=px.colors.sample_colorscale('greys', 0.9)[0],\n",
    "        landcolor=px.colors.sample_colorscale('greys', 1e-5)[0],\n",
    "\n",
    "        showocean=True,\n",
    "        oceancolor=px.colors.sample_colorscale('blues', 0.05)[0],\n",
    "\n",
    "        projection_type='azimuthal equal area',\n",
    "        center=dict(lat=50, lon=7),\n",
    "        projection_rotation=dict(lon=30),\n",
    "        projection_scale=5.5)\n",
    "    \n",
    "    return(fig)"
   ]
  },
  {
   "cell_type": "code",
   "execution_count": 386,
   "id": "d04697eb-b128-40a5-b3fb-aa50a694a523",
   "metadata": {},
   "outputs": [
    {
     "name": "stderr",
     "output_type": "stream",
     "text": [
      "/var/folders/h5/nfk59_vx7gg_58myc9jfk7_40000gn/T/ipykernel_28733/68811383.py:26: FutureWarning:\n",
      "\n",
      "Dropping of nuisance columns in DataFrame reductions (with 'numeric_only=None') is deprecated; in a future version this will raise TypeError.  Select only valid columns before calling the reduction.\n",
      "\n"
     ]
    },
    {
     "ename": "ValueError",
     "evalue": "Invalid property specified for object of type plotly.graph_objs.Layout: 'colorbar'\n\nDid you mean \"colorway\"?\n\n    Valid properties:\n        activeshape\n            :class:`plotly.graph_objects.layout.Activeshape`\n            instance or dict with compatible properties\n        annotations\n            A tuple of\n            :class:`plotly.graph_objects.layout.Annotation`\n            instances or dicts with compatible properties\n        annotationdefaults\n            When used in a template (as\n            layout.template.layout.annotationdefaults), sets the\n            default property values to use for elements of\n            layout.annotations\n        autosize\n            Determines whether or not a layout width or height that\n            has been left undefined by the user is initialized on\n            each relayout. Note that, regardless of this attribute,\n            an undefined layout width or height is always\n            initialized on the first call to plot.\n        autotypenumbers\n            Using \"strict\" a numeric string in trace data is not\n            converted to a number. Using *convert types* a numeric\n            string in trace data may be treated as a number during\n            automatic axis `type` detection. This is the default\n            value; however it could be overridden for individual\n            axes.\n        bargap\n            Sets the gap (in plot fraction) between bars of\n            adjacent location coordinates.\n        bargroupgap\n            Sets the gap (in plot fraction) between bars of the\n            same location coordinate.\n        barmode\n            Determines how bars at the same location coordinate are\n            displayed on the graph. With \"stack\", the bars are\n            stacked on top of one another With \"relative\", the bars\n            are stacked on top of one another, with negative values\n            below the axis, positive values above With \"group\", the\n            bars are plotted next to one another centered around\n            the shared location. With \"overlay\", the bars are\n            plotted over one another, you might need to an\n            \"opacity\" to see multiple bars.\n        barnorm\n            Sets the normalization for bar traces on the graph.\n            With \"fraction\", the value of each bar is divided by\n            the sum of all values at that location coordinate.\n            \"percent\" is the same but multiplied by 100 to show\n            percentages.\n        boxgap\n            Sets the gap (in plot fraction) between boxes of\n            adjacent location coordinates. Has no effect on traces\n            that have \"width\" set.\n        boxgroupgap\n            Sets the gap (in plot fraction) between boxes of the\n            same location coordinate. Has no effect on traces that\n            have \"width\" set.\n        boxmode\n            Determines how boxes at the same location coordinate\n            are displayed on the graph. If \"group\", the boxes are\n            plotted next to one another centered around the shared\n            location. If \"overlay\", the boxes are plotted over one\n            another, you might need to set \"opacity\" to see them\n            multiple boxes. Has no effect on traces that have\n            \"width\" set.\n        calendar\n            Sets the default calendar system to use for\n            interpreting and displaying dates throughout the plot.\n        clickmode\n            Determines the mode of single click interactions.\n            \"event\" is the default value and emits the\n            `plotly_click` event. In addition this mode emits the\n            `plotly_selected` event in drag modes \"lasso\" and\n            \"select\", but with no event data attached (kept for\n            compatibility reasons). The \"select\" flag enables\n            selecting single data points via click. This mode also\n            supports persistent selections, meaning that pressing\n            Shift while clicking, adds to / subtracts from an\n            existing selection. \"select\" with `hovermode`: \"x\" can\n            be confusing, consider explicitly setting `hovermode`:\n            \"closest\" when using this feature. Selection events are\n            sent accordingly as long as \"event\" flag is set as\n            well. When the \"event\" flag is missing, `plotly_click`\n            and `plotly_selected` events are not fired.\n        coloraxis\n            :class:`plotly.graph_objects.layout.Coloraxis` instance\n            or dict with compatible properties\n        colorscale\n            :class:`plotly.graph_objects.layout.Colorscale`\n            instance or dict with compatible properties\n        colorway\n            Sets the default trace colors.\n        computed\n            Placeholder for exporting automargin-impacting values\n            namely `margin.t`, `margin.b`, `margin.l` and\n            `margin.r` in \"full-json\" mode.\n        datarevision\n            If provided, a changed value tells `Plotly.react` that\n            one or more data arrays has changed. This way you can\n            modify arrays in-place rather than making a complete\n            new copy for an incremental change. If NOT provided,\n            `Plotly.react` assumes that data arrays are being\n            treated as immutable, thus any data array with a\n            different identity from its predecessor contains new\n            data.\n        dragmode\n            Determines the mode of drag interactions. \"select\" and\n            \"lasso\" apply only to scatter traces with markers or\n            text. \"orbit\" and \"turntable\" apply only to 3D scenes.\n        editrevision\n            Controls persistence of user-driven changes in\n            `editable: true` configuration, other than trace names\n            and axis titles. Defaults to `layout.uirevision`.\n        extendfunnelareacolors\n            If `true`, the funnelarea slice colors (whether given\n            by `funnelareacolorway` or inherited from `colorway`)\n            will be extended to three times its original length by\n            first repeating every color 20% lighter then each color\n            20% darker. This is intended to reduce the likelihood\n            of reusing the same color when you have many slices,\n            but you can set `false` to disable. Colors provided in\n            the trace, using `marker.colors`, are never extended.\n        extendiciclecolors\n            If `true`, the icicle slice colors (whether given by\n            `iciclecolorway` or inherited from `colorway`) will be\n            extended to three times its original length by first\n            repeating every color 20% lighter then each color 20%\n            darker. This is intended to reduce the likelihood of\n            reusing the same color when you have many slices, but\n            you can set `false` to disable. Colors provided in the\n            trace, using `marker.colors`, are never extended.\n        extendpiecolors\n            If `true`, the pie slice colors (whether given by\n            `piecolorway` or inherited from `colorway`) will be\n            extended to three times its original length by first\n            repeating every color 20% lighter then each color 20%\n            darker. This is intended to reduce the likelihood of\n            reusing the same color when you have many slices, but\n            you can set `false` to disable. Colors provided in the\n            trace, using `marker.colors`, are never extended.\n        extendsunburstcolors\n            If `true`, the sunburst slice colors (whether given by\n            `sunburstcolorway` or inherited from `colorway`) will\n            be extended to three times its original length by first\n            repeating every color 20% lighter then each color 20%\n            darker. This is intended to reduce the likelihood of\n            reusing the same color when you have many slices, but\n            you can set `false` to disable. Colors provided in the\n            trace, using `marker.colors`, are never extended.\n        extendtreemapcolors\n            If `true`, the treemap slice colors (whether given by\n            `treemapcolorway` or inherited from `colorway`) will be\n            extended to three times its original length by first\n            repeating every color 20% lighter then each color 20%\n            darker. This is intended to reduce the likelihood of\n            reusing the same color when you have many slices, but\n            you can set `false` to disable. Colors provided in the\n            trace, using `marker.colors`, are never extended.\n        font\n            Sets the global font. Note that fonts used in traces\n            and other layout components inherit from the global\n            font.\n        funnelareacolorway\n            Sets the default funnelarea slice colors. Defaults to\n            the main `colorway` used for trace colors. If you\n            specify a new list here it can still be extended with\n            lighter and darker colors, see\n            `extendfunnelareacolors`.\n        funnelgap\n            Sets the gap (in plot fraction) between bars of\n            adjacent location coordinates.\n        funnelgroupgap\n            Sets the gap (in plot fraction) between bars of the\n            same location coordinate.\n        funnelmode\n            Determines how bars at the same location coordinate are\n            displayed on the graph. With \"stack\", the bars are\n            stacked on top of one another With \"group\", the bars\n            are plotted next to one another centered around the\n            shared location. With \"overlay\", the bars are plotted\n            over one another, you might need to an \"opacity\" to see\n            multiple bars.\n        geo\n            :class:`plotly.graph_objects.layout.Geo` instance or\n            dict with compatible properties\n        grid\n            :class:`plotly.graph_objects.layout.Grid` instance or\n            dict with compatible properties\n        height\n            Sets the plot's height (in px).\n        hiddenlabels\n            hiddenlabels is the funnelarea & pie chart analog of\n            visible:'legendonly' but it can contain many labels,\n            and can simultaneously hide slices from several\n            pies/funnelarea charts\n        hiddenlabelssrc\n            Sets the source reference on Chart Studio Cloud for\n            `hiddenlabels`.\n        hidesources\n            Determines whether or not a text link citing the data\n            source is placed at the bottom-right cored of the\n            figure. Has only an effect only on graphs that have\n            been generated via forked graphs from the Chart Studio\n            Cloud (at https://chart-studio.plotly.com or on-\n            premise).\n        hoverdistance\n            Sets the default distance (in pixels) to look for data\n            to add hover labels (-1 means no cutoff, 0 means no\n            looking for data). This is only a real distance for\n            hovering on point-like objects, like scatter points.\n            For area-like objects (bars, scatter fills, etc)\n            hovering is on inside the area and off outside, but\n            these objects will not supersede hover on point-like\n            objects in case of conflict.\n        hoverlabel\n            :class:`plotly.graph_objects.layout.Hoverlabel`\n            instance or dict with compatible properties\n        hovermode\n            Determines the mode of hover interactions. If\n            \"closest\", a single hoverlabel will appear for the\n            \"closest\" point within the `hoverdistance`. If \"x\" (or\n            \"y\"), multiple hoverlabels will appear for multiple\n            points at the \"closest\" x- (or y-) coordinate within\n            the `hoverdistance`, with the caveat that no more than\n            one hoverlabel will appear per trace. If *x unified*\n            (or *y unified*), a single hoverlabel will appear\n            multiple points at the closest x- (or y-) coordinate\n            within the `hoverdistance` with the caveat that no more\n            than one hoverlabel will appear per trace. In this\n            mode, spikelines are enabled by default perpendicular\n            to the specified axis. If false, hover interactions are\n            disabled.\n        iciclecolorway\n            Sets the default icicle slice colors. Defaults to the\n            main `colorway` used for trace colors. If you specify a\n            new list here it can still be extended with lighter and\n            darker colors, see `extendiciclecolors`.\n        images\n            A tuple of :class:`plotly.graph_objects.layout.Image`\n            instances or dicts with compatible properties\n        imagedefaults\n            When used in a template (as\n            layout.template.layout.imagedefaults), sets the default\n            property values to use for elements of layout.images\n        legend\n            :class:`plotly.graph_objects.layout.Legend` instance or\n            dict with compatible properties\n        mapbox\n            :class:`plotly.graph_objects.layout.Mapbox` instance or\n            dict with compatible properties\n        margin\n            :class:`plotly.graph_objects.layout.Margin` instance or\n            dict with compatible properties\n        meta\n            Assigns extra meta information that can be used in\n            various `text` attributes. Attributes such as the\n            graph, axis and colorbar `title.text`, annotation\n            `text` `trace.name` in legend items, `rangeselector`,\n            `updatemenus` and `sliders` `label` text all support\n            `meta`. One can access `meta` fields using template\n            strings: `%{meta[i]}` where `i` is the index of the\n            `meta` item in question. `meta` can also be an object\n            for example `{key: value}` which can be accessed\n            %{meta[key]}.\n        metasrc\n            Sets the source reference on Chart Studio Cloud for\n            `meta`.\n        modebar\n            :class:`plotly.graph_objects.layout.Modebar` instance\n            or dict with compatible properties\n        newshape\n            :class:`plotly.graph_objects.layout.Newshape` instance\n            or dict with compatible properties\n        paper_bgcolor\n            Sets the background color of the paper where the graph\n            is drawn.\n        piecolorway\n            Sets the default pie slice colors. Defaults to the main\n            `colorway` used for trace colors. If you specify a new\n            list here it can still be extended with lighter and\n            darker colors, see `extendpiecolors`.\n        plot_bgcolor\n            Sets the background color of the plotting area in-\n            between x and y axes.\n        polar\n            :class:`plotly.graph_objects.layout.Polar` instance or\n            dict with compatible properties\n        scene\n            :class:`plotly.graph_objects.layout.Scene` instance or\n            dict with compatible properties\n        selectdirection\n            When `dragmode` is set to \"select\", this limits the\n            selection of the drag to horizontal, vertical or\n            diagonal. \"h\" only allows horizontal selection, \"v\"\n            only vertical, \"d\" only diagonal and \"any\" sets no\n            limit.\n        selectionrevision\n            Controls persistence of user-driven changes in selected\n            points from all traces.\n        separators\n            Sets the decimal and thousand separators. For example,\n            *. * puts a '.' before decimals and a space between\n            thousands. In English locales, dflt is \".,\" but other\n            locales may alter this default.\n        shapes\n            A tuple of :class:`plotly.graph_objects.layout.Shape`\n            instances or dicts with compatible properties\n        shapedefaults\n            When used in a template (as\n            layout.template.layout.shapedefaults), sets the default\n            property values to use for elements of layout.shapes\n        showlegend\n            Determines whether or not a legend is drawn. Default is\n            `true` if there is a trace to show and any of these: a)\n            Two or more traces would by default be shown in the\n            legend. b) One pie trace is shown in the legend. c) One\n            trace is explicitly given with `showlegend: true`.\n        sliders\n            A tuple of :class:`plotly.graph_objects.layout.Slider`\n            instances or dicts with compatible properties\n        sliderdefaults\n            When used in a template (as\n            layout.template.layout.sliderdefaults), sets the\n            default property values to use for elements of\n            layout.sliders\n        smith\n            :class:`plotly.graph_objects.layout.Smith` instance or\n            dict with compatible properties\n        spikedistance\n            Sets the default distance (in pixels) to look for data\n            to draw spikelines to (-1 means no cutoff, 0 means no\n            looking for data). As with hoverdistance, distance does\n            not apply to area-like objects. In addition, some\n            objects can be hovered on but will not generate\n            spikelines, such as scatter fills.\n        sunburstcolorway\n            Sets the default sunburst slice colors. Defaults to the\n            main `colorway` used for trace colors. If you specify a\n            new list here it can still be extended with lighter and\n            darker colors, see `extendsunburstcolors`.\n        template\n            Default attributes to be applied to the plot. This\n            should be a dict with format: `{'layout':\n            layoutTemplate, 'data': {trace_type: [traceTemplate,\n            ...], ...}}` where `layoutTemplate` is a dict matching\n            the structure of `figure.layout` and `traceTemplate` is\n            a dict matching the structure of the trace with type\n            `trace_type` (e.g. 'scatter'). Alternatively, this may\n            be specified as an instance of\n            plotly.graph_objs.layout.Template.  Trace templates are\n            applied cyclically to traces of each type. Container\n            arrays (eg `annotations`) have special handling: An\n            object ending in `defaults` (eg `annotationdefaults`)\n            is applied to each array item. But if an item has a\n            `templateitemname` key we look in the template array\n            for an item with matching `name` and apply that\n            instead. If no matching `name` is found we mark the\n            item invisible. Any named template item not referenced\n            is appended to the end of the array, so this can be\n            used to add a watermark annotation or a logo image, for\n            example. To omit one of these items on the plot, make\n            an item with matching `templateitemname` and `visible:\n            false`.\n        ternary\n            :class:`plotly.graph_objects.layout.Ternary` instance\n            or dict with compatible properties\n        title\n            :class:`plotly.graph_objects.layout.Title` instance or\n            dict with compatible properties\n        titlefont\n            Deprecated: Please use layout.title.font instead. Sets\n            the title font. Note that the title's font used to be\n            customized by the now deprecated `titlefont` attribute.\n        transition\n            Sets transition options used during Plotly.react\n            updates.\n        treemapcolorway\n            Sets the default treemap slice colors. Defaults to the\n            main `colorway` used for trace colors. If you specify a\n            new list here it can still be extended with lighter and\n            darker colors, see `extendtreemapcolors`.\n        uirevision\n            Used to allow user interactions with the plot to\n            persist after `Plotly.react` calls that are unaware of\n            these interactions. If `uirevision` is omitted, or if\n            it is given and it changed from the previous\n            `Plotly.react` call, the exact new figure is used. If\n            `uirevision` is truthy and did NOT change, any\n            attribute that has been affected by user interactions\n            and did not receive a different value in the new figure\n            will keep the interaction value. `layout.uirevision`\n            attribute serves as the default for `uirevision`\n            attributes in various sub-containers. For finer control\n            you can set these sub-attributes directly. For example,\n            if your app separately controls the data on the x and y\n            axes you might set `xaxis.uirevision=*time*` and\n            `yaxis.uirevision=*cost*`. Then if only the y data is\n            changed, you can update `yaxis.uirevision=*quantity*`\n            and the y axis range will reset but the x axis range\n            will retain any user-driven zoom.\n        uniformtext\n            :class:`plotly.graph_objects.layout.Uniformtext`\n            instance or dict with compatible properties\n        updatemenus\n            A tuple of\n            :class:`plotly.graph_objects.layout.Updatemenu`\n            instances or dicts with compatible properties\n        updatemenudefaults\n            When used in a template (as\n            layout.template.layout.updatemenudefaults), sets the\n            default property values to use for elements of\n            layout.updatemenus\n        violingap\n            Sets the gap (in plot fraction) between violins of\n            adjacent location coordinates. Has no effect on traces\n            that have \"width\" set.\n        violingroupgap\n            Sets the gap (in plot fraction) between violins of the\n            same location coordinate. Has no effect on traces that\n            have \"width\" set.\n        violinmode\n            Determines how violins at the same location coordinate\n            are displayed on the graph. If \"group\", the violins are\n            plotted next to one another centered around the shared\n            location. If \"overlay\", the violins are plotted over\n            one another, you might need to set \"opacity\" to see\n            them multiple violins. Has no effect on traces that\n            have \"width\" set.\n        waterfallgap\n            Sets the gap (in plot fraction) between bars of\n            adjacent location coordinates.\n        waterfallgroupgap\n            Sets the gap (in plot fraction) between bars of the\n            same location coordinate.\n        waterfallmode\n            Determines how bars at the same location coordinate are\n            displayed on the graph. With \"group\", the bars are\n            plotted next to one another centered around the shared\n            location. With \"overlay\", the bars are plotted over one\n            another, you might need to an \"opacity\" to see multiple\n            bars.\n        width\n            Sets the plot's width (in px).\n        xaxis\n            :class:`plotly.graph_objects.layout.XAxis` instance or\n            dict with compatible properties\n        yaxis\n            :class:`plotly.graph_objects.layout.YAxis` instance or\n            dict with compatible properties\n        \nDid you mean \"colorway\"?\n\nBad property path:\ncolorbar_thickness\n^^^^^^^^",
     "output_type": "error",
     "traceback": [
      "\u001b[0;31m---------------------------------------------------------------------------\u001b[0m",
      "\u001b[0;31mValueError\u001b[0m                                Traceback (most recent call last)",
      "Input \u001b[0;32mIn [386]\u001b[0m, in \u001b[0;36m<module>\u001b[0;34m\u001b[0m\n\u001b[1;32m     67\u001b[0m         \u001b[38;5;66;03m#colorbar_thickness=10,\u001b[39;00m\n\u001b[1;32m     68\u001b[0m         \u001b[38;5;66;03m#colorbar_thicknessmode='fraction',\u001b[39;00m\n\u001b[1;32m     69\u001b[0m         \u001b[38;5;66;03m#selector=dict(type='choropleth'))\u001b[39;00m\n\u001b[1;32m     71\u001b[0m     \u001b[38;5;28;01mreturn\u001b[39;00m(fig)\n\u001b[0;32m---> 73\u001b[0m fig \u001b[38;5;241m=\u001b[39m \u001b[43mfig_capacity_map\u001b[49m\u001b[43m(\u001b[49m\u001b[43m)\u001b[49m\n\u001b[1;32m     74\u001b[0m fig\u001b[38;5;241m.\u001b[39mshow()\n",
      "Input \u001b[0;32mIn [386]\u001b[0m, in \u001b[0;36mfig_capacity_map\u001b[0;34m()\u001b[0m\n\u001b[1;32m     29\u001b[0m fig \u001b[38;5;241m=\u001b[39m px\u001b[38;5;241m.\u001b[39mchoropleth(terms_df_capacity_sum, \n\u001b[1;32m     30\u001b[0m                     locations\u001b[38;5;241m=\u001b[39mterms_df_capacity_sum[\u001b[38;5;124m'\u001b[39m\u001b[38;5;124mISOCode\u001b[39m\u001b[38;5;124m'\u001b[39m],\n\u001b[1;32m     31\u001b[0m                     color\u001b[38;5;241m=\u001b[39m\u001b[38;5;124m'\u001b[39m\u001b[38;5;124mCapacity\u001b[39m\u001b[38;5;124m'\u001b[39m, color_continuous_scale\u001b[38;5;241m=\u001b[39mpx\u001b[38;5;241m.\u001b[39mcolors\u001b[38;5;241m.\u001b[39msequential\u001b[38;5;241m.\u001b[39mOranges,\n\u001b[1;32m     32\u001b[0m                     title\u001b[38;5;241m=\u001b[39m\u001b[38;5;124m'\u001b[39m\u001b[38;5;124mCapacity in development (bcm/y)\u001b[39m\u001b[38;5;124m'\u001b[39m)\n\u001b[1;32m     34\u001b[0m fig\u001b[38;5;241m.\u001b[39mupdate_geos(\n\u001b[1;32m     35\u001b[0m     resolution\u001b[38;5;241m=\u001b[39m\u001b[38;5;241m50\u001b[39m,\n\u001b[1;32m     36\u001b[0m     showcoastlines\u001b[38;5;241m=\u001b[39m\u001b[38;5;28;01mFalse\u001b[39;00m,\n\u001b[0;32m   (...)\u001b[0m\n\u001b[1;32m     46\u001b[0m     projection_rotation\u001b[38;5;241m=\u001b[39m\u001b[38;5;28mdict\u001b[39m(lon\u001b[38;5;241m=\u001b[39m\u001b[38;5;241m30\u001b[39m),\n\u001b[1;32m     47\u001b[0m     projection_scale\u001b[38;5;241m=\u001b[39m\u001b[38;5;241m5.5\u001b[39m)\n\u001b[0;32m---> 49\u001b[0m \u001b[43mfig\u001b[49m\u001b[38;5;241;43m.\u001b[39;49m\u001b[43mupdate_layout\u001b[49m\u001b[43m(\u001b[49m\n\u001b[1;32m     50\u001b[0m \u001b[43m    \u001b[49m\u001b[43mfont_family\u001b[49m\u001b[38;5;241;43m=\u001b[39;49m\u001b[38;5;124;43m'\u001b[39;49m\u001b[38;5;124;43mHelvetica\u001b[39;49m\u001b[38;5;124;43m'\u001b[39;49m\u001b[43m,\u001b[49m\n\u001b[1;32m     51\u001b[0m \u001b[43m    \u001b[49m\u001b[43mfont_color\u001b[49m\u001b[38;5;241;43m=\u001b[39;49m\u001b[43mpx\u001b[49m\u001b[38;5;241;43m.\u001b[39;49m\u001b[43mcolors\u001b[49m\u001b[38;5;241;43m.\u001b[39;49m\u001b[43msample_colorscale\u001b[49m\u001b[43m(\u001b[49m\u001b[38;5;124;43m'\u001b[39;49m\u001b[38;5;124;43mgreys\u001b[39;49m\u001b[38;5;124;43m'\u001b[39;49m\u001b[43m,\u001b[49m\u001b[43m \u001b[49m\u001b[38;5;241;43m0.5\u001b[39;49m\u001b[43m)\u001b[49m\u001b[43m[\u001b[49m\u001b[38;5;241;43m0\u001b[39;49m\u001b[43m]\u001b[49m\u001b[43m,\u001b[49m\n\u001b[1;32m     52\u001b[0m \u001b[43m    \u001b[49m\u001b[43mplot_bgcolor\u001b[49m\u001b[38;5;241;43m=\u001b[39;49m\u001b[38;5;124;43m'\u001b[39;49m\u001b[38;5;124;43mwhite\u001b[39;49m\u001b[38;5;124;43m'\u001b[39;49m\u001b[43m,\u001b[49m\n\u001b[1;32m     53\u001b[0m \u001b[43m    \u001b[49m\u001b[43mpaper_bgcolor\u001b[49m\u001b[38;5;241;43m=\u001b[39;49m\u001b[38;5;124;43m'\u001b[39;49m\u001b[38;5;124;43mwhite\u001b[39;49m\u001b[38;5;124;43m'\u001b[39;49m\u001b[43m,\u001b[49m\n\u001b[1;32m     54\u001b[0m \n\u001b[1;32m     55\u001b[0m \u001b[43m    \u001b[49m\u001b[43myaxis_title\u001b[49m\u001b[38;5;241;43m=\u001b[39;49m\u001b[38;5;124;43m'\u001b[39;49m\u001b[38;5;124;43mcountry\u001b[39;49m\u001b[38;5;124;43m'\u001b[39;49m\u001b[43m,\u001b[49m\n\u001b[1;32m     56\u001b[0m \u001b[43m    \u001b[49m\u001b[43mxaxis_title\u001b[49m\u001b[38;5;241;43m=\u001b[39;49m\u001b[38;5;124;43m'\u001b[39;49m\u001b[38;5;124;43mbcm/y\u001b[39;49m\u001b[38;5;124;43m'\u001b[39;49m\u001b[43m,\u001b[49m\n\u001b[1;32m     57\u001b[0m \u001b[43m    \u001b[49m\u001b[43mxaxis\u001b[49m\u001b[38;5;241;43m=\u001b[39;49m\u001b[43m{\u001b[49m\u001b[38;5;124;43m'\u001b[39;49m\u001b[38;5;124;43mside\u001b[39;49m\u001b[38;5;124;43m'\u001b[39;49m\u001b[43m:\u001b[49m\u001b[38;5;124;43m'\u001b[39;49m\u001b[38;5;124;43mtop\u001b[39;49m\u001b[38;5;124;43m'\u001b[39;49m\u001b[43m}\u001b[49m\u001b[43m,\u001b[49m\n\u001b[1;32m     58\u001b[0m \u001b[43m    \u001b[49m\u001b[43mtitle_y\u001b[49m\u001b[38;5;241;43m=\u001b[39;49m\u001b[38;5;241;43m.97\u001b[39;49m\u001b[43m,\u001b[49m\n\u001b[1;32m     59\u001b[0m \u001b[43m    \u001b[49m\u001b[43mtitle_yanchor\u001b[49m\u001b[38;5;241;43m=\u001b[39;49m\u001b[38;5;124;43m'\u001b[39;49m\u001b[38;5;124;43mtop\u001b[39;49m\u001b[38;5;124;43m'\u001b[39;49m\u001b[43m,\u001b[49m\n\u001b[1;32m     60\u001b[0m \n\u001b[1;32m     61\u001b[0m \u001b[43m    \u001b[49m\u001b[43mcoloraxis_colorbar_x\u001b[49m\u001b[38;5;241;43m=\u001b[39;49m\u001b[38;5;241;43m1.01\u001b[39;49m\u001b[43m,\u001b[49m\n\u001b[1;32m     62\u001b[0m \u001b[43m    \u001b[49m\u001b[43mcolorbar_thickness\u001b[49m\u001b[38;5;241;43m=\u001b[39;49m\u001b[38;5;241;43m10\u001b[39;49m\u001b[43m)\u001b[49m\n\u001b[1;32m     64\u001b[0m fig\u001b[38;5;241m.\u001b[39mupdate_traces(\n\u001b[1;32m     65\u001b[0m     colorbar\u001b[38;5;241m=\u001b[39m\u001b[38;5;28mdict\u001b[39m(thickness\u001b[38;5;241m=\u001b[39m\u001b[38;5;241m100\u001b[39m),\n\u001b[1;32m     66\u001b[0m     selector\u001b[38;5;241m=\u001b[39m\u001b[38;5;28mdict\u001b[39m(\u001b[38;5;28mtype\u001b[39m\u001b[38;5;241m=\u001b[39m\u001b[38;5;124m'\u001b[39m\u001b[38;5;124mchoropleth\u001b[39m\u001b[38;5;124m'\u001b[39m))\n\u001b[1;32m     67\u001b[0m     \u001b[38;5;66;03m#colorbar_thickness=10,\u001b[39;00m\n\u001b[1;32m     68\u001b[0m     \u001b[38;5;66;03m#colorbar_thicknessmode='fraction',\u001b[39;00m\n\u001b[1;32m     69\u001b[0m     \u001b[38;5;66;03m#selector=dict(type='choropleth'))\u001b[39;00m\n",
      "File \u001b[0;32m~/miniconda3/envs/gem/lib/python3.9/site-packages/plotly/basedatatypes.py:1403\u001b[0m, in \u001b[0;36mBaseFigure.update_layout\u001b[0;34m(self, dict1, overwrite, **kwargs)\u001b[0m\n\u001b[1;32m   1379\u001b[0m \u001b[38;5;28;01mdef\u001b[39;00m \u001b[38;5;21mupdate_layout\u001b[39m(\u001b[38;5;28mself\u001b[39m, dict1\u001b[38;5;241m=\u001b[39m\u001b[38;5;28;01mNone\u001b[39;00m, overwrite\u001b[38;5;241m=\u001b[39m\u001b[38;5;28;01mFalse\u001b[39;00m, \u001b[38;5;241m*\u001b[39m\u001b[38;5;241m*\u001b[39mkwargs):\n\u001b[1;32m   1380\u001b[0m     \u001b[38;5;124;03m\"\"\"\u001b[39;00m\n\u001b[1;32m   1381\u001b[0m \u001b[38;5;124;03m    Update the properties of the figure's layout with a dict and/or with\u001b[39;00m\n\u001b[1;32m   1382\u001b[0m \u001b[38;5;124;03m    keyword arguments.\u001b[39;00m\n\u001b[0;32m   (...)\u001b[0m\n\u001b[1;32m   1401\u001b[0m \u001b[38;5;124;03m        The Figure object that the update_layout method was called on\u001b[39;00m\n\u001b[1;32m   1402\u001b[0m \u001b[38;5;124;03m    \"\"\"\u001b[39;00m\n\u001b[0;32m-> 1403\u001b[0m     \u001b[38;5;28;43mself\u001b[39;49m\u001b[38;5;241;43m.\u001b[39;49m\u001b[43mlayout\u001b[49m\u001b[38;5;241;43m.\u001b[39;49m\u001b[43mupdate\u001b[49m\u001b[43m(\u001b[49m\u001b[43mdict1\u001b[49m\u001b[43m,\u001b[49m\u001b[43m \u001b[49m\u001b[43moverwrite\u001b[49m\u001b[38;5;241;43m=\u001b[39;49m\u001b[43moverwrite\u001b[49m\u001b[43m,\u001b[49m\u001b[43m \u001b[49m\u001b[38;5;241;43m*\u001b[39;49m\u001b[38;5;241;43m*\u001b[39;49m\u001b[43mkwargs\u001b[49m\u001b[43m)\u001b[49m\n\u001b[1;32m   1404\u001b[0m     \u001b[38;5;28;01mreturn\u001b[39;00m \u001b[38;5;28mself\u001b[39m\n",
      "File \u001b[0;32m~/miniconda3/envs/gem/lib/python3.9/site-packages/plotly/basedatatypes.py:5090\u001b[0m, in \u001b[0;36mBasePlotlyType.update\u001b[0;34m(self, dict1, overwrite, **kwargs)\u001b[0m\n\u001b[1;32m   5088\u001b[0m     \u001b[38;5;28;01mwith\u001b[39;00m \u001b[38;5;28mself\u001b[39m\u001b[38;5;241m.\u001b[39mfigure\u001b[38;5;241m.\u001b[39mbatch_update():\n\u001b[1;32m   5089\u001b[0m         BaseFigure\u001b[38;5;241m.\u001b[39m_perform_update(\u001b[38;5;28mself\u001b[39m, dict1, overwrite\u001b[38;5;241m=\u001b[39moverwrite)\n\u001b[0;32m-> 5090\u001b[0m         \u001b[43mBaseFigure\u001b[49m\u001b[38;5;241;43m.\u001b[39;49m\u001b[43m_perform_update\u001b[49m\u001b[43m(\u001b[49m\u001b[38;5;28;43mself\u001b[39;49m\u001b[43m,\u001b[49m\u001b[43m \u001b[49m\u001b[43mkwargs\u001b[49m\u001b[43m,\u001b[49m\u001b[43m \u001b[49m\u001b[43moverwrite\u001b[49m\u001b[38;5;241;43m=\u001b[39;49m\u001b[43moverwrite\u001b[49m\u001b[43m)\u001b[49m\n\u001b[1;32m   5091\u001b[0m \u001b[38;5;28;01melse\u001b[39;00m:\n\u001b[1;32m   5092\u001b[0m     BaseFigure\u001b[38;5;241m.\u001b[39m_perform_update(\u001b[38;5;28mself\u001b[39m, dict1, overwrite\u001b[38;5;241m=\u001b[39moverwrite)\n",
      "File \u001b[0;32m~/miniconda3/envs/gem/lib/python3.9/site-packages/plotly/basedatatypes.py:3885\u001b[0m, in \u001b[0;36mBaseFigure._perform_update\u001b[0;34m(plotly_obj, update_obj, overwrite)\u001b[0m\n\u001b[1;32m   3881\u001b[0m                 \u001b[38;5;28;01mcontinue\u001b[39;00m\n\u001b[1;32m   3882\u001b[0m         \u001b[38;5;66;03m# If no match, raise the error, which should already\u001b[39;00m\n\u001b[1;32m   3883\u001b[0m         \u001b[38;5;66;03m# contain the _raise_on_invalid_property_error\u001b[39;00m\n\u001b[1;32m   3884\u001b[0m         \u001b[38;5;66;03m# generated message\u001b[39;00m\n\u001b[0;32m-> 3885\u001b[0m         \u001b[38;5;28;01mraise\u001b[39;00m err\n\u001b[1;32m   3887\u001b[0m \u001b[38;5;66;03m# Convert update_obj to dict\u001b[39;00m\n\u001b[1;32m   3888\u001b[0m \u001b[38;5;66;03m# --------------------------\u001b[39;00m\n\u001b[1;32m   3889\u001b[0m \u001b[38;5;28;01mif\u001b[39;00m \u001b[38;5;28misinstance\u001b[39m(update_obj, BasePlotlyType):\n",
      "\u001b[0;31mValueError\u001b[0m: Invalid property specified for object of type plotly.graph_objs.Layout: 'colorbar'\n\nDid you mean \"colorway\"?\n\n    Valid properties:\n        activeshape\n            :class:`plotly.graph_objects.layout.Activeshape`\n            instance or dict with compatible properties\n        annotations\n            A tuple of\n            :class:`plotly.graph_objects.layout.Annotation`\n            instances or dicts with compatible properties\n        annotationdefaults\n            When used in a template (as\n            layout.template.layout.annotationdefaults), sets the\n            default property values to use for elements of\n            layout.annotations\n        autosize\n            Determines whether or not a layout width or height that\n            has been left undefined by the user is initialized on\n            each relayout. Note that, regardless of this attribute,\n            an undefined layout width or height is always\n            initialized on the first call to plot.\n        autotypenumbers\n            Using \"strict\" a numeric string in trace data is not\n            converted to a number. Using *convert types* a numeric\n            string in trace data may be treated as a number during\n            automatic axis `type` detection. This is the default\n            value; however it could be overridden for individual\n            axes.\n        bargap\n            Sets the gap (in plot fraction) between bars of\n            adjacent location coordinates.\n        bargroupgap\n            Sets the gap (in plot fraction) between bars of the\n            same location coordinate.\n        barmode\n            Determines how bars at the same location coordinate are\n            displayed on the graph. With \"stack\", the bars are\n            stacked on top of one another With \"relative\", the bars\n            are stacked on top of one another, with negative values\n            below the axis, positive values above With \"group\", the\n            bars are plotted next to one another centered around\n            the shared location. With \"overlay\", the bars are\n            plotted over one another, you might need to an\n            \"opacity\" to see multiple bars.\n        barnorm\n            Sets the normalization for bar traces on the graph.\n            With \"fraction\", the value of each bar is divided by\n            the sum of all values at that location coordinate.\n            \"percent\" is the same but multiplied by 100 to show\n            percentages.\n        boxgap\n            Sets the gap (in plot fraction) between boxes of\n            adjacent location coordinates. Has no effect on traces\n            that have \"width\" set.\n        boxgroupgap\n            Sets the gap (in plot fraction) between boxes of the\n            same location coordinate. Has no effect on traces that\n            have \"width\" set.\n        boxmode\n            Determines how boxes at the same location coordinate\n            are displayed on the graph. If \"group\", the boxes are\n            plotted next to one another centered around the shared\n            location. If \"overlay\", the boxes are plotted over one\n            another, you might need to set \"opacity\" to see them\n            multiple boxes. Has no effect on traces that have\n            \"width\" set.\n        calendar\n            Sets the default calendar system to use for\n            interpreting and displaying dates throughout the plot.\n        clickmode\n            Determines the mode of single click interactions.\n            \"event\" is the default value and emits the\n            `plotly_click` event. In addition this mode emits the\n            `plotly_selected` event in drag modes \"lasso\" and\n            \"select\", but with no event data attached (kept for\n            compatibility reasons). The \"select\" flag enables\n            selecting single data points via click. This mode also\n            supports persistent selections, meaning that pressing\n            Shift while clicking, adds to / subtracts from an\n            existing selection. \"select\" with `hovermode`: \"x\" can\n            be confusing, consider explicitly setting `hovermode`:\n            \"closest\" when using this feature. Selection events are\n            sent accordingly as long as \"event\" flag is set as\n            well. When the \"event\" flag is missing, `plotly_click`\n            and `plotly_selected` events are not fired.\n        coloraxis\n            :class:`plotly.graph_objects.layout.Coloraxis` instance\n            or dict with compatible properties\n        colorscale\n            :class:`plotly.graph_objects.layout.Colorscale`\n            instance or dict with compatible properties\n        colorway\n            Sets the default trace colors.\n        computed\n            Placeholder for exporting automargin-impacting values\n            namely `margin.t`, `margin.b`, `margin.l` and\n            `margin.r` in \"full-json\" mode.\n        datarevision\n            If provided, a changed value tells `Plotly.react` that\n            one or more data arrays has changed. This way you can\n            modify arrays in-place rather than making a complete\n            new copy for an incremental change. If NOT provided,\n            `Plotly.react` assumes that data arrays are being\n            treated as immutable, thus any data array with a\n            different identity from its predecessor contains new\n            data.\n        dragmode\n            Determines the mode of drag interactions. \"select\" and\n            \"lasso\" apply only to scatter traces with markers or\n            text. \"orbit\" and \"turntable\" apply only to 3D scenes.\n        editrevision\n            Controls persistence of user-driven changes in\n            `editable: true` configuration, other than trace names\n            and axis titles. Defaults to `layout.uirevision`.\n        extendfunnelareacolors\n            If `true`, the funnelarea slice colors (whether given\n            by `funnelareacolorway` or inherited from `colorway`)\n            will be extended to three times its original length by\n            first repeating every color 20% lighter then each color\n            20% darker. This is intended to reduce the likelihood\n            of reusing the same color when you have many slices,\n            but you can set `false` to disable. Colors provided in\n            the trace, using `marker.colors`, are never extended.\n        extendiciclecolors\n            If `true`, the icicle slice colors (whether given by\n            `iciclecolorway` or inherited from `colorway`) will be\n            extended to three times its original length by first\n            repeating every color 20% lighter then each color 20%\n            darker. This is intended to reduce the likelihood of\n            reusing the same color when you have many slices, but\n            you can set `false` to disable. Colors provided in the\n            trace, using `marker.colors`, are never extended.\n        extendpiecolors\n            If `true`, the pie slice colors (whether given by\n            `piecolorway` or inherited from `colorway`) will be\n            extended to three times its original length by first\n            repeating every color 20% lighter then each color 20%\n            darker. This is intended to reduce the likelihood of\n            reusing the same color when you have many slices, but\n            you can set `false` to disable. Colors provided in the\n            trace, using `marker.colors`, are never extended.\n        extendsunburstcolors\n            If `true`, the sunburst slice colors (whether given by\n            `sunburstcolorway` or inherited from `colorway`) will\n            be extended to three times its original length by first\n            repeating every color 20% lighter then each color 20%\n            darker. This is intended to reduce the likelihood of\n            reusing the same color when you have many slices, but\n            you can set `false` to disable. Colors provided in the\n            trace, using `marker.colors`, are never extended.\n        extendtreemapcolors\n            If `true`, the treemap slice colors (whether given by\n            `treemapcolorway` or inherited from `colorway`) will be\n            extended to three times its original length by first\n            repeating every color 20% lighter then each color 20%\n            darker. This is intended to reduce the likelihood of\n            reusing the same color when you have many slices, but\n            you can set `false` to disable. Colors provided in the\n            trace, using `marker.colors`, are never extended.\n        font\n            Sets the global font. Note that fonts used in traces\n            and other layout components inherit from the global\n            font.\n        funnelareacolorway\n            Sets the default funnelarea slice colors. Defaults to\n            the main `colorway` used for trace colors. If you\n            specify a new list here it can still be extended with\n            lighter and darker colors, see\n            `extendfunnelareacolors`.\n        funnelgap\n            Sets the gap (in plot fraction) between bars of\n            adjacent location coordinates.\n        funnelgroupgap\n            Sets the gap (in plot fraction) between bars of the\n            same location coordinate.\n        funnelmode\n            Determines how bars at the same location coordinate are\n            displayed on the graph. With \"stack\", the bars are\n            stacked on top of one another With \"group\", the bars\n            are plotted next to one another centered around the\n            shared location. With \"overlay\", the bars are plotted\n            over one another, you might need to an \"opacity\" to see\n            multiple bars.\n        geo\n            :class:`plotly.graph_objects.layout.Geo` instance or\n            dict with compatible properties\n        grid\n            :class:`plotly.graph_objects.layout.Grid` instance or\n            dict with compatible properties\n        height\n            Sets the plot's height (in px).\n        hiddenlabels\n            hiddenlabels is the funnelarea & pie chart analog of\n            visible:'legendonly' but it can contain many labels,\n            and can simultaneously hide slices from several\n            pies/funnelarea charts\n        hiddenlabelssrc\n            Sets the source reference on Chart Studio Cloud for\n            `hiddenlabels`.\n        hidesources\n            Determines whether or not a text link citing the data\n            source is placed at the bottom-right cored of the\n            figure. Has only an effect only on graphs that have\n            been generated via forked graphs from the Chart Studio\n            Cloud (at https://chart-studio.plotly.com or on-\n            premise).\n        hoverdistance\n            Sets the default distance (in pixels) to look for data\n            to add hover labels (-1 means no cutoff, 0 means no\n            looking for data). This is only a real distance for\n            hovering on point-like objects, like scatter points.\n            For area-like objects (bars, scatter fills, etc)\n            hovering is on inside the area and off outside, but\n            these objects will not supersede hover on point-like\n            objects in case of conflict.\n        hoverlabel\n            :class:`plotly.graph_objects.layout.Hoverlabel`\n            instance or dict with compatible properties\n        hovermode\n            Determines the mode of hover interactions. If\n            \"closest\", a single hoverlabel will appear for the\n            \"closest\" point within the `hoverdistance`. If \"x\" (or\n            \"y\"), multiple hoverlabels will appear for multiple\n            points at the \"closest\" x- (or y-) coordinate within\n            the `hoverdistance`, with the caveat that no more than\n            one hoverlabel will appear per trace. If *x unified*\n            (or *y unified*), a single hoverlabel will appear\n            multiple points at the closest x- (or y-) coordinate\n            within the `hoverdistance` with the caveat that no more\n            than one hoverlabel will appear per trace. In this\n            mode, spikelines are enabled by default perpendicular\n            to the specified axis. If false, hover interactions are\n            disabled.\n        iciclecolorway\n            Sets the default icicle slice colors. Defaults to the\n            main `colorway` used for trace colors. If you specify a\n            new list here it can still be extended with lighter and\n            darker colors, see `extendiciclecolors`.\n        images\n            A tuple of :class:`plotly.graph_objects.layout.Image`\n            instances or dicts with compatible properties\n        imagedefaults\n            When used in a template (as\n            layout.template.layout.imagedefaults), sets the default\n            property values to use for elements of layout.images\n        legend\n            :class:`plotly.graph_objects.layout.Legend` instance or\n            dict with compatible properties\n        mapbox\n            :class:`plotly.graph_objects.layout.Mapbox` instance or\n            dict with compatible properties\n        margin\n            :class:`plotly.graph_objects.layout.Margin` instance or\n            dict with compatible properties\n        meta\n            Assigns extra meta information that can be used in\n            various `text` attributes. Attributes such as the\n            graph, axis and colorbar `title.text`, annotation\n            `text` `trace.name` in legend items, `rangeselector`,\n            `updatemenus` and `sliders` `label` text all support\n            `meta`. One can access `meta` fields using template\n            strings: `%{meta[i]}` where `i` is the index of the\n            `meta` item in question. `meta` can also be an object\n            for example `{key: value}` which can be accessed\n            %{meta[key]}.\n        metasrc\n            Sets the source reference on Chart Studio Cloud for\n            `meta`.\n        modebar\n            :class:`plotly.graph_objects.layout.Modebar` instance\n            or dict with compatible properties\n        newshape\n            :class:`plotly.graph_objects.layout.Newshape` instance\n            or dict with compatible properties\n        paper_bgcolor\n            Sets the background color of the paper where the graph\n            is drawn.\n        piecolorway\n            Sets the default pie slice colors. Defaults to the main\n            `colorway` used for trace colors. If you specify a new\n            list here it can still be extended with lighter and\n            darker colors, see `extendpiecolors`.\n        plot_bgcolor\n            Sets the background color of the plotting area in-\n            between x and y axes.\n        polar\n            :class:`plotly.graph_objects.layout.Polar` instance or\n            dict with compatible properties\n        scene\n            :class:`plotly.graph_objects.layout.Scene` instance or\n            dict with compatible properties\n        selectdirection\n            When `dragmode` is set to \"select\", this limits the\n            selection of the drag to horizontal, vertical or\n            diagonal. \"h\" only allows horizontal selection, \"v\"\n            only vertical, \"d\" only diagonal and \"any\" sets no\n            limit.\n        selectionrevision\n            Controls persistence of user-driven changes in selected\n            points from all traces.\n        separators\n            Sets the decimal and thousand separators. For example,\n            *. * puts a '.' before decimals and a space between\n            thousands. In English locales, dflt is \".,\" but other\n            locales may alter this default.\n        shapes\n            A tuple of :class:`plotly.graph_objects.layout.Shape`\n            instances or dicts with compatible properties\n        shapedefaults\n            When used in a template (as\n            layout.template.layout.shapedefaults), sets the default\n            property values to use for elements of layout.shapes\n        showlegend\n            Determines whether or not a legend is drawn. Default is\n            `true` if there is a trace to show and any of these: a)\n            Two or more traces would by default be shown in the\n            legend. b) One pie trace is shown in the legend. c) One\n            trace is explicitly given with `showlegend: true`.\n        sliders\n            A tuple of :class:`plotly.graph_objects.layout.Slider`\n            instances or dicts with compatible properties\n        sliderdefaults\n            When used in a template (as\n            layout.template.layout.sliderdefaults), sets the\n            default property values to use for elements of\n            layout.sliders\n        smith\n            :class:`plotly.graph_objects.layout.Smith` instance or\n            dict with compatible properties\n        spikedistance\n            Sets the default distance (in pixels) to look for data\n            to draw spikelines to (-1 means no cutoff, 0 means no\n            looking for data). As with hoverdistance, distance does\n            not apply to area-like objects. In addition, some\n            objects can be hovered on but will not generate\n            spikelines, such as scatter fills.\n        sunburstcolorway\n            Sets the default sunburst slice colors. Defaults to the\n            main `colorway` used for trace colors. If you specify a\n            new list here it can still be extended with lighter and\n            darker colors, see `extendsunburstcolors`.\n        template\n            Default attributes to be applied to the plot. This\n            should be a dict with format: `{'layout':\n            layoutTemplate, 'data': {trace_type: [traceTemplate,\n            ...], ...}}` where `layoutTemplate` is a dict matching\n            the structure of `figure.layout` and `traceTemplate` is\n            a dict matching the structure of the trace with type\n            `trace_type` (e.g. 'scatter'). Alternatively, this may\n            be specified as an instance of\n            plotly.graph_objs.layout.Template.  Trace templates are\n            applied cyclically to traces of each type. Container\n            arrays (eg `annotations`) have special handling: An\n            object ending in `defaults` (eg `annotationdefaults`)\n            is applied to each array item. But if an item has a\n            `templateitemname` key we look in the template array\n            for an item with matching `name` and apply that\n            instead. If no matching `name` is found we mark the\n            item invisible. Any named template item not referenced\n            is appended to the end of the array, so this can be\n            used to add a watermark annotation or a logo image, for\n            example. To omit one of these items on the plot, make\n            an item with matching `templateitemname` and `visible:\n            false`.\n        ternary\n            :class:`plotly.graph_objects.layout.Ternary` instance\n            or dict with compatible properties\n        title\n            :class:`plotly.graph_objects.layout.Title` instance or\n            dict with compatible properties\n        titlefont\n            Deprecated: Please use layout.title.font instead. Sets\n            the title font. Note that the title's font used to be\n            customized by the now deprecated `titlefont` attribute.\n        transition\n            Sets transition options used during Plotly.react\n            updates.\n        treemapcolorway\n            Sets the default treemap slice colors. Defaults to the\n            main `colorway` used for trace colors. If you specify a\n            new list here it can still be extended with lighter and\n            darker colors, see `extendtreemapcolors`.\n        uirevision\n            Used to allow user interactions with the plot to\n            persist after `Plotly.react` calls that are unaware of\n            these interactions. If `uirevision` is omitted, or if\n            it is given and it changed from the previous\n            `Plotly.react` call, the exact new figure is used. If\n            `uirevision` is truthy and did NOT change, any\n            attribute that has been affected by user interactions\n            and did not receive a different value in the new figure\n            will keep the interaction value. `layout.uirevision`\n            attribute serves as the default for `uirevision`\n            attributes in various sub-containers. For finer control\n            you can set these sub-attributes directly. For example,\n            if your app separately controls the data on the x and y\n            axes you might set `xaxis.uirevision=*time*` and\n            `yaxis.uirevision=*cost*`. Then if only the y data is\n            changed, you can update `yaxis.uirevision=*quantity*`\n            and the y axis range will reset but the x axis range\n            will retain any user-driven zoom.\n        uniformtext\n            :class:`plotly.graph_objects.layout.Uniformtext`\n            instance or dict with compatible properties\n        updatemenus\n            A tuple of\n            :class:`plotly.graph_objects.layout.Updatemenu`\n            instances or dicts with compatible properties\n        updatemenudefaults\n            When used in a template (as\n            layout.template.layout.updatemenudefaults), sets the\n            default property values to use for elements of\n            layout.updatemenus\n        violingap\n            Sets the gap (in plot fraction) between violins of\n            adjacent location coordinates. Has no effect on traces\n            that have \"width\" set.\n        violingroupgap\n            Sets the gap (in plot fraction) between violins of the\n            same location coordinate. Has no effect on traces that\n            have \"width\" set.\n        violinmode\n            Determines how violins at the same location coordinate\n            are displayed on the graph. If \"group\", the violins are\n            plotted next to one another centered around the shared\n            location. If \"overlay\", the violins are plotted over\n            one another, you might need to set \"opacity\" to see\n            them multiple violins. Has no effect on traces that\n            have \"width\" set.\n        waterfallgap\n            Sets the gap (in plot fraction) between bars of\n            adjacent location coordinates.\n        waterfallgroupgap\n            Sets the gap (in plot fraction) between bars of the\n            same location coordinate.\n        waterfallmode\n            Determines how bars at the same location coordinate are\n            displayed on the graph. With \"group\", the bars are\n            plotted next to one another centered around the shared\n            location. With \"overlay\", the bars are plotted over one\n            another, you might need to an \"opacity\" to see multiple\n            bars.\n        width\n            Sets the plot's width (in px).\n        xaxis\n            :class:`plotly.graph_objects.layout.XAxis` instance or\n            dict with compatible properties\n        yaxis\n            :class:`plotly.graph_objects.layout.YAxis` instance or\n            dict with compatible properties\n        \nDid you mean \"colorway\"?\n\nBad property path:\ncolorbar_thickness\n^^^^^^^^"
     ]
    }
   ],
   "source": [
    "def fig_capacity_map():\n",
    "\n",
    "    terms_df_capacity_sum = pandas.DataFrame(0, index=country_list, columns=['Pre-construction','Construction'])\n",
    "    terms_df_region = terms_df_orig[(terms_df_orig.Country.isin(region_df_touse.Country))&\n",
    "                                    (terms_df_orig.Status.isin(['Construction','Proposed']))&\n",
    "                                    (terms_df_orig.Facility.isin(['Import']))]\n",
    "\n",
    "    # proposed\n",
    "    terms_df_capacity_sum['Pre-construction'] += terms_df_region.loc[terms_df_region.Status=='Proposed'].groupby(\n",
    "        'Country')['CapacityInBcm/y'].sum()\n",
    "    # construction\n",
    "    terms_df_capacity_sum['Construction'] += terms_df_region.loc[terms_df_region.Status=='Construction'].groupby(\n",
    "        'Country')['CapacityInBcm/y'].sum()\n",
    "\n",
    "    terms_df_capacity_sum.replace(numpy.nan,0,inplace=True)\n",
    "\n",
    "    # create cloropleth info\n",
    "    terms_df_capacity_sum['Capacity'] = terms_df_capacity_sum.sum(axis=1)\n",
    "\n",
    "    # add ISO Code for interaction with nat earth data\n",
    "    terms_df_capacity_sum['ISOCode'] = ''\n",
    "    for idx,row in terms_df_capacity_sum.iterrows():\n",
    "        terms_df_capacity_sum.loc[idx,'ISOCode'] = region_df_orig.loc[region_df_orig['Country']==row.name,'ISOCode'].values\n",
    "\n",
    "    # reorder for descending values\n",
    "    country_order = terms_df_capacity_sum.sum(axis=1).sort_values(ascending=True).index\n",
    "    terms_df_capacity_sum = terms_df_capacity_sum.reindex(country_order)\n",
    "\n",
    "    fig = px.choropleth(terms_df_capacity_sum, \n",
    "                        locations=terms_df_capacity_sum['ISOCode'],\n",
    "                        color='Capacity', color_continuous_scale=px.colors.sequential.Oranges,\n",
    "                        title='Capacity in development (bcm/y)')\n",
    "\n",
    "    fig.update_geos(\n",
    "        resolution=50,\n",
    "        showcoastlines=False,\n",
    "        #showcountries=True,\n",
    "        #coastlinecolor=px.colors.sample_colorscale('greys', 0.9)[0],\n",
    "        landcolor=px.colors.sample_colorscale('greys', 1e-5)[0],\n",
    "\n",
    "        showocean=True,\n",
    "        oceancolor=px.colors.sample_colorscale('blues', 0.05)[0],\n",
    "\n",
    "        projection_type='azimuthal equal area',\n",
    "        center=dict(lat=50, lon=7),\n",
    "        projection_rotation=dict(lon=30),\n",
    "        projection_scale=5.5)\n",
    "    \n",
    "    fig.update_layout(\n",
    "        font_family='Helvetica',\n",
    "        font_color=px.colors.sample_colorscale('greys', 0.5)[0],\n",
    "        plot_bgcolor='white',\n",
    "        paper_bgcolor='white',\n",
    "\n",
    "        yaxis_title='country',\n",
    "        xaxis_title='bcm/y',\n",
    "        xaxis={'side':'top'},\n",
    "        title_y=.97,\n",
    "        title_yanchor='top',\n",
    "\n",
    "        coloraxis_colorbar_x=1.01)\n",
    "    \n",
    "    fig.update_traces(\n",
    "        colorbar=dict(thickness=100),\n",
    "        selector=dict(type='choropleth'))\n",
    "        #colorbar_thickness=10,\n",
    "        #colorbar_thicknessmode='fraction',\n",
    "        #selector=dict(type='choropleth'))\n",
    "    \n",
    "    return(fig)\n",
    "\n",
    "fig = fig_capacity_map()\n",
    "fig.show()"
   ]
  },
  {
   "cell_type": "code",
   "execution_count": null,
   "id": "00988111-17f0-414c-ac5d-a9c87c616e86",
   "metadata": {},
   "outputs": [],
   "source": []
  },
  {
   "cell_type": "code",
   "execution_count": null,
   "id": "8d8b3d75-73a8-4e88-9ae6-cee6817e4a0e",
   "metadata": {},
   "outputs": [],
   "source": []
  },
  {
   "cell_type": "code",
   "execution_count": 360,
   "id": "deb5ff2c-d9bb-4d3f-9438-b0aafd861d4d",
   "metadata": {},
   "outputs": [
    {
     "name": "stdout",
     "output_type": "stream",
     "text": [
      "Dash is running on http://127.0.0.1:8050/\n",
      "\n",
      "Dash is running on http://127.0.0.1:8050/\n",
      "\n",
      "Dash is running on http://127.0.0.1:8050/\n",
      "\n",
      " * Serving Flask app '__main__' (lazy loading)\n",
      " * Environment: production\n",
      "\u001b[31m   WARNING: This is a development server. Do not use it in a production deployment.\u001b[0m\n",
      "\u001b[2m   Use a production WSGI server instead.\u001b[0m\n",
      " * Debug mode: off\n"
     ]
    },
    {
     "name": "stderr",
     "output_type": "stream",
     "text": [
      "/var/folders/h5/nfk59_vx7gg_58myc9jfk7_40000gn/T/ipykernel_28733/253172400.py:88: FutureWarning:\n",
      "\n",
      "Dropping of nuisance columns in DataFrame reductions (with 'numeric_only=None') is deprecated; in a future version this will raise TypeError.  Select only valid columns before calling the reduction.\n",
      "\n",
      " * Running on http://127.0.0.1:8050/ (Press CTRL+C to quit)\n",
      "127.0.0.1 - - [10/Mar/2022 23:22:58] \"GET / HTTP/1.1\" 200 -\n",
      "127.0.0.1 - - [10/Mar/2022 23:22:59] \"GET /_dash-component-suites/dash/deps/polyfill@7.v2_2_0m1645231447.12.1.min.js HTTP/1.1\" 200 -\n",
      "127.0.0.1 - - [10/Mar/2022 23:22:59] \"GET /_dash-component-suites/dash/deps/react@16.v2_2_0m1645231447.14.0.min.js HTTP/1.1\" 200 -\n",
      "127.0.0.1 - - [10/Mar/2022 23:22:59] \"GET /_dash-component-suites/dash/deps/react-dom@16.v2_2_0m1645231447.14.0.min.js HTTP/1.1\" 200 -\n",
      "127.0.0.1 - - [10/Mar/2022 23:22:59] \"GET /_dash-component-suites/dash_bootstrap_components/_components/dash_bootstrap_components.v1_0_3m1644118863.min.js HTTP/1.1\" 200 -\n",
      "127.0.0.1 - - [10/Mar/2022 23:22:59] \"GET /_dash-component-suites/dash/dash-renderer/build/dash_renderer.v2_2_0m1645231447.min.js HTTP/1.1\" 200 -\n",
      "127.0.0.1 - - [10/Mar/2022 23:22:59] \"GET /_dash-component-suites/dash/dcc/dash_core_components.v2_2_0m1645231447.js HTTP/1.1\" 200 -\n",
      "127.0.0.1 - - [10/Mar/2022 23:22:59] \"GET /_dash-component-suites/dash/dcc/dash_core_components-shared.v2_2_0m1645231447.js HTTP/1.1\" 200 -\n",
      "127.0.0.1 - - [10/Mar/2022 23:22:59] \"GET /_dash-component-suites/dash/html/dash_html_components.v2_0_2m1645231447.min.js HTTP/1.1\" 200 -\n",
      "127.0.0.1 - - [10/Mar/2022 23:22:59] \"GET /_dash-component-suites/dash/dash_table/bundle.v5_1_1m1645231447.js HTTP/1.1\" 200 -\n",
      "127.0.0.1 - - [10/Mar/2022 23:22:59] \"GET /_dash-layout HTTP/1.1\" 200 -\n",
      "127.0.0.1 - - [10/Mar/2022 23:22:59] \"GET /_dash-dependencies HTTP/1.1\" 200 -\n",
      "127.0.0.1 - - [10/Mar/2022 23:23:00] \"GET /_dash-component-suites/dash/dcc/async-graph.js HTTP/1.1\" 200 -\n",
      "127.0.0.1 - - [10/Mar/2022 23:23:00] \"GET /_dash-component-suites/dash/dcc/async-plotlyjs.js HTTP/1.1\" 200 -\n"
     ]
    }
   ],
   "source": [
    "# ****************************************\n",
    "# dashboard details\n",
    "# ****************************************\n",
    "\n",
    "external_stylesheets = [dbc.themes.BOOTSTRAP]\n",
    "#app = jupyter_dash.JupyterDash(__name__, external_stylesheets=external_stylesheets)\n",
    "app = dash.Dash(__name__, external_stylesheets=external_stylesheets)\n",
    "app.title = \"Europe Gas Tracker dashboard\"\n",
    "server = app.server\n",
    "\n",
    "# ******************************\n",
    "# create graphs of charts\n",
    "\n",
    "# dash_header = html.H2(children='Coal power dashboard')\n",
    "\n",
    "capacity_figure = dash.dcc.Graph(id='fig_capacity_id', \n",
    "                                 config={'displayModeBar':False},\n",
    "                                 figure=fig_capacity())\n",
    "length_figure = dash.dcc.Graph(id='fig_length_id', \n",
    "                               config={'displayModeBar':False},\n",
    "                               figure=fig_length())\n",
    "fid_figure = dash.dcc.Graph(id='fig_fid_id', \n",
    "                               config={'displayModeBar':False},\n",
    "                               figure=fig_fid())\n",
    "\n",
    "capacity_map = dash.dcc.Graph(id='fig_capacity_map_id',\n",
    "                              config={'displayModeBar':False},\n",
    "                              figure=fig_capacity_map())\n",
    "#, config={'displayModeBar':False})\n",
    "\n",
    "\n",
    "# ******************************\n",
    "# define layout\n",
    "\n",
    "# note the dash.html.Div([ up top is necessary for it to work...\n",
    "app.layout = dash.html.Div([\n",
    "    dbc.Container(fluid=True, children=[\n",
    "    dbc.Row([\n",
    "        dbc.Col(capacity_figure, style={'maxHeight':'400px', 'overflow':'scroll'}, align='start'),\n",
    "        dbc.Col(capacity_map, style={'maxHeight':'400px', 'overflow':'scroll'}, align='start')\n",
    "    ]),\n",
    "    dbc.Row(),\n",
    "    dbc.Row([\n",
    "        dbc.Col(length_figure, style={'maxHeight':'400px', 'overflow':'scroll'}, align='start'),\n",
    "        dbc.Col(fid_figure, style={'maxHeight':'400px', 'overflow':'scroll'}, align='start')])\n",
    "])\n",
    "])\n",
    "\n",
    "# style={'maxHeight':'400px', 'overflow':'scroll'} - add before align='start'\n",
    "\n",
    "#app.run_server(mode='external')\n",
    "#app.run_server(mode='inline')\n",
    "\n",
    "#@app.callback(\n",
    "#    dash.dependencies.Output('figure_capacity', 'figure'),\n",
    "#    dash.dependencies.Output('figure_length', 'figure'),\n",
    "#    dash.dependencies.Output('figure_fid', 'figure'))\n",
    "\n",
    "if __name__ == '__main__':\n",
    "    app.run_server()"
   ]
  },
  {
   "cell_type": "code",
   "execution_count": null,
   "id": "d2d18d0f-f5dd-4e8f-8e50-843cd18962ef",
   "metadata": {},
   "outputs": [],
   "source": []
  }
 ],
 "metadata": {
  "kernelspec": {
   "display_name": "gem",
   "language": "python",
   "name": "gem"
  },
  "language_info": {
   "codemirror_mode": {
    "name": "ipython",
    "version": 3
   },
   "file_extension": ".py",
   "mimetype": "text/x-python",
   "name": "python",
   "nbconvert_exporter": "python",
   "pygments_lexer": "ipython3",
   "version": "3.9.9"
  }
 },
 "nbformat": 4,
 "nbformat_minor": 5
}
